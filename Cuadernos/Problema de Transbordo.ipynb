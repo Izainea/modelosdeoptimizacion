{
 "cells": [
  {
   "cell_type": "markdown",
   "metadata": {
    "toc": true
   },
   "source": [
    "<h1>Problema de Transbordo<span class=\"tocSkip\"></span></h1>\n",
    "<div class=\"toc\"><ul class=\"toc-item\"></ul></div>"
   ]
  },
  {
   "cell_type": "markdown",
   "metadata": {},
   "source": [
    "Iniciamos llamndo a PULP"
   ]
  },
  {
   "cell_type": "code",
   "execution_count": 1,
   "metadata": {},
   "outputs": [],
   "source": [
    "from pulp import *"
   ]
  },
  {
   "cell_type": "markdown",
   "metadata": {},
   "source": [
    "Definimos en dos listas los nodos en nuestro problema de transporte:"
   ]
  },
  {
   "cell_type": "code",
   "execution_count": 2,
   "metadata": {},
   "outputs": [],
   "source": [
    "#Plantas de producción\n",
    "Plantas=[\"Denver\",\"Atlanta\"]\n",
    "\n",
    "#Almacenes Distribución\n",
    "Almacenes=[\"Kansas\",\"Louisville\"]\n",
    "\n",
    "#Tiendas (Llegada)\n",
    "Tiendas=[\"Detroit\",\"Miami\",\"Dallas\",\"Nueva Orleans\"]"
   ]
  },
  {
   "cell_type": "markdown",
   "metadata": {},
   "source": [
    "Producción"
   ]
  },
  {
   "cell_type": "code",
   "execution_count": 5,
   "metadata": {},
   "outputs": [
    {
     "data": {
      "text/plain": [
       "{'Denver': 600, 'Atlanta': 400}"
      ]
     },
     "execution_count": 5,
     "metadata": {},
     "output_type": "execute_result"
    }
   ],
   "source": [
    "produccion={\"Denver\":600,\"Atlanta\":400}\n",
    "produccion"
   ]
  },
  {
   "cell_type": "markdown",
   "metadata": {},
   "source": [
    "Demanda\n"
   ]
  },
  {
   "cell_type": "code",
   "execution_count": 6,
   "metadata": {},
   "outputs": [
    {
     "data": {
      "text/plain": [
       "{'Detroit': 200, 'Miami': 150, 'Dallas': 350, 'Nueva Orleans': 300}"
      ]
     },
     "execution_count": 6,
     "metadata": {},
     "output_type": "execute_result"
    }
   ],
   "source": [
    "demanda={\"Detroit\":200,\"Miami\":150,\"Dallas\":350,\"Nueva Orleans\":300}\n",
    "demanda"
   ]
  },
  {
   "cell_type": "markdown",
   "metadata": {},
   "source": [
    "Costos unitarios de transporte de plantas a almacenes:"
   ]
  },
  {
   "cell_type": "code",
   "execution_count": 9,
   "metadata": {},
   "outputs": [
    {
     "data": {
      "text/plain": [
       "defaultdict(<function pulp.utilities.__makeDict.<locals>.<lambda>()>,\n",
       "            {'Denver': defaultdict(<function pulp.utilities.__makeDict.<locals>.<lambda>()>,\n",
       "                         {'Kansas': 2, 'Louisville': 3}),\n",
       "             'Atlanta': defaultdict(<function pulp.utilities.__makeDict.<locals>.<lambda>()>,\n",
       "                         {'Kansas': 3, 'Louisville': 1})})"
      ]
     },
     "execution_count": 9,
     "metadata": {},
     "output_type": "execute_result"
    }
   ],
   "source": [
    "costos_Planta_Almacen=[ \n",
    "    [2,3],\n",
    "    [3,1]\n",
    "]\n",
    "costos_Planta_Almacen=makeDict([Plantas,Almacenes],costos_Planta_Almacen,0)\n",
    "costos_Planta_Almacen"
   ]
  },
  {
   "cell_type": "markdown",
   "metadata": {},
   "source": [
    "Costos unitarios de transporte de almacenes a tiendas:"
   ]
  },
  {
   "cell_type": "code",
   "execution_count": 10,
   "metadata": {},
   "outputs": [
    {
     "data": {
      "text/plain": [
       "defaultdict(<function pulp.utilities.__makeDict.<locals>.<lambda>()>,\n",
       "            {'Kansas': defaultdict(<function pulp.utilities.__makeDict.<locals>.<lambda>()>,\n",
       "                         {'Detroit': 2,\n",
       "                          'Miami': 6,\n",
       "                          'Dallas': 3,\n",
       "                          'Nueva Orleans': 6}),\n",
       "             'Louisville': defaultdict(<function pulp.utilities.__makeDict.<locals>.<lambda>()>,\n",
       "                         {'Detroit': 4,\n",
       "                          'Miami': 4,\n",
       "                          'Dallas': 6,\n",
       "                          'Nueva Orleans': 5})})"
      ]
     },
     "execution_count": 10,
     "metadata": {},
     "output_type": "execute_result"
    }
   ],
   "source": [
    "costos_Almacen_Tiendas=[ \n",
    "    [2,6,3,6],\n",
    "    [4,4,6,5]\n",
    "]\n",
    "costos_Almacen_Tiendas=makeDict([Almacenes,Tiendas],costos_Almacen_Tiendas,0)\n",
    "costos_Almacen_Tiendas"
   ]
  },
  {
   "cell_type": "markdown",
   "metadata": {},
   "source": [
    "Ahora definimos el problema de Programación lineal asociado a este problema de transporte:"
   ]
  },
  {
   "cell_type": "code",
   "execution_count": 11,
   "metadata": {},
   "outputs": [],
   "source": [
    "probTransbordo=LpProblem(\"Problema_de_transbordo\",LpMinimize)"
   ]
  },
  {
   "cell_type": "code",
   "execution_count": 12,
   "metadata": {},
   "outputs": [
    {
     "data": {
      "text/plain": [
       "[('Denver', 'Kansas'),\n",
       " ('Denver', 'Louisville'),\n",
       " ('Atlanta', 'Kansas'),\n",
       " ('Atlanta', 'Louisville')]"
      ]
     },
     "execution_count": 12,
     "metadata": {},
     "output_type": "execute_result"
    }
   ],
   "source": [
    "Rutas_Planta_Almacen= [(p,c) for p in Plantas for c in Almacenes]\n",
    "Rutas_Planta_Almacen"
   ]
  },
  {
   "cell_type": "code",
   "execution_count": 13,
   "metadata": {},
   "outputs": [
    {
     "data": {
      "text/plain": [
       "[('Kansas', 'Detroit'),\n",
       " ('Kansas', 'Miami'),\n",
       " ('Kansas', 'Dallas'),\n",
       " ('Kansas', 'Nueva Orleans'),\n",
       " ('Louisville', 'Detroit'),\n",
       " ('Louisville', 'Miami'),\n",
       " ('Louisville', 'Dallas'),\n",
       " ('Louisville', 'Nueva Orleans')]"
      ]
     },
     "execution_count": 13,
     "metadata": {},
     "output_type": "execute_result"
    }
   ],
   "source": [
    "Rutas_Almacen_Tiendas= [(p,c) for p in Almacenes for c in Tiendas]\n",
    "Rutas_Almacen_Tiendas"
   ]
  },
  {
   "cell_type": "markdown",
   "metadata": {},
   "source": [
    "Definimos las variables"
   ]
  },
  {
   "cell_type": "code",
   "execution_count": 14,
   "metadata": {},
   "outputs": [
    {
     "data": {
      "text/plain": [
       "{'Denver': {'Kansas': Ruta_Denver_Kansas,\n",
       "  'Louisville': Ruta_Denver_Louisville},\n",
       " 'Atlanta': {'Kansas': Ruta_Atlanta_Kansas,\n",
       "  'Louisville': Ruta_Atlanta_Louisville}}"
      ]
     },
     "execution_count": 14,
     "metadata": {},
     "output_type": "execute_result"
    }
   ],
   "source": [
    "variables_Planta_Almacen=LpVariable.dicts(\"Ruta\",(Plantas,Almacenes),0,None,LpContinuous)\n",
    "variables_Planta_Almacen"
   ]
  },
  {
   "cell_type": "code",
   "execution_count": 15,
   "metadata": {},
   "outputs": [
    {
     "data": {
      "text/plain": [
       "{'Kansas': {'Detroit': Ruta_Kansas_Detroit,\n",
       "  'Miami': Ruta_Kansas_Miami,\n",
       "  'Dallas': Ruta_Kansas_Dallas,\n",
       "  'Nueva Orleans': Ruta_Kansas_Nueva_Orleans},\n",
       " 'Louisville': {'Detroit': Ruta_Louisville_Detroit,\n",
       "  'Miami': Ruta_Louisville_Miami,\n",
       "  'Dallas': Ruta_Louisville_Dallas,\n",
       "  'Nueva Orleans': Ruta_Louisville_Nueva_Orleans}}"
      ]
     },
     "execution_count": 15,
     "metadata": {},
     "output_type": "execute_result"
    }
   ],
   "source": [
    "variables_Almacen_Tienda=LpVariable.dicts(\"Ruta\",(Almacenes,Tiendas),0,None,LpContinuous)\n",
    "variables_Almacen_Tienda"
   ]
  },
  {
   "cell_type": "markdown",
   "metadata": {},
   "source": [
    "Definimos la función objetivo"
   ]
  },
  {
   "cell_type": "code",
   "execution_count": 16,
   "metadata": {},
   "outputs": [
    {
     "name": "stdout",
     "output_type": "stream",
     "text": [
      "[2*Ruta_Denver_Kansas + 0, 3*Ruta_Denver_Louisville + 0, 3*Ruta_Atlanta_Kansas + 0, 1*Ruta_Atlanta_Louisville + 0, 2*Ruta_Kansas_Detroit + 0, 6*Ruta_Kansas_Miami + 0, 3*Ruta_Kansas_Dallas + 0, 6*Ruta_Kansas_Nueva_Orleans + 0, 4*Ruta_Louisville_Detroit + 0, 4*Ruta_Louisville_Miami + 0, 6*Ruta_Louisville_Dallas + 0, 5*Ruta_Louisville_Nueva_Orleans + 0]\n"
     ]
    }
   ],
   "source": [
    "v1=[variables_Planta_Almacen[p][c]*costos_Planta_Almacen[p][c] for (p,c) in Rutas_Planta_Almacen]\n",
    "v2=[variables_Almacen_Tienda[p][c]*costos_Almacen_Tiendas[p][c] for (p,c) in Rutas_Almacen_Tiendas]\n",
    "print(v1+v2)"
   ]
  },
  {
   "cell_type": "code",
   "execution_count": 17,
   "metadata": {},
   "outputs": [],
   "source": [
    "probTransbordo+= lpSum(v1+v2)"
   ]
  },
  {
   "cell_type": "markdown",
   "metadata": {},
   "source": [
    "Definimos las restricciones:"
   ]
  },
  {
   "cell_type": "code",
   "execution_count": 18,
   "metadata": {},
   "outputs": [],
   "source": [
    "for p in Plantas:\n",
    "    probTransbordo+=lpSum([variables_Planta_Almacen[p][c] for c in Almacenes])<=produccion[p],\"Producción_en_%s\"%p"
   ]
  },
  {
   "cell_type": "code",
   "execution_count": 19,
   "metadata": {},
   "outputs": [],
   "source": [
    "for c in Tiendas:\n",
    "    probTransbordo +=lpSum([variables_Almacen_Tienda[p][c] for p in Almacenes])>=demanda[c],\"Demanda_en_%s\"%c"
   ]
  },
  {
   "cell_type": "code",
   "execution_count": 20,
   "metadata": {},
   "outputs": [],
   "source": [
    "for c in Almacenes:\n",
    "    probTransbordo +=lpSum([variables_Planta_Almacen[p][c] for p in Plantas])==lpSum([variables_Almacen_Tienda[c][t] for t in Tiendas]),\"Distribución_en_%s\"%c"
   ]
  },
  {
   "cell_type": "code",
   "execution_count": 21,
   "metadata": {},
   "outputs": [
    {
     "data": {
      "text/plain": [
       "<bound method LpProblem.writeLP of Problema_de_transbordo:\n",
       "MINIMIZE\n",
       "3*Ruta_Atlanta_Kansas + 1*Ruta_Atlanta_Louisville + 2*Ruta_Denver_Kansas + 3*Ruta_Denver_Louisville + 3*Ruta_Kansas_Dallas + 2*Ruta_Kansas_Detroit + 6*Ruta_Kansas_Miami + 6*Ruta_Kansas_Nueva_Orleans + 6*Ruta_Louisville_Dallas + 4*Ruta_Louisville_Detroit + 4*Ruta_Louisville_Miami + 5*Ruta_Louisville_Nueva_Orleans + 0\n",
       "SUBJECT TO\n",
       "Producción_en_Denver: Ruta_Denver_Kansas + Ruta_Denver_Louisville <= 600\n",
       "\n",
       "Producción_en_Atlanta: Ruta_Atlanta_Kansas + Ruta_Atlanta_Louisville <= 400\n",
       "\n",
       "Demanda_en_Detroit: Ruta_Kansas_Detroit + Ruta_Louisville_Detroit >= 200\n",
       "\n",
       "Demanda_en_Miami: Ruta_Kansas_Miami + Ruta_Louisville_Miami >= 150\n",
       "\n",
       "Demanda_en_Dallas: Ruta_Kansas_Dallas + Ruta_Louisville_Dallas >= 350\n",
       "\n",
       "Demanda_en_Nueva_Orleans: Ruta_Kansas_Nueva_Orleans\n",
       " + Ruta_Louisville_Nueva_Orleans >= 300\n",
       "\n",
       "Distribución_en_Kansas: Ruta_Atlanta_Kansas + Ruta_Denver_Kansas\n",
       " - Ruta_Kansas_Dallas - Ruta_Kansas_Detroit - Ruta_Kansas_Miami\n",
       " - Ruta_Kansas_Nueva_Orleans = 0\n",
       "\n",
       "Distribución_en_Louisville: Ruta_Atlanta_Louisville + Ruta_Denver_Louisville\n",
       " - Ruta_Louisville_Dallas - Ruta_Louisville_Detroit - Ruta_Louisville_Miami\n",
       " - Ruta_Louisville_Nueva_Orleans = 0\n",
       "\n",
       "VARIABLES\n",
       "Ruta_Atlanta_Kansas Continuous\n",
       "Ruta_Atlanta_Louisville Continuous\n",
       "Ruta_Denver_Kansas Continuous\n",
       "Ruta_Denver_Louisville Continuous\n",
       "Ruta_Kansas_Dallas Continuous\n",
       "Ruta_Kansas_Detroit Continuous\n",
       "Ruta_Kansas_Miami Continuous\n",
       "Ruta_Kansas_Nueva_Orleans Continuous\n",
       "Ruta_Louisville_Dallas Continuous\n",
       "Ruta_Louisville_Detroit Continuous\n",
       "Ruta_Louisville_Miami Continuous\n",
       "Ruta_Louisville_Nueva_Orleans Continuous\n",
       ">"
      ]
     },
     "execution_count": 21,
     "metadata": {},
     "output_type": "execute_result"
    }
   ],
   "source": [
    "probTransbordo.writeLP"
   ]
  },
  {
   "cell_type": "code",
   "execution_count": 22,
   "metadata": {},
   "outputs": [
    {
     "data": {
      "text/plain": [
       "1"
      ]
     },
     "execution_count": 22,
     "metadata": {},
     "output_type": "execute_result"
    }
   ],
   "source": [
    "probTransbordo.solve()"
   ]
  },
  {
   "cell_type": "code",
   "execution_count": 23,
   "metadata": {},
   "outputs": [
    {
     "name": "stdout",
     "output_type": "stream",
     "text": [
      "Ruta_Atlanta_Kansas = 0.0\n",
      "Ruta_Atlanta_Louisville = 400.0\n",
      "Ruta_Denver_Kansas = 550.0\n",
      "Ruta_Denver_Louisville = 50.0\n",
      "Ruta_Kansas_Dallas = 350.0\n",
      "Ruta_Kansas_Detroit = 200.0\n",
      "Ruta_Kansas_Miami = 0.0\n",
      "Ruta_Kansas_Nueva_Orleans = 0.0\n",
      "Ruta_Louisville_Dallas = 0.0\n",
      "Ruta_Louisville_Detroit = 0.0\n",
      "Ruta_Louisville_Miami = 150.0\n",
      "Ruta_Louisville_Nueva_Orleans = 300.0\n"
     ]
    }
   ],
   "source": [
    "for v in probTransbordo.variables():\n",
    "    print(v.name, \"=\", v.varValue)"
   ]
  },
  {
   "cell_type": "code",
   "execution_count": 24,
   "metadata": {},
   "outputs": [
    {
     "name": "stdout",
     "output_type": "stream",
     "text": [
      "Costominimo=  5200.0\n"
     ]
    }
   ],
   "source": [
    "print(\"Costominimo= \", value(probTransbordo.objective))"
   ]
  }
 ],
 "metadata": {
  "kernelspec": {
   "display_name": "Python 3",
   "language": "python",
   "name": "python3"
  },
  "language_info": {
   "codemirror_mode": {
    "name": "ipython",
    "version": 3
   },
   "file_extension": ".py",
   "mimetype": "text/x-python",
   "name": "python",
   "nbconvert_exporter": "python",
   "pygments_lexer": "ipython3",
   "version": "3.8.5"
  },
  "toc": {
   "base_numbering": 1,
   "nav_menu": {},
   "number_sections": true,
   "sideBar": true,
   "skip_h1_title": true,
   "title_cell": "Problema de Transbordo",
   "title_sidebar": "Contents",
   "toc_cell": true,
   "toc_position": {
    "height": "calc(100% - 180px)",
    "left": "10px",
    "top": "150px",
    "width": "141.367px"
   },
   "toc_section_display": true,
   "toc_window_display": false
  }
 },
 "nbformat": 4,
 "nbformat_minor": 4
}
