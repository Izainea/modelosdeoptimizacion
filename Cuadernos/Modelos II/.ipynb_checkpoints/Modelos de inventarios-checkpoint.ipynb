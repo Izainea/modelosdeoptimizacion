{
 "cells": [
  {
   "cell_type": "markdown",
   "metadata": {},
   "source": [
    "<div style=\"background-color: #023324; \"><p><br></p>\n",
    "    <img src=\"https://www.uexternado.edu.co/wp-content/themes/externado_theme/images/logo-uec.svg\" alt=\"Universidad Externado\" width=\"150\" align=\"left\">\n",
    "         <h1  style=\"color: white;font-family:Lucida Sans Unicode, Lucida Grande, sans-serif\" align=\"center\">Modelos de inventarios </h1> \n",
    "<p><br></p>\n",
    "</div>    \n",
    "\n",
    "\n",
    "<p><br></p>\n",
    "\n",
    "\n",
    "\n",
    "Santiago Pérez Angarita\n"
   ]
  },
  {
   "cell_type": "markdown",
   "metadata": {},
   "source": [
    "Este cuadernillo explorará los **Modelos de inventario** cuya demanda tiene un comportamiento determinístico o estocástico. Se reconocerán algunas funciones básicas de **Python** que tendrán una aplicación posterior en los modelos anteriormente mencionados. "
   ]
  },
  {
   "cell_type": "markdown",
   "metadata": {},
   "source": [
    "## ¿Qué es un inventario?\n",
    "\n",
    "Cuando hablamos de **inventarios**, nos referirimos a mercancías, materiales, piezas, entre otro tipo de bienes puestos en reserva para uso o ventas futuras. Algunas de las razones para que una empresa tenga un inventario se relacionan con la posibilidad de hacer una buena planeación a futuro de sus activos o como provisión ante comportamientos fluctuantes o de incertidumbre. Es por esto que, vamos a considerar dos preguntas en las políticas de inventarios: i) **¿Qué tanto debe ser renovado el inventario?** y ii)  **¿Cuándo debe ser renovado el inventario?**, Vale aclarar que estás preguntas tendrán una respuesta conforme al comportamiento que tenga la demanda dentro del modelo generado. \n",
    "\n",
    "En este cuadernillo se van a considerar dos tipos de modelos de inventario: i) Los determinísticos, que son aquellos cuya demanda es conocida y, ii) Los estocásticos en donde la demanda es una variable aleatoria para cualquier periodo. De acuerdo con ello, el siguiente diagrama resume algunos de los modelos a considerar durante este curso de acuerdo al comportamiento de la demanda:\n",
    "\n",
    "![Imagen](https://github.com/MRippe7/images/blob/master/MapCon.png?raw=true)\n",
    "\n",
    "Ahora bien, antes de continuar con el desarrollo de cada uno de los modelos anteriormente mencionados, se hace necesario hablar de algunos de los costos asociados a un inventario, como lo son: i) Los **costos de retención**, que corresponden a aquellos costos asociados al mantenimiento del inventario tales como: seguros, intereses, depreciación, transporte, impuestos, hurtos, daños, etc.)  y  ii) **los costos de ordenar**, que cubre los fletes, despachos, órdenes de compra, servicio telefónico etc. "
   ]
  },
  {
   "cell_type": "markdown",
   "metadata": {},
   "source": [
    "### Cantidad económica de pedido\n",
    "\n",
    "**Situación 1** (*Tomada del libro : Producción y operaciones aplicadas a las Pyme, autor: Carlos José Bello Pérez*)\n",
    "\n",
    "\n",
    "\n",
    "\n",
    "La empresa Jean & Jean, fabricante de ropa informal, tiene previsto un programa anual de producción de 40 000 unidades de jeans para dama, la información proveniente del departamento  de registro y costos es la siguiente: \n",
    "\n",
    "**Costo unitario**\n",
    "\n",
    "|Tela| 107 metros/unidad | \\$ 3600/metro  |\n",
    "|--------|--------|---------|\n",
    "|Mano de obra| 16 minutos/unidad | \\$ 16.11/minutos |\n",
    "|Gastos generales| \\$ 17440000/40000un. | |\n",
    "\n",
    "\n",
    "**Costo de pedido**\n",
    "\n",
    "|Hora máquinas| 8 horas / pedido | \\$ 746 / hora | \n",
    "|---:|---:|---:|                 \n",
    "|Mano de obra preparación| 18 hora/ pedido | \\$ 966.6 / hora|\n",
    "\n",
    "**Carga gastos generales y administrativos**\n",
    "\n",
    "Horas máquinas  + Mano de obra \n",
    "\n",
    "**Costo de almacenamiento en porcentaje del inventario promedio**\n",
    "\n",
    "|Seguros| 0.4|\n",
    "|----|----|\n",
    "|Intereses|2.3|\n",
    "|Depreciación|1.6|\n",
    "|Transporte|0.6|\n",
    "|Impuestos|1.8|\n",
    "|Manejo y distribución|1.2|\n",
    "|Obsolescencia|0.5|\n",
    "|Pérdida|0.2|\n",
    "|Equipos|0.8|\n",
    "|Espacio|2.5|\n",
    "\n",
    "\n",
    "¿Cuál es número de \"corridas\" de producción que generan el menor costo posible?\n",
    "\n",
    "¿Cuál es el menor costo posible?\n",
    "\n"
   ]
  },
  {
   "cell_type": "code",
   "execution_count": 1,
   "metadata": {},
   "outputs": [
    {
     "name": "stdout",
     "output_type": "stream",
     "text": [
      "Costo unitario de la tela es: 3852.0\n",
      "Costo unitario de la mano de obra es: 257.76\n",
      "Costo unitario de los gastos generales 4360.0\n"
     ]
    }
   ],
   "source": [
    "#Gasto tela x unidad\n",
    "tela_x_unidad=1.07*3600\n",
    "mano_obra_x_unidad=16*16.11\n",
    "gastos_generales_x_unidad=17440000/4000\n",
    "print(\"Costo unitario de la tela es:\",tela_x_unidad)\n",
    "print(\"Costo unitario de la mano de obra es:\",mano_obra_x_unidad)\n",
    "print(\"Costo unitario de los gastos generales\",gastos_generales_x_unidad)"
   ]
  },
  {
   "cell_type": "code",
   "execution_count": 2,
   "metadata": {},
   "outputs": [
    {
     "name": "stdout",
     "output_type": "stream",
     "text": [
      "Costo por pedido de la maquinaria: 5968\n",
      "Costo por pedido mano de obra: 17398.8\n"
     ]
    }
   ],
   "source": [
    "#Costo de preparación\n",
    "Maquinas_x_pedido=8*746\n",
    "Mano_de_obra_x_pedido=18*966.6\n",
    "print(\"Costo por pedido de la maquinaria:\",Maquinas_x_pedido)\n",
    "print(\"Costo por pedido mano de obra:\",Mano_de_obra_x_pedido)"
   ]
  },
  {
   "cell_type": "code",
   "execution_count": 3,
   "metadata": {},
   "outputs": [
    {
     "name": "stdout",
     "output_type": "stream",
     "text": [
      "gastos generales por pedido: 23366.8\n"
     ]
    }
   ],
   "source": [
    "#Gasto general y administrativo\n",
    "gastos_generales_x_pedido=Maquinas_x_pedido+Mano_de_obra_x_pedido\n",
    "print(\"gastos generales por pedido:\",gastos_generales_x_pedido)"
   ]
  },
  {
   "cell_type": "code",
   "execution_count": 4,
   "metadata": {},
   "outputs": [
    {
     "name": "stdout",
     "output_type": "stream",
     "text": [
      "Total costo unitario 8212.0\n",
      "Total costo por pedido 46733.6\n"
     ]
    }
   ],
   "source": [
    "print (\"Total costo unitario\",tela_x_unidad+gastos_generales_x_unidad)\n",
    "print(\"Total costo por pedido\",Maquinas_x_pedido+Mano_de_obra_x_pedido+gastos_generales_x_pedido)"
   ]
  },
  {
   "cell_type": "code",
   "execution_count": 5,
   "metadata": {},
   "outputs": [
    {
     "name": "stdout",
     "output_type": "stream",
     "text": [
      "Costo de almacenamiento (% del inventario) 11.9\n"
     ]
    }
   ],
   "source": [
    "#Costos de almacenamiento\n",
    "\n",
    "\n",
    "p=0.4+2.3+1.6+0.6+1.8+1.2+0.5+0.2+0.8+2.5\n",
    "print(\"Costo de almacenamiento (% del inventario)\",round(p,1))"
   ]
  },
  {
   "cell_type": "markdown",
   "metadata": {},
   "source": [
    "$$C_t=Cu*S+Cp*(S/q0)+(P*Cu*q0/2)$$"
   ]
  },
  {
   "cell_type": "code",
   "execution_count": 6,
   "metadata": {
    "scrolled": true
   },
   "outputs": [],
   "source": [
    "from sympy import *\n",
    "x=Symbol(\"x\")\n",
    "Costo=4545.76*40000+46733.6*(40000/x)+(0.119*4545.76*x/2)"
   ]
  },
  {
   "cell_type": "code",
   "execution_count": 7,
   "metadata": {},
   "outputs": [
    {
     "data": {
      "image/png": "[encoded data removed]",
      "text/plain": [
       "<Figure size 432x288 with 1 Axes>"
      ]
     },
     "metadata": {
      "needs_background": "light"
     },
     "output_type": "display_data"
    },
    {
     "data": {
      "text/plain": [
       "<sympy.plotting.plot.Plot at 0x7fcc30657810>"
      ]
     },
     "execution_count": 7,
     "metadata": {},
     "output_type": "execute_result"
    }
   ],
   "source": [
    "plot(Costo,(x,500,40000))"
   ]
  },
  {
   "cell_type": "code",
   "execution_count": 8,
   "metadata": {},
   "outputs": [
    {
     "data": {
      "text/latex": [
       "$\\displaystyle 192696042.4$"
      ],
      "text/plain": [
       "192696042.400000"
      ]
     },
     "execution_count": 8,
     "metadata": {},
     "output_type": "execute_result"
    }
   ],
   "source": [
    "Costo.subs(x,40000)"
   ]
  },
  {
   "cell_type": "markdown",
   "metadata": {},
   "source": [
    "Antes de hallar las respuestas de la **situación 1** es importante interpretar el comportamiento del modelo de cantidad económica como un diagrama que depende del tiempo y del tamaño del inventario:\n",
    "\n",
    "![Imagen](https://github.com/MRippe7/images/blob/master/EOQ.png?raw=true)\n",
    "\n",
    "De igual forma, se identifican las siguientes ecuaciones que responden no solo a las preguntas de **¿Qué tanto debe ser renovado el inventario?** y **¿Cuándo debe ser renovado el inventario?**, sino también los costos y tiempos asociados al **modelo de cantidad económica de pedido**\n",
    "\n",
    "**¿Cuánto? Cantidad económica de pedido que minimiza costos**\n",
    "\n",
    "$Q^*=\\sqrt{\\dfrac{2*S*Cp}{p*Cu}}$ \\\\\n",
    "\n",
    "**Costo de mantener una unidad en el inventario**\n",
    "\n",
    "$C_m=T_r * C_u$ \\\\\n",
    "\n",
    "**Costo total= Costo de retención + Costo de ordenar**\n",
    "\n",
    "$C_{total}=\\dfrac{1}{2} Q\\cdot C_m + \\dfrac{D}{Q} \\cdot C_p$\n",
    "\n",
    "**¿Cuándo? Punto de reorden**\n",
    "\n",
    "$P_o=S\\cdot /t_E$ (Ecuación de más fácil comprensión en el cuaderno del profesor)\n",
    "\n",
    "Tiempo de ciclo\n",
    "\n",
    "$T=\\dfrac{DH \\cdot Q^*}{D}$"
   ]
  },
  {
   "cell_type": "code",
   "execution_count": 9,
   "metadata": {},
   "outputs": [],
   "source": [
    "Cantidad_óptima_x_pedido=sqrt((2*40000*46733.6)/(0.119*4545.76))"
   ]
  },
  {
   "cell_type": "code",
   "execution_count": 10,
   "metadata": {},
   "outputs": [
    {
     "data": {
      "text/latex": [
       "$\\displaystyle 2628.95335110281$"
      ],
      "text/plain": [
       "2628.95335110281"
      ]
     },
     "execution_count": 10,
     "metadata": {},
     "output_type": "execute_result"
    }
   ],
   "source": [
    "Cantidad_óptima_x_pedido"
   ]
  },
  {
   "cell_type": "code",
   "execution_count": 11,
   "metadata": {},
   "outputs": [
    {
     "data": {
      "text/latex": [
       "$\\displaystyle 15.2151805901084$"
      ],
      "text/plain": [
       "15.2151805901084"
      ]
     },
     "execution_count": 11,
     "metadata": {},
     "output_type": "execute_result"
    }
   ],
   "source": [
    "Cantidad_pedidos_anuales=N(40000/Cantidad_óptima_x_pedido)\n",
    "Cantidad_pedidos_anuales \n",
    "#N para que haga calculo"
   ]
  },
  {
   "cell_type": "code",
   "execution_count": 12,
   "metadata": {},
   "outputs": [
    {
     "data": {
      "text/latex": [
       "$\\displaystyle 23.9891993288131$"
      ],
      "text/plain": [
       "23.9891993288131"
      ]
     },
     "execution_count": 12,
     "metadata": {},
     "output_type": "execute_result"
    }
   ],
   "source": [
    "Periodo_entre_pedidos=N(365/Cantidad_pedidos_anuales)\n",
    "Periodo_entre_pedidos\n",
    "#Cada cuanto se debe renovar inventario"
   ]
  },
  {
   "cell_type": "code",
   "execution_count": 13,
   "metadata": {},
   "outputs": [
    {
     "data": {
      "text/latex": [
       "$\\displaystyle 183252520.327476$"
      ],
      "text/plain": [
       "183252520.327476"
      ]
     },
     "execution_count": 13,
     "metadata": {},
     "output_type": "execute_result"
    }
   ],
   "source": [
    "Costo.subs(x,2629)"
   ]
  },
  {
   "cell_type": "markdown",
   "metadata": {},
   "source": [
    "**CALCULADORA EOQ**"
   ]
  },
  {
   "cell_type": "code",
   "execution_count": 14,
   "metadata": {
    "scrolled": true
   },
   "outputs": [
    {
     "name": "stdout",
     "output_type": "stream",
     "text": [
      "Por favor digite el valor de la demanda anual:1\n",
      "Por favor digite el costo de pedido del modelo:1\n",
      "Por favor digite el costo unitario:1\n",
      "Por favor digite la tasa de retención:1\n",
      "POr favor digite el tiempo de espera:1\n",
      "La cantidad de económica de pedido es: 1.4142135623730951\n",
      "El costo mínimo es:  2.414213562373095\n",
      "516.1879502661798\n"
     ]
    }
   ],
   "source": [
    "D=input(\"Por favor digite el valor de la demanda anual:\" )\n",
    "C_p=input(\"Por favor digite el costo de pedido del modelo:\" )\n",
    "C_u=input(\"Por favor digite el costo unitario:\" )\n",
    "Tr=input(\"Por favor digite la tasa de retención:\" )\n",
    "t_E=input(\"POr favor digite el tiempo de espera:\" )\n",
    "D, C_p, C_u, Tr, t_E = float(D), float(C_p), float(C_u), float(Tr), float(t_E) #Hago esto(float) porque las variables pueden tener decimales\n",
    "C_m=Tr*C_u # Esta fórmula calcula el costo de mantener una unidad \n",
    "Q=((2*D*C_p)/(C_m))**(1/2)\n",
    "C_t=((1/2)*Q*C_m)+((D/Q)*C_p)+C_u*D\n",
    "T=(365*Q/D)\n",
    "print(\"La cantidad de económica de pedido es:\", Q)\n",
    "print(\"El costo mínimo es: \",C_t)\n",
    "print(T)"
   ]
  },
  {
   "cell_type": "markdown",
   "metadata": {},
   "source": [
    "### Tamaño de lote de producción\n",
    "\n",
    "\n",
    "**Situación 2** (*Tomada del libro : Producción y operaciones aplicadas a las Pyme, autor: Carlos José Bello Pérez*)\n",
    "\n",
    "La siguiente información se obtuvo de la compañía Snaptools\n",
    "\n",
    "| | |\n",
    "|-----|-----|\n",
    "|Consumo estimado para el año 2005 | 105000 unidades |\n",
    "|Tasa de producción para el año 2005 | 250000 unidades|\n",
    "|Costo unitario promedio| \\$ 26.75/ unidad |\n",
    "|Costo alquiler bodega | \\$ 2.5 / unidad|\n",
    "|Costo preparación pedido| \\$ 37.4 / pedido|\n",
    "|Seguros inventarios |10\\% costo inventario promedio|\n",
    "|Costo promedio recepción | \\$30.06 /pedido|\n",
    "|Gastos generales y administrativos oficina compras| \\$ 70.16/pedido|\n",
    "|Pérdidas de producto|2\\% del consumo total|\n",
    "|Sobre costo (intereses| 8\\% del costo unitario|\n",
    "\n",
    "\n",
    "Si hay un tiempo de espera de cinco(5) días para la recepción y 234 días laborales por año ¿Cuál es el tamaño de lote de producción?\n",
    "\n"
   ]
  },
  {
   "cell_type": "markdown",
   "metadata": {},
   "source": [
    "Antes de hallar las respuestas de la **situación 2** es importante interpretar el comportamiento del modelo de tamaño de lote de producción como un diagrama que depende del tiempo y del tamaño del inventario:\n",
    "\n",
    "![Imagen](https://github.com/MRippe7/images/blob/master/TLP.png?raw=true)\n",
    "\n",
    "Igual que en el modelo anterior, se identifican las siguientes ecuaciones que responden no solo a las preguntas de ¿Qué tanto debe ser renovado el inventario? y ¿Cuándo debe ser renovado el inventario?, sino también los costos y tiempos asociados al **modelo de tamaño de lote de producción.** "
   ]
  },
  {
   "cell_type": "markdown",
   "metadata": {},
   "source": [
    "**Inventario máximo**\n",
    "\n",
    "I=(p-d)*t"
   ]
  },
  {
   "cell_type": "markdown",
   "metadata": {},
   "source": [
    "**Inventario máximo** \n",
    "\n",
    "$Inv_{max}=\\left(1-\\dfrac{D}{P}\\right) \\cdot Q$"
   ]
  },
  {
   "cell_type": "markdown",
   "metadata": {},
   "source": [
    "\n",
    "**Duración fase de producción** \n",
    "\n",
    "$t =\\dfrac{Q}{p}$"
   ]
  },
  {
   "cell_type": "markdown",
   "metadata": {},
   "source": [
    "**¿Cuánto? Tamaño de lote de producción económico**\n",
    "\n",
    " $Q^* =\\sqrt{\\dfrac{2 D  C_p}{\\left(1-\\dfrac{D}{P}\\right)  C_m }}$"
   ]
  },
  {
   "cell_type": "markdown",
   "metadata": {},
   "source": [
    "**Inventario máximo** \n",
    "\n",
    "$Inv_{max}=\\left(1-\\dfrac{D}{P}\\right) \\cdot Q$\n",
    "\n",
    "**Inventario promedio** \n",
    "\n",
    "$Inv_{prom}=\\dfrac{1}{2} \\cdot \\left(1-\\dfrac{D}{P}\\right) \\cdot Q$\n",
    "\n",
    "**¿Cuánto? Tamaño de lote de producción económico**\n",
    "\n",
    " $Q^* =\\sqrt{\\dfrac{2 D  C_p}{\\left(1-\\dfrac{D}{P}\\right)  C_m }}$\n",
    "\n",
    "**¿Cuándo? Punto de reorden**\n",
    "\n",
    "$P_o=d\\cdot t_E$\n",
    "\n",
    "**Costo total**\n",
    "\n",
    "$C_T=\\dfrac{1}{2} \\cdot \\left(1-\\dfrac{D}{P}\\right) Q  C_m + \\dfrac{D}{Q} C_p$\n",
    "\n",
    "**Tiempo de ciclo**\n",
    "\n",
    "$T = \\dfrac{DH \\cdot Q}{D}$\n"
   ]
  },
  {
   "cell_type": "code",
   "execution_count": 15,
   "metadata": {},
   "outputs": [
    {
     "name": "stdout",
     "output_type": "stream",
     "text": [
      "Digite la demanda anual del modelo:6000\n",
      "Digite la producción anual del modelo:24000\n",
      "Digite el costo de pedido:150\n",
      "Digite la tasa de retención:0.12\n",
      "Digite el costo unitario:10\n",
      "¿Cuántos días laboran al año?:120\n",
      "El tamaño de lote producción es:  1414.213562373095\n",
      "El costo mínimo es: 1272.7922061357854\n",
      "El inventario máximo es: 1060.6601717798212\n",
      "El tiempo de ciclo es 28.284271247461906 días\n",
      "La duración de la fase de producción es: 7.0710678118654755\n"
     ]
    }
   ],
   "source": [
    "D=input(\"Digite la demanda anual del modelo:\" )\n",
    "P=input(\"Digite la producción anual del modelo:\" )\n",
    "C_p=input(\"Digite el costo de pedido:\"  )\n",
    "TR=input(\"Digite la tasa de retención:\" )\n",
    "C_u=input(\"Digite el costo unitario:\" )\n",
    "DH=input(\"¿Cuántos días laboran al año?:\" )\n",
    "D, P, C_p, TR, C_u, DH = float(D), float(P), float(C_p), float(TR), float(C_u), float(DH)\n",
    "C_m=TR*C_u\n",
    "Q=((2*D*C_p)/((1-(D/P))*C_m))**(1/2)\n",
    "C_t=(1/2)*(1-(D/P))*Q*C_m +(D/Q)*C_p\n",
    "Inv_max=(1-(D/P))*Q\n",
    "T=(DH*Q)/D\n",
    "t=Q/(P/DH)\n",
    "print(\"El tamaño de lote producción es: \",Q)\n",
    "print(\"El costo mínimo es:\", C_t)\n",
    "print(\"El inventario máximo es:\" ,Inv_max)\n",
    "print(\"El tiempo de ciclo es\", T, \"días\")\n",
    "print(\"La duración de la fase de producción es:\", t)"
   ]
  },
  {
   "cell_type": "code",
   "execution_count": 16,
   "metadata": {},
   "outputs": [
    {
     "data": {
      "text/plain": [
       "2243.5897435897436"
      ]
     },
     "execution_count": 16,
     "metadata": {},
     "output_type": "execute_result"
    }
   ],
   "source": [
    "(105000/234)*5"
   ]
  },
  {
   "cell_type": "markdown",
   "metadata": {},
   "source": [
    "### Faltantes planeados\n",
    "\n",
    "**Situación 3** \n",
    "\n",
    "Suponga que el Jefe de inventarios de la empresa Jean & Jean de la **Situación 1**, considera necesario incluir algunos de sus Jeans como pedidos en espera, con el fin de reducir algunos de los gastos de la compañía. Tenga en cuenta la siguiente información: \n",
    "\n",
    "|Costo de ordenar en espera| \\$ 1622 / unidad  | \n",
    "|----|----|\n",
    "|Días laborales por año | 234 días |\n",
    "\n",
    "Si se espera que no más del 15\\% de unidades de Jeans sean pedidos en espera ¿Usted considera que se reducirían algunos de los gatos de Jean & Jean?"
   ]
  },
  {
   "cell_type": "markdown",
   "metadata": {},
   "source": [
    "Antes de hallar las respuestas de la **situación 3** es importante interpretar el comportamiento del modelo de faltantes planeados como un diagrama que depende del tiempo y del tamaño del inventario:\n",
    "\n",
    "![Imagen](https://github.com/MRippe7/images/blob/master/FP.png?raw=true)\n",
    "\n",
    "De igual forma, se identifican las siguientes ecuaciones que responden a la cantidades óptimas de pedidos en espera y cantidades óptima de pedido, también los costos y tiempos asociados al modelo de faltantes planeados.\n",
    "\n",
    "**Inventario promedio**\n",
    " \n",
    "\n",
    "$Inv_{Prom}=\\dfrac{(Q-S)^2}{2Q}$\n",
    "\n",
    "**Días en los que el inventario está disponible**\n",
    "\n",
    "$t_1=\\dfrac{Q-S}{d}$ días\n",
    "\n",
    "**Días en los que se agotan las existencias**\n",
    "\n",
    "$t_2=\\dfrac{S}{d}$ días\n",
    "\n",
    "**Número de pedidos por año**\n",
    "\n",
    "$N_P=\\dfrac{D}{Q}$\n",
    "\n",
    "**Pedidos promedios en espera**\n",
    "\n",
    "$S_{Prom} = \\dfrac{S^2}{2Q}$\n",
    "\n",
    "**Cantidad óptima de pedido**\n",
    "\n",
    " $Q^* =\\sqrt{\\dfrac{2 D  C_p}{C_m} \\left( \\dfrac{C_m + C_E}{C_E} \\right)}$\n",
    " \n",
    "**Pedidos en espera óptimos**\n",
    "\n",
    "$S^* =Q^* \\left(\\dfrac{C_m}{C_m + C_E} \\right)$\n",
    "\n",
    "**Costo total por año**\n",
    "\n",
    "$C_{total}=\\dfrac{(Q-S)^2}{2Q} \\cdot C_m + \\dfrac{D}{Q} \\cdot C_p + \\dfrac{S^2}{2Q} \\cdot C_E $"
   ]
  },
  {
   "cell_type": "markdown",
   "metadata": {},
   "source": [
    "**CALCULADORA FP**"
   ]
  },
  {
   "cell_type": "code",
   "execution_count": 17,
   "metadata": {},
   "outputs": [
    {
     "name": "stdout",
     "output_type": "stream",
     "text": [
      "Digite la demanda anual del modelo:1\n",
      "Digite el costo de ordenar el pedido:1\n",
      "Digite el costo de ordenar en espera:1\n",
      "Digite la tasa de retención:1\n",
      "Digite el costo unitario:1\n",
      "¿Cuántos días laboran al año?:1\n",
      "La cantidad óptima de pedido es:  2.0\n",
      "Pedidos en espera óptimos:  1.0\n",
      "El costo mínimo es: 1.75\n",
      "El inventario máximo es: 1060.6601717798212\n",
      "Los días en los que el inventario está disponible son: 1.0\n",
      "Los días en los que se agotan las existencias son: 1.0\n"
     ]
    }
   ],
   "source": [
    "D=input(\"Digite la demanda anual del modelo:\" )\n",
    "C_p=input(\"Digite el costo de ordenar el pedido:\"  )\n",
    "C_E=input(\"Digite el costo de ordenar en espera:\" )\n",
    "TR=input(\"Digite la tasa de retención:\" )\n",
    "C_u=input(\"Digite el costo unitario:\" )\n",
    "DH=input(\"¿Cuántos días laboran al año?:\" )\n",
    "D, C_p, TR, C_u, DH, C_E = float(D), float(C_p), float(TR), float(C_u), float(DH), float(C_E)\n",
    "C_m=TR*C_u\n",
    "Q=(((2*D*C_p)/(C_m))*((C_m +C_E)/C_E))**(1/2)\n",
    "S=Q*(C_m/(C_m + C_E))\n",
    "t_1=(Q-S)/(D/DH)\n",
    "t_2=S/(D/DH)\n",
    "C_t=((Q-S)**2/(2*Q)) * C_m + (D/Q)*C_p + (S**2/2*Q)*C_E\n",
    "print(\"La cantidad óptima de pedido es: \", Q)\n",
    "print(\"Pedidos en espera óptimos: \", S)\n",
    "print(\"El costo mínimo es:\", C_t)\n",
    "print(\"El inventario máximo es:\" ,Inv_max)\n",
    "print(\"Los días en los que el inventario está disponible son:\", t_1)\n",
    "print(\"Los días en los que se agotan las existencias son:\", t_2)"
   ]
  },
  {
   "cell_type": "markdown",
   "metadata": {},
   "source": [
    "## Modelos estocásticos  \n",
    "\n",
    "### Periódo único\n",
    "\n",
    "**Situación 4**\n",
    "\n",
    "La empresa Jean & Jean de la **Situación 1** solicitó un \"satélite\" para la creación de un nuevo diseño de jean con motivos **darks** para la época de Halloween, el cual sería vendido en 45000 pesos, y además tendría un **costo de compra** de 35000 pesos. Suponga que, al finalizar la época de Halloween no fue posible vender la totalidad de jeans **darks**, la empresa para recuperar un poco de dinero, decide rebajar el precio de venta de ese pequeño lote de jeans a 30000 pesos.   Con base en la experiencia anterior, la demanda de los clientes en el \"*Madrugón*\" describe una distribución de probabilidad normal con media de 10000 jeans y una desviación estándar de 150 unidades. \n",
    "\n",
    "De acuerdo a la situación anterior, ¿Cuál debería ser la cantidad de pedido recomendada?\n",
    "\n",
    "Antes de responder a la pregunta de la **situación 4**, es importante identificar  las siguientes ecuaciones que respondena la cantidad óptima y a los costos asociados de este modelo. \n",
    "\n",
    "**Costo de subestimar la demanda**\n",
    "\n",
    "$C_{SUB}$=Precio regular (unidad) $-$ Costo de compra(unidad)\n",
    "\n",
    "**Costo de sobreestimar la demanda**\n",
    "\n",
    "$C_{SOB}=$ Costo de compra(unidad) $-$ Precio de venta (Rescate)\n",
    "\n",
    "$P(demanda \\leq Q^*)= \\dfrac{C_{SUB}}{C_{SUB}+ C_{SOB}}$\n",
    "\n",
    "$Q^*= \\mu + \\mathbb{z} \\cdot \\sigma$\n",
    "\n",
    "Tenga en cuenta que $\\mathbb{z}$ es el valor asociado a la probabilidad acumulada $P(demanda \\leq Q^*)$ de una distribución normal estándar. \n",
    "\n",
    "**ACTIVIDAD** : Realice una calculadora como las de los modelos anteriores para dar respuesta a la **Situación 4**\n",
    "\n",
    "### Punto de reorden\n",
    "\n",
    "**ACTIVIDAD** : De acuerdo a la bibliografía descrita en el contenido programático del curso de **Modelos 2**, investigue en qué consiste el **modelo de punto de Reorden** y dé tres(3) ejemplos de situaciones que le permitan aplicarlo. \n",
    "\n",
    "**Pista:** Tenga en cuenta que el diagrama asociado a este modelo es el presentado a continuación\n",
    "![Imagen](https://github.com/MRippe7/images/blob/master/PO.png?raw=true)"
   ]
  },
  {
   "cell_type": "markdown",
   "metadata": {},
   "source": [
    "**EJERCICIOS DE PRÁCTICA**\n",
    "\n",
    "* Hyundai compra un componente utilizado en la fabricación de generadores automotrices directamente con el proveedor. La operación de producción de generadores de Hyundai, la cual funciona a un ritmo constante, requerirá 1000 componentes por mes durante todo el año. Suponga que los costos de pedido son de  75000 pesos , el costo unitario es de 7500 pesos por componente y los costos de retención anuales son de 20\\% del valor del inventario. Responda las siguientes preguntas de política de inventario: \n",
    "\n",
    " ** ¿Cuál es la cantidad económica de este componente? \n",
    " \n",
    " ** ¿Cuáles son los costos de retención y pedido anuales totales asociados con su cantidad recomendada? \n",
    "    \n",
    " ** Suponga que Hyundai, decidió operar con una política de inventario de pedidos en espera. Se estima que los costos de éstos son de 15000 pesos por unidad por año. Identifique lo siguiente: i) Cantidad de pedido de costo mínimo; ii)Número de pedidos en espera , iii) Inventario máximo, iv) Tiempo de ciclo; v) Costo anual total\n",
    " \n",
    " \n",
    "* Editorial Carvajal produce libros para el mercado minorista. Se espera que la demanda de un libro actual se dé a una tasa anual constante de 7200 ejemplares. El costo de un ejemplar del libro es de 43500 pesos. El costo de retención está basado en un tasa anual de 18\\% y los costos de preparación de la producción son de 450000 pesos por preparación. El equipo con el que se produce el libro tiene un volumen de producción anual de 25000 ejemplares. De acuerdo a la siguiente información encuentre: i) Tamaño del lote de producción de costo mínimo; ii) Número de fases de producción por año; iii) Inventario máximo y iv) Costo anual total \n",
    "\n",
    "\n",
    "* Un reconocido fabricante de varias marcas de pasta dental utiliza el modelo de tamaño del lote de producción para determinar las cantidades de producción de sus productos. El producto conocido como *Total 12* actualmente se produce en tamaños del lote de producción de 5000 unidades. Debido a una reciente escasez de una materia prima particular, el proveedor de la materia prima anunció que un incremento del costo se transferirá al fabricante de *Total 12*. Las estimaciones actuales son que el nuevo costo de la materia prima incrementará el costo de fabricación de la pasta 25\\% por unidad. ¿Cuál será el efecto de este incremento de precio en los tamaños del lote de producción de *Total 12*?\n",
    "\n",
    "\n",
    "*  Hitachi está considerando la compra de un envío especial de aires acondicionados fabricados en Japón. Cada unidad costará a Hitachi 240000 pesos, y se venderá en 375000 pesos. Hitachi no quiere acarrear un excedente de aires acondicionados hasta el año siguiente. Por tanto, venderá todos los acondicionadores sobrantes a un distribuidor en 150000 pesos por unidad. Asegúrese de que la demanda de acondicionadores de aire sigue una distribución de probabilidad normal con $\\mu=20$ y $\\delta=8$"
   ]
  },
  {
   "cell_type": "code",
   "execution_count": null,
   "metadata": {},
   "outputs": [],
   "source": []
  }
 ],
 "metadata": {
  "kernelspec": {
   "display_name": "Python 3",
   "language": "python",
   "name": "python3"
  },
  "language_info": {
   "codemirror_mode": {
    "name": "ipython",
    "version": 3
   },
   "file_extension": ".py",
   "mimetype": "text/x-python",
   "name": "python",
   "nbconvert_exporter": "python",
   "pygments_lexer": "ipython3",
   "version": "3.8.5"
  },
  "latex_envs": {
   "LaTeX_envs_menu_present": true,
   "autoclose": false,
   "autocomplete": true,
   "bibliofile": "biblio.bib",
   "cite_by": "apalike",
   "current_citInitial": 1,
   "eqLabelWithNumbers": true,
   "eqNumInitial": 1,
   "hotkeys": {
    "equation": "Ctrl-E",
    "itemize": "Ctrl-I"
   },
   "labels_anchors": false,
   "latex_user_defs": false,
   "report_style_numbering": false,
   "user_envs_cfg": false
  },
  "toc": {
   "base_numbering": 1,
   "nav_menu": {},
   "number_sections": true,
   "sideBar": true,
   "skip_h1_title": true,
   "title_cell": "Table of Contents",
   "title_sidebar": "Contents",
   "toc_cell": false,
   "toc_position": {
    "height": "calc(100% - 180px)",
    "left": "10px",
    "top": "150px",
    "width": "355.547px"
   },
   "toc_section_display": true,
   "toc_window_display": false
  }
 },
 "nbformat": 4,
 "nbformat_minor": 4
}
