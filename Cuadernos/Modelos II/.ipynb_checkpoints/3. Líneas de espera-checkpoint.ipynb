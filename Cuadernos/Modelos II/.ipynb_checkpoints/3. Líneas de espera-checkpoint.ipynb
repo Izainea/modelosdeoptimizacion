{
 "cells": [
  {
   "cell_type": "markdown",
   "metadata": {},
   "source": [
    "## Línea de espera con canal único\n",
    "\n",
    "Creamos una pequeña calculadora que muestra la espera en un sistema de una sola línea:"
   ]
  },
  {
   "cell_type": "code",
   "execution_count": 2,
   "metadata": {},
   "outputs": [],
   "source": [
    "from ipywidgets import interact, interactive\n",
    "import ipywidgets as widgets\n",
    "import numpy as np\n",
    "from IPython.core.display import display, HTML\n",
    "import matplotlib.pyplot as plt\n",
    "style = {'description_width': 'initial'}"
   ]
  },
  {
   "cell_type": "code",
   "execution_count": 3,
   "metadata": {},
   "outputs": [
    {
     "data": {
      "application/vnd.jupyter.widget-view+json": {
       "model_id": "a1749ebdcf15489584563c1c63fed5bc",
       "version_major": 2,
       "version_minor": 0
      },
      "text/plain": [
       "interactive(children=(FloatText(value=0.75, description='Lambda (tasa de llegada de clientes)', style=Descript…"
      ]
     },
     "metadata": {},
     "output_type": "display_data"
    }
   ],
   "source": [
    "lamb=widgets.FloatText(value=0.75,\n",
    "                    description=\"Lambda (tasa de llegada de clientes)\",style=style)\n",
    "mu=widgets.FloatText(value=1,\n",
    "                    description=\"Mu (tasa de servicio)\",style=style)\n",
    "\n",
    "def LECU(lamb,mu,n):\n",
    "    P0=1-(lamb/mu)\n",
    "    Lq=lamb**2/(mu*(mu-lamb))\n",
    "    L=Lq+lamb/mu\n",
    "    Wq=Lq/lamb\n",
    "    W=Wq+1/mu\n",
    "    PW=lamb/mu\n",
    "    Pn=(lamb/mu)**n * P0\n",
    "    display(HTML(\"La probabilidad de que no haya unidades en el sistema:  {:.2%}\".format(P0)))\n",
    "    display(HTML(\"El número promedio de unidades en la línea de espera: {:.2f} clientes\".format(Lq)))\n",
    "    display(HTML(\"El número promedio de unidades en el sistema: {:.2f} clientes\".format(L)))\n",
    "    display(HTML(\"El tiempo promedio que la unidad pasa en la línea de espera: {:.2f} minutos\".format(Wq)))\n",
    "    display(HTML(\"El tiempo promedio que la unidad pasa en el sistema: {:.2f} minutos\".format(W)))\n",
    "    display(HTML(\"La probabilidad de que una unidad que llega tenga que esperar a ser atendida: {:.2%}\".format(PW)))\n",
    "    display(HTML(\"La probabilidad de que haya \"+str(n)+\" unidades en el sistema: {:.2%}\".format(Pn)))\n",
    "          \n",
    "      \n",
    "    return P0,Lq,L,Wq,W,PW,Pn\n",
    "\n",
    "\n",
    "W1=interactive(LECU,lamb=lamb,mu=mu,n=widgets.IntSlider(value=0,min=0,max=10))\n",
    "\n",
    "display(W1)"
   ]
  },
  {
   "cell_type": "markdown",
   "metadata": {},
   "source": [
    "## Más canales de servicio\n",
    "\n",
    "Incluimos el factor $k$ que representa la cantidad de canales de servicio y  tomamos las fórmulas de 15.3 para crear nuestra calculadora."
   ]
  },
  {
   "cell_type": "code",
   "execution_count": 4,
   "metadata": {},
   "outputs": [],
   "source": [
    "def LECM(lamb,mu,n,k):\n",
    "    P0=1/(sum([((lamb/mu)**i)/np.math.factorial(i) for i in range(k)])+(((lamb/mu)**k)/np.math.factorial(k))*((k*mu)/(k*mu-lamb)) )\n",
    "    Lq=((((lamb/mu)**k)*(lamb*mu))/(np.math.factorial(k-1)*(k*mu-lamb)**2))*P0\n",
    "    L=Lq+lamb/mu\n",
    "    Wq=Lq/lamb\n",
    "    W=Wq+1/mu\n",
    "    PW=(1/np.math.factorial(k))*((lamb/mu)**k)*(k*mu/(k*mu-lamb))*P0\n",
    "    if n<=k:\n",
    "        Pn=(((lamb/mu)**n)/(np.math.factorial(n)))* P0\n",
    "    else:\n",
    "        Pn=(((lamb/mu)**n)/(np.math.factorial(k)*k**(n-k)))* P0\n",
    "    display(HTML(\"La probabilidad de que no haya unidades en el sistema:  {:.2%}\".format(P0)))\n",
    "    display(HTML(\"El número promedio de unidades en la línea de espera: {:.2f} clientes\".format(Lq)))\n",
    "    display(HTML(\"El número promedio de unidades en el sistema: {:.2f} clientes\".format(L)))\n",
    "    display(HTML(\"El tiempo promedio que la unidad pasa en la línea de espera: {:.2f} minutos\".format(Wq)))\n",
    "    display(HTML(\"El tiempo promedio que la unidad pasa en el sistema: {:.2f} minutos\".format(W)))\n",
    "    display(HTML(\"La probabilidad de que una unidad que llega tenga que esperar a ser atendida: {:.2%}\".format(PW)))\n",
    "    display(HTML(\"La probabilidad de que haya \"+str(n)+\" unidades en el sistema: {:.2%}\".format(Pn)))\n",
    "          \n",
    "      \n",
    "    return P0,Lq,L,Wq,W,PW,Pn"
   ]
  },
  {
   "cell_type": "code",
   "execution_count": 5,
   "metadata": {},
   "outputs": [
    {
     "data": {
      "application/vnd.jupyter.widget-view+json": {
       "model_id": "dfcbbcc36b6247baa8f0ce6e3fa0e13b",
       "version_major": 2,
       "version_minor": 0
      },
      "text/plain": [
       "interactive(children=(FloatText(value=0.75, description='Lambda (tasa de llegada de clientes)', style=Descript…"
      ]
     },
     "metadata": {},
     "output_type": "display_data"
    }
   ],
   "source": [
    "W1=interactive(LECM,lamb=lamb,mu=mu,n=widgets.IntSlider(value=0,min=0,max=30),k=widgets.IntSlider(value=1,min=1,max=10))\n",
    "\n",
    "display(W1)"
   ]
  },
  {
   "cell_type": "code",
   "execution_count": 6,
   "metadata": {},
   "outputs": [
    {
     "data": {
      "text/html": [
       "La probabilidad de que no haya unidades en el sistema:  25.00%"
      ],
      "text/plain": [
       "<IPython.core.display.HTML object>"
      ]
     },
     "metadata": {},
     "output_type": "display_data"
    },
    {
     "data": {
      "text/html": [
       "El número promedio de unidades en la línea de espera: 2.25 clientes"
      ],
      "text/plain": [
       "<IPython.core.display.HTML object>"
      ]
     },
     "metadata": {},
     "output_type": "display_data"
    },
    {
     "data": {
      "text/html": [
       "El número promedio de unidades en el sistema: 3.00 clientes"
      ],
      "text/plain": [
       "<IPython.core.display.HTML object>"
      ]
     },
     "metadata": {},
     "output_type": "display_data"
    },
    {
     "data": {
      "text/html": [
       "El tiempo promedio que la unidad pasa en la línea de espera: 3.00 minutos"
      ],
      "text/plain": [
       "<IPython.core.display.HTML object>"
      ]
     },
     "metadata": {},
     "output_type": "display_data"
    },
    {
     "data": {
      "text/html": [
       "El tiempo promedio que la unidad pasa en el sistema: 4.00 minutos"
      ],
      "text/plain": [
       "<IPython.core.display.HTML object>"
      ]
     },
     "metadata": {},
     "output_type": "display_data"
    },
    {
     "data": {
      "text/html": [
       "La probabilidad de que una unidad que llega tenga que esperar a ser atendida: 75.00%"
      ],
      "text/plain": [
       "<IPython.core.display.HTML object>"
      ]
     },
     "metadata": {},
     "output_type": "display_data"
    },
    {
     "data": {
      "text/html": [
       "La probabilidad de que haya 0 unidades en el sistema: 25.00%"
      ],
      "text/plain": [
       "<IPython.core.display.HTML object>"
      ]
     },
     "metadata": {},
     "output_type": "display_data"
    },
    {
     "data": {
      "text/plain": [
       "(0.25, 2.25, 3.0, 3.0, 4.0, 0.75, 0.25)"
      ]
     },
     "execution_count": 6,
     "metadata": {},
     "output_type": "execute_result"
    }
   ],
   "source": [
    "LECM(0.75,1,0,1)"
   ]
  },
  {
   "cell_type": "code",
   "execution_count": 7,
   "metadata": {},
   "outputs": [],
   "source": [
    "def LECM2(lamb,mu,n,k):\n",
    "    P0=1/(sum([((lamb/mu)**i)/np.math.factorial(i) for i in range(k)])+(((lamb/mu)**k)/np.math.factorial(k))*((k*mu)/(k*mu-lamb)) )\n",
    "    Lq=((((lamb/mu)**k)*(lamb*mu))/(np.math.factorial(k-1)*(k*mu-lamb)**2))*P0\n",
    "    L=Lq+lamb/mu\n",
    "    Wq=Lq/lamb\n",
    "    W=Wq+1/mu\n",
    "    PW=(1/np.math.factorial(k))*((lamb/mu)**k)*(k*mu/(k*mu-lamb))*P0\n",
    "    if n<=k:\n",
    "        Pn=(((lamb/mu)**n)/(np.math.factorial(n)))* P0\n",
    "    else:\n",
    "        Pn=(((lamb/mu)**n)/(np.math.factorial(k)*k**(n-k)))* P0\n",
    "             \n",
    "      \n",
    "    return P0,Lq,L,Wq,W,PW,Pn"
   ]
  },
  {
   "cell_type": "code",
   "execution_count": 8,
   "metadata": {},
   "outputs": [],
   "source": [
    "def TC(k,lamb=0.75,mu=1,cw=10,cs=7):\n",
    "    L=LECM2(lamb,mu,0,k)[2]\n",
    "    return L*cw+k*cs\n",
    "    "
   ]
  },
  {
   "cell_type": "markdown",
   "metadata": {},
   "source": [
    "Aquí k corresponde a la cantidad de cajas en el sistema."
   ]
  },
  {
   "cell_type": "code",
   "execution_count": 9,
   "metadata": {},
   "outputs": [
    {
     "data": {
      "text/plain": [
       "22.727272727272727"
      ]
     },
     "execution_count": 9,
     "metadata": {},
     "output_type": "execute_result"
    }
   ],
   "source": [
    "TC(2)"
   ]
  },
  {
   "cell_type": "code",
   "execution_count": 10,
   "metadata": {},
   "outputs": [
    {
     "data": {
      "text/plain": [
       "array([1, 2, 3, 4, 5, 6, 7, 8, 9])"
      ]
     },
     "execution_count": 10,
     "metadata": {},
     "output_type": "execute_result"
    }
   ],
   "source": [
    "x=np.arange(1,10)\n",
    "x"
   ]
  },
  {
   "cell_type": "code",
   "execution_count": 11,
   "metadata": {},
   "outputs": [
    {
     "data": {
      "text/plain": [
       "[<matplotlib.lines.Line2D at 0x7f5fbf31a880>]"
      ]
     },
     "execution_count": 11,
     "metadata": {},
     "output_type": "execute_result"
    },
    {
     "data": {
      "image/png": "[encoded data removed]",
      "text/plain": [
       "<Figure size 432x288 with 1 Axes>"
      ]
     },
     "metadata": {
      "needs_background": "light"
     },
     "output_type": "display_data"
    }
   ],
   "source": [
    "x=np.arange(1,10)\n",
    "y=[TC(i) for i in x]\n",
    "plt.plot(x,y)"
   ]
  },
  {
   "cell_type": "markdown",
   "metadata": {},
   "source": [
    "## Ejercicio Agan Interior Design\n",
    "\n",
    "Agan Interior Design ofrece asesoría de decoración de casas y ofi cinas a sus clientes. En operación normal, llega un promedio de 2.5 clientes cada hora. Un asesor de diseño está disponible para responder las preguntas de los clientes y para recomendar productos. El asesor promedia 10 minutos con cada cliente."
   ]
  },
  {
   "cell_type": "code",
   "execution_count": 12,
   "metadata": {},
   "outputs": [
    {
     "data": {
      "application/vnd.jupyter.widget-view+json": {
       "model_id": "fc07f6b9d72d46658a15942f931f5cc3",
       "version_major": 2,
       "version_minor": 0
      },
      "text/plain": [
       "interactive(children=(FloatText(value=0.75, description='Lambda (tasa de llegada de clientes)', style=Descript…"
      ]
     },
     "metadata": {},
     "output_type": "display_data"
    }
   ],
   "source": [
    "def LECM(lamb,mu,n,k,periodo):\n",
    "    P0=1/(sum([((lamb/mu)**i)/np.math.factorial(i) for i in range(k)])+(((lamb/mu)**k)/np.math.factorial(k))*((k*mu)/(k*mu-lamb)) )\n",
    "    Lq=((((lamb/mu)**k)*(lamb*mu))/(np.math.factorial(k-1)*(k*mu-lamb)**2))*P0\n",
    "    L=Lq+lamb/mu\n",
    "    if periodo=='horas':\n",
    "        Wq=Lq/lamb\n",
    "        W=Wq+1/mu\n",
    "        Wq=Wq*60 #de horas a minutos\n",
    "        W=W*60 #de horas a minutos\n",
    "    else:\n",
    "        Wq=Lq/lamb\n",
    "        W=Wq+1/mu\n",
    "        \n",
    "    PW=(1/np.math.factorial(k))*((lamb/mu)**k)*(k*mu/(k*mu-lamb))*P0\n",
    "    if n<=k:\n",
    "        Pn=(((lamb/mu)**n)/(np.math.factorial(n)))* P0\n",
    "    else:\n",
    "        Pn=(((lamb/mu)**n)/(np.math.factorial(k)*k**(n-k)))* P0\n",
    "    \n",
    "    display(HTML(\"La probabilidad de que no haya unidades en el sistema:  {:.2%}\".format(P0)))\n",
    "    display(HTML(\"El número promedio de unidades en la línea de espera: {:.2f} clientes\".format(Lq)))\n",
    "    display(HTML(\"El número promedio de unidades en el sistema: {:.2f} clientes\".format(L)))\n",
    "    display(HTML(\"El tiempo promedio que la unidad pasa en la línea de espera: {:.2f} minutos.\".format(Wq)))\n",
    "    display(HTML(\"El tiempo promedio que la unidad pasa en el sistema: {:.2f} minutos.\".format(W)))\n",
    "    display(HTML(\"La probabilidad de que una unidad que llega tenga que esperar a ser atendida: {:.2%}\".format(PW)))\n",
    "    display(HTML(\"La probabilidad de que haya \"+str(n)+\" unidades en el sistema: {:.2%}\".format(Pn)))\n",
    "          \n",
    "      \n",
    "    return P0,Lq,L,Wq,W,PW,Pn\n",
    "\n",
    "W1=interactive(LECM,lamb=lamb,mu=mu,n=widgets.IntSlider(value=0,min=0,max=30),k=widgets.IntSlider(value=1,min=1,max=10),periodo=['minutos','horas'])\n",
    "\n",
    "display(W1)"
   ]
  },
  {
   "cell_type": "code",
   "execution_count": 13,
   "metadata": {},
   "outputs": [
    {
     "data": {
      "text/plain": [
       "28.5"
      ]
     },
     "execution_count": 13,
     "metadata": {},
     "output_type": "execute_result"
    }
   ],
   "source": [
    "TC1=16*1+0.5*25\n",
    "TC1"
   ]
  },
  {
   "cell_type": "code",
   "execution_count": 14,
   "metadata": {},
   "outputs": [
    {
     "data": {
      "text/plain": [
       "43.0"
      ]
     },
     "execution_count": 14,
     "metadata": {},
     "output_type": "execute_result"
    }
   ],
   "source": [
    "TC2=16*2+0.44*25\n",
    "TC2"
   ]
  },
  {
   "cell_type": "code",
   "execution_count": 15,
   "metadata": {},
   "outputs": [
    {
     "data": {
      "text/plain": [
       "42.88929219600726"
      ]
     },
     "execution_count": 15,
     "metadata": {},
     "output_type": "execute_result"
    }
   ],
   "source": [
    "TC(2,lamb=2.5,mu=6,cw=25,cs=16)"
   ]
  },
  {
   "cell_type": "code",
   "execution_count": 16,
   "metadata": {},
   "outputs": [
    {
     "data": {
      "text/plain": [
       "[<matplotlib.lines.Line2D at 0x7f5fbea85430>]"
      ]
     },
     "execution_count": 16,
     "metadata": {},
     "output_type": "execute_result"
    },
    {
     "data": {
      "image/png": "[encoded data removed]",
      "text/plain": [
       "<Figure size 432x288 with 1 Axes>"
      ]
     },
     "metadata": {
      "needs_background": "light"
     },
     "output_type": "display_data"
    }
   ],
   "source": [
    "x=np.arange(3,10)\n",
    "y=[TC(i,lamb=2.5,mu=1.2,cw=25,cs=16) for i in x]\n",
    "plt.plot(x,y)"
   ]
  },
  {
   "cell_type": "code",
   "execution_count": null,
   "metadata": {},
   "outputs": [],
   "source": []
  }
 ],
 "metadata": {
  "kernelspec": {
   "display_name": "Python 3",
   "language": "python",
   "name": "python3"
  },
  "language_info": {
   "codemirror_mode": {
    "name": "ipython",
    "version": 3
   },
   "file_extension": ".py",
   "mimetype": "text/x-python",
   "name": "python",
   "nbconvert_exporter": "python",
   "pygments_lexer": "ipython3",
   "version": "3.8.5"
  },
  "toc": {
   "base_numbering": 1,
   "nav_menu": {},
   "number_sections": true,
   "sideBar": true,
   "skip_h1_title": true,
   "title_cell": "Table of Contents",
   "title_sidebar": "Contents",
   "toc_cell": true,
   "toc_position": {},
   "toc_section_display": true,
   "toc_window_display": false
  }
 },
 "nbformat": 4,
 "nbformat_minor": 4
}
