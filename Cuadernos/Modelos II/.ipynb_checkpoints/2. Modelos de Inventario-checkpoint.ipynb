{
 "cells": [
  {
   "cell_type": "markdown",
   "metadata": {},
   "source": [
    "<div style=\"background-color: #023324; \"><p><br></p>\n",
    "    <img src=\"https://www.uexternado.edu.co/wp-content/themes/externado_theme/images/logo-uec.svg\" alt=\"Universidad Externado\" width=\"150\" align=\"left\">\n",
    "         <h1  style=\"color: white;font-family:Lucida Sans Unicode, Lucida Grande, sans-serif\" align=\"center\">Modelos de inventarios </h1> \n",
    "<p><br></p>\n",
    "</div>    \n",
    "\n",
    "\n",
    "<p><br></p>\n",
    "\n",
    "\n",
    "\n",
    "<p><i>Carlos Isaac Zainea Maya</i></p>\n",
    "<p><i>Santiago Angarita</i></p>"
   ]
  },
  {
   "cell_type": "markdown",
   "metadata": {},
   "source": [
    "Este cuadernillo explorará los **Modelos de inventario** cuya demanda tiene un comportamiento determinístico o estocástico. Se reconocerán algunas funciones básicas de **Python** que tendrán una aplicación posterior en los modelos anteriormente mencionados. "
   ]
  },
  {
   "cell_type": "markdown",
   "metadata": {},
   "source": [
    "## ¿Qué es un inventario?\n",
    "\n",
    "Cuando hablamos de **inventarios**, nos referirimos a mercancías, materiales, piezas, entre otro tipo de bienes puestos en reserva para uso o ventas futuras. Algunas de las razones para que una empresa tenga un inventario se relacionan con la posibilidad de hacer una buena planeación a futuro de sus activos o como provisión ante comportamientos fluctuantes o de incertidumbre. Es por esto que, vamos a considerar dos preguntas en las políticas de inventarios: i) **¿Qué tanto debe ser renovado el inventario?** y ii)  **¿Cuándo debe ser renovado el inventario?**, Vale aclarar que estás preguntas tendrán una respuesta conforme al comportamiento que tenga la demanda dentro del modelo generado. \n",
    "\n",
    "En este cuadernillo se van a considerar dos tipos de modelos de inventario: i) Los determinísticos, que son aquellos cuya demanda es conocida y, ii) Los estocásticos en donde la demanda es una variable aleatoria para cualquier periodo. De acuerdo con ello, el siguiente diagrama resume algunos de los modelos a considerar durante este curso de acuerdo al comportamiento de la demanda:\n",
    "\n",
    "![Imagen](https://github.com/MRippe7/images/blob/master/MapCon.png?raw=true)\n",
    "\n",
    "Ahora bien, antes de continuar con el desarrollo de cada uno de los modelos anteriormente mencionados, se hace necesario hablar de algunos de los costos asociados a un inventario, como lo son: i) Los **costos de retención**, que corresponden a aquellos costos asociados al mantenimiento del inventario tales como: seguros, intereses, depreciación, transporte, impuestos, hurtos, daños, etc.)  y  ii) **los costos de ordenar**, que cubre los fletes, despachos, órdenes de compra, servicio telefónico etc. "
   ]
  },
  {
   "cell_type": "markdown",
   "metadata": {},
   "source": [
    "## Modelo de cantidad económica del pedido \n",
    "El modelo de cantidad económica muestra el comportamiento del tamaño del inventario a lo largo del tiempo de la siguiente manera:\n",
    "\n",
    "![Imagen](https://github.com/MRippe7/images/blob/master/EOQ.png?raw=true)\n",
    "\n",
    "De igual forma, se identifican las siguientes ecuaciones que responden no solo a las preguntas de **¿Qué tanto debe ser renovado el inventario?** y **¿Cuándo debe ser renovado el inventario?**, sino también los costos y tiempos asociados al **modelo de cantidad económica de pedido**\n",
    "\n",
    "Consideremos el siguiente problema tomado del libro Métodos Cuantitativos para los Negocios de Anderson para ilustrar la situación:\n",
    "\n",
    "***\n",
    "R&B Beverage\n",
    "Company es una empresa que distribuye cerveza, vino y bebidas refrescantes. Desde su almacén principal localizado en Columbus, Ohio, R&B abastece a casi 1000 minoristas de productos embotellados. El inventario de cerveza, el cual constituye aproximadamente 40% del inventario total de la empresa, promedia aproximadamente 50,000 cajas. Con un costo promedio por caja de aproximadamente $\\$$  8, R&B calcula que el valor de su inventario de\n",
    "cerveza es de $\\$$400,000. \n",
    "\n",
    "El gerente del almacén decidió realizar un estudio detallado de los costos de inventario asociado con Bub Beer, el vendedor número uno de cerveza R&B. El objetivo del estudio es establecer las decisiones de cuánto y cuándo ordenar para Bub Beer, que den como\n",
    "resultado el menor costo total posible. Como el primer paso en estudio, el gerente del almacén obtuvo los siguientes datos de demanda de las últimas 10 semanas:\n",
    "\n",
    "\n",
    "|**Semana**|**Demanda**|\n",
    "|:--:|:--|\n",
    "|1|2000|\n",
    "|2|2025|\n",
    "|3|1950|\n",
    "|4|2000|\n",
    "|5|2100|\n",
    "|6|2050|\n",
    "|7|2000|\n",
    "|8|1975|\n",
    "|9|1900|\n",
    "|10|2000|\n",
    "|*Total*|20000|\n",
    "|*Promedio*|2000|\n",
    "\n",
    "En rigor, estas cifras de demanda semanal no indican una tasa de demanda constante. Sin embargo, dada la relativamente baja variabilidad de la demanda semanal, la planeación del inventario con una tasa de demanda constante de 2000 cajas por semana parece aceptable. En la práctica, verá que la situación real del inventario rara vez, si es alguna vez lo hace, satisface con exactitud los supuestos del modelo. Por tanto, en cualquier situación particular, el gerente debe determinar si los modelos supuestos se aproximan suficientemente a la realidad como para que sean útiles. En esta situación, como la demanda varía desde 1900 cajas hasta 2100 cajas, el supuesto de una demanda constante de 2000 cajas aparentemente es una aproximación razonable.\n",
    "***"
   ]
  },
  {
   "cell_type": "markdown",
   "metadata": {},
   "source": [
    "### Razonamiento inicial ¿Para qué un modelo de inventario?\n",
    "\n",
    "El objetivo e minimizar costos, luego debe ser claro para nosotros el costo generado por el problema de inventarios:\n"
   ]
  },
  {
   "cell_type": "markdown",
   "metadata": {},
   "source": [
    "### Costos de retención o inventario\n",
    "\n",
    "Los costos de retención son los costos asociados con el mantenimiento de un nivel de inventario determinado; estos costos dependen del tamaño del inventario. El primer costo de retención es el costo de financiar la inversión del inventario. Cuando una empresa pide dinero prestado, incurre en un cargo de interés. Si la empresa utiliza su dinero, experimenta un costo de oportunidad asociado con el no poder utilizar el dinero para otras inversiones. En uno u otro caso, existe un costo de interés por el capital empleado en el inventario. Este costo de capital en general se expresa como un porcentaje de la suma invertida. R&B estima su costo de capital  a una tasa anual de 18 por ciento.\n"
   ]
  },
  {
   "cell_type": "markdown",
   "metadata": {},
   "source": [
    "Otros costos de retención, como seguros, impuestos, rotura, hurtos e indirectos también dependen del valor del inventario. R&B estima estos costos a una tasa anual de aproximadamente 7% del valor de su inventario. Por tanto, el costo de retención del inventario de cerveza de R&B es 18% + 7% = 25% del valor del inventario. El costo de una caja de Bub Beer es de $\\$$8. \n",
    "\n",
    "Con una tasa del costo de retención anual de 25%, el costo de mantener una caja de Bub Beer en el inventario durante 1 año es de 0.25($\\$$8) = $2.00."
   ]
  },
  {
   "cell_type": "markdown",
   "metadata": {},
   "source": [
    "### Costo de ordenar o preparación del pedido\n",
    "\n",
    "El siguiente paso en el análisis del inventario es determinar el costo de ordenar. Este costo, considerado fi jo sin importar la cantidad solicitada, cubre la preparación de la factura, el procesamiento del pedido incluido el pago, porte de correos, teléfono, transporte, verificación de la factura, recibo, etc. Para R&B Beverage, la mayor parte del costo de ordenar involucra los salarios de los compradores. Un análisis del proceso de compra mostró que un comprador pasa 45 minutos preparando y procesando un pedido de Bub Beer. Con un costo por salario y prestaciones de los compradores de $\\$$20 por hora, la parte de la mano de obra del costo de ordenar es de $\\$$15. Al considerar un margen por los costos de papelería, porte de correos, teléfono, transporte y recibo de $\\$$17 por pedido, el gerente estima que el costo de ordenar es de $\\$$32 por pedido. Es decir, R&B paga $\\$$32 por pedido haciendo caso\n",
    "omiso de la cantidad solicitada en el pedido."
   ]
  },
  {
   "cell_type": "markdown",
   "metadata": {},
   "source": [
    "### Costo total\n",
    "\n",
    "Las consideraciones anteriores nos permiten estimar el costo total para inventario dado por:\n",
    "\n",
    "$$CT=\\frac{1}{2}QC_h+\\frac{D}{Q}C_0$$\n",
    "\n",
    "Donde:\n",
    "\n",
    "+ $I=$ tasa de costo de retención anual.\n",
    "+ $C=$ costo unitario del artículo de inventario\n",
    "+ $C_h=$ costo anual de mantener una unidad en el inventario.\n",
    "\n",
    "***\n",
    "$$C_h=IC$$\n",
    "***\n",
    "+ $D =$ demanda.\n",
    "+ $C_0= $ costo por pedido.\n",
    "+ $\\frac{D}{Q}=$ costo por pedido por año."
   ]
  },
  {
   "cell_type": "markdown",
   "metadata": {},
   "source": [
    "**CALCULADORA EOQ**"
   ]
  },
  {
   "cell_type": "code",
   "execution_count": 1,
   "metadata": {},
   "outputs": [],
   "source": [
    "from ipywidgets import interact, interactive\n",
    "import ipywidgets as widgets\n",
    "import numpy as np\n",
    "from IPython.core.display import display, HTML\n",
    "import matplotlib.pyplot as plt\n",
    "style = {'description_width': 'initial'}"
   ]
  },
  {
   "cell_type": "code",
   "execution_count": 2,
   "metadata": {},
   "outputs": [
    {
     "data": {
      "application/vnd.jupyter.widget-view+json": {
       "model_id": "9775d50b8afa41bda3acd38a917ea9f1",
       "version_major": 2,
       "version_minor": 0
      },
      "text/plain": [
       "interactive(children=(FloatText(value=104000.0, description='Demanda Anual', style=DescriptionStyle(descriptio…"
      ]
     },
     "metadata": {},
     "output_type": "display_data"
    }
   ],
   "source": [
    "D=widgets.FloatText(value=104000,\n",
    "                    description=\"Demanda Anual\",style=style)\n",
    "C_p=widgets.FloatText(value=32,\n",
    "                    description=\"Costo del Pedido\",style=style)\n",
    "C_u=widgets.FloatText(value=8,\n",
    "                    description=\"Costo unitario de artículo del inventario\",style=style)\n",
    "Tr=widgets.FloatText(value=0.25,\n",
    "                    description=\"Tasa de retención\",style=style)\n",
    "t_E=widgets.FloatText(value=2,\n",
    "                    description=\"Tiempo de espera\",style=style)\n",
    "DH=widgets.FloatText(value=250,\n",
    "                    description=\"Días hábiles\",style=style)\n",
    "def EOQ(D,C_p,C_u,Tr,t_E,DH):\n",
    "    C_m=Tr*C_u # Esta fórmula calcula el costo de mantener una unidad \n",
    "    Q=round(((2*D*C_p)/(C_m))**(1/2))\n",
    "    C_t=((1/2)*Q*C_m)+((D/Q)*C_p)\n",
    "    P_o=(D/DH)*t_E\n",
    "    Pa=D/Q\n",
    "    T=(DH*Q)/D\n",
    "    x=np.arange(0,4*T,.1)\n",
    "    y=-(Q/T)*(x%T)+Q\n",
    "    plt.plot(x,y)\n",
    "    plt.plot(x,len(x)*[Q/2])\n",
    "    plt.grid()\n",
    "    display(HTML(\"La cantidad de económica de pedido es: {:.2f}\".format(Q)))\n",
    "    display(HTML(\"El costo mínimo es: {:.2f}\".format(C_t)))\n",
    "    display(HTML(\"Su punto de reorden es (Momento de solicitar el otro pedido): {:.2f}\".format(P_o)))\n",
    "    display(HTML(\"Pedidos al año: {:.1f}\".format(Pa)))\n",
    "    display(HTML(\"El tiempo de cada ciclo (periodo entre pedidos) es: {:.2f}\".format(T)))\n",
    "    return Q,C_t,P_o,Pa,T\n",
    "\n",
    "\n",
    "W1=interactive(EOQ,D=D,C_p=C_p,C_u=C_u,Tr=Tr,t_E=t_E,DH=DH)\n",
    "\n",
    "display(W1)"
   ]
  },
  {
   "cell_type": "markdown",
   "metadata": {},
   "source": [
    "### Tamaño de lote de producción\n",
    "\n",
    "\n",
    "**Situación 2** (*Tomada del libro : Producción y operaciones aplicadas a las Pyme, autor: Carlos José Bello Pérez*)\n",
    "\n",
    "La siguiente información se obtuvo de la compañía Snaptools\n",
    "\n",
    "|||\n",
    "|-----|-----|\n",
    "|Consumo estimado para el año 2005 | 105000 unidades |\n",
    "|Tasa de producción para el año 2005 | 250000 unidades|\n",
    "|Costo unitario promedio| \\$ 26.75/ unidad |\n",
    "|Costo alquiler bodega | \\$ 2.5 / unidad|\n",
    "|Costo preparación pedido| \\$ 37.4 / pedido|\n",
    "|Seguros inventarios |10\\% costo inventario promedio|\n",
    "|Costo promedio recepción | \\$30.06 /pedido|\n",
    "|Gastos generales y administrativos oficina compras| \\$ 70.16/pedido|\n",
    "|Pérdidas de producto|2\\% del consumo total|\n",
    "|Sobre costo (intereses| 8\\% del costo unitario|\n",
    "\n",
    "\n",
    "Si hay un tiempo de espera de cinco(5) días para la recepción y 234 días laborales por año ¿Cuál es el tamaño de lote de producción?\n",
    "\n"
   ]
  },
  {
   "cell_type": "markdown",
   "metadata": {},
   "source": [
    "Antes de hallar las respuestas de la **situación 2** es importante interpretar el comportamiento del modelo de tamaño de lote de producción como un diagrama que depende del tiempo y del tamaño del inventario:\n",
    "\n",
    "![Imagen](https://github.com/MRippe7/images/blob/master/TLP.png?raw=true)\n",
    "\n",
    "Igual que en el modelo anterior, se identifican las siguientes ecuaciones que responden no solo a las preguntas de ¿Qué tanto debe ser renovado el inventario? y ¿Cuándo debe ser renovado el inventario?, sino también los costos y tiempos asociados al **modelo de tamaño de lote de producción.** \n",
    "\n",
    "**Duración fase de producción** \n",
    "\n",
    "$t =\\dfrac{Q}{p}$\n",
    "\n",
    "**Inventario máximo** \n",
    "\n",
    "$Inv_{max}=\\left(1-\\dfrac{D}{P}\\right) \\cdot Q$\n",
    "\n",
    "**Inventario promedio** \n",
    "\n",
    "$Inv_{prom}=\\dfrac{1}{2} \\cdot \\left(1-\\dfrac{D}{P}\\right) \\cdot Q$\n",
    "\n",
    "**¿Cuánto? Tamaño de lote de producción económico**\n",
    "\n",
    " $Q^* =\\sqrt{\\dfrac{2 D  C_p}{\\left(1-\\dfrac{D}{P}\\right)  C_m }}$\n",
    "\n",
    "**¿Cuándo? Punto de reorden**\n",
    "\n",
    "$P_o=d\\cdot t_E$\n",
    "\n",
    "**Costo total**\n",
    "\n",
    "$C_T=\\dfrac{1}{2} \\cdot \\left(1-\\dfrac{D}{P}\\right) Q  C_m + \\dfrac{D}{Q} C_p$\n",
    "\n",
    "**Tiempo de ciclo**\n",
    "\n",
    "$T = \\dfrac{DH \\cdot Q}{D}$\n"
   ]
  },
  {
   "cell_type": "code",
   "execution_count": 2,
   "metadata": {},
   "outputs": [
    {
     "name": "stdout",
     "output_type": "stream",
     "text": [
      "Digite la demanda anual del modelo:10\n",
      "Digite la producción anual del modelo:20\n",
      "Digite el costo de preparación:30\n",
      "Digite la tasa de retención:50\n",
      "Digite el costo unitario:10\n",
      "¿Cuántos días laboran al año?:2\n",
      "El tamaño de lote producción es:  1.5491933384829668\n",
      "El costo mínimo es: 387.2983346207417\n",
      "El inventario máximo es: 0.7745966692414834\n",
      "El tiempo de ciclo es 0.30983866769659335 días\n",
      "La duración de la fase de producción es: 0.15491933384829668\n"
     ]
    }
   ],
   "source": [
    "D=input(\"Digite la demanda anual del modelo:\" )\n",
    "P=input(\"Digite la producción anual del modelo:\" )\n",
    "C_p=input(\"Digite el costo de preparación:\"  )\n",
    "TR=input(\"Digite la tasa de retención:\" )\n",
    "C_u=input(\"Digite el costo unitario:\" )\n",
    "DH=input(\"¿Cuántos días laboran al año?:\" )\n",
    "D, P, C_p, TR, C_u, DH = float(D), float(P), float(C_p), float(TR), float(C_u), float(DH)\n",
    "C_m=TR*C_u\n",
    "Q=((2*D*C_p)/((1-(D/P))*C_m))**(1/2)\n",
    "C_t=(1/2)*(1-(D/P))*Q*C_m +(D/Q)*C_p\n",
    "Inv_max=(1-(D/P))*Q\n",
    "T=(DH*Q)/D\n",
    "t=Q/(P/DH)\n",
    "print(\"El tamaño de lote producción es: \",Q)\n",
    "print(\"El costo mínimo es:\", C_t)\n",
    "print(\"El inventario máximo es:\" ,Inv_max)\n",
    "print(\"El tiempo de ciclo es\", T, \"días\")\n",
    "print(\"La duración de la fase de producción es:\", t)"
   ]
  },
  {
   "cell_type": "markdown",
   "metadata": {},
   "source": [
    "### Faltantes planeados\n",
    "\n",
    "Un faltante o falta de existencias es una demanda que no puede ser satisfecha. En muchas situaciones, los faltantes son indeseables y deben evitarse si es posible. Sin embargo, en otros casos pueden ser deseables —desde un punto de vista económico—  planearlos y permitirlos. En la práctica, estos tipos de situaciones por lo general se presentan cuando el valor del inventario por unidad es alto y por consiguiente el costo de retención también lo es. Un ejemplo de este tipo de situación es el inventario de un automóvil nuevo de un distribuidor. Con frecuencia un automóvil específi co que un cliente desea no está en existencia. Sin embargo, si el cliente desea esperar algunas semanas, el distribuidor casi siempre puede ordenar el automóvil."
   ]
  },
  {
   "cell_type": "markdown",
   "metadata": {},
   "source": [
    "El modelo de pedido en espera es una extensión del modelo EOQ, en el cual todas las mercancías llegan al inventario a la vez y se someten a una tasa de demanda constante. Si S indica el número de pedidos en espera acumulados cuando se recibe un nuevo envío de tamaño Q, entonces el sistema de inventario en el caso de pedidos en espera tiene las siguientes características:\n",
    "\n",
    "\n",
    "* Si existen S pedidos en espera cuando llega un nuevo envío de tamaño Q, entonces S pedidos en espera se envían a los clientes apropiados y las Q – S unidades restantes se colocan en el inventario. Por consiguiente, Q – S es el inventario máximo.\n",
    "\n",
    "\n",
    "* El ciclo del inventario de T días se divide en dos fases distintas: t 1 días cuando el inventario está disponible y los pedidos se entregan cuando se hacen, y t 2 días cuando se agotan las existencias y todos los pedidos nuevos se colocan en espera.\n",
    "\n",
    "La siguiente figura muestra la dinámica de este modelo:"
   ]
  },
  {
   "cell_type": "markdown",
   "metadata": {},
   "source": [
    "![Imagen](https://github.com/MRippe7/images/blob/master/FP.png?raw=true)\n"
   ]
  },
  {
   "cell_type": "markdown",
   "metadata": {},
   "source": [
    "**Inventario promedio**\n",
    " \n",
    "\n",
    "$Inv_{Prom}=\\dfrac{(Q-S)^2}{2Q}$\n",
    "\n",
    "**Días en los que el inventario está disponible**\n",
    "\n",
    "$t_1=\\dfrac{Q-S}{d}$ días\n",
    "\n",
    "**Días en los que se agotan las existencias**\n",
    "\n",
    "$t_2=\\dfrac{S}{d}$ días\n",
    "\n",
    "**Número de pedidos por año**\n",
    "\n",
    "$N_P=\\dfrac{D}{Q}$\n",
    "\n",
    "**Pedidos promedios en espera**\n",
    "\n",
    "$S_{Prom} = \\dfrac{S^2}{2Q}$\n",
    "\n",
    "**Cantidad óptima de pedido**\n",
    "\n",
    " $Q^* =\\sqrt{\\dfrac{2 D  C_p}{C_m} \\left( \\dfrac{C_m + C_E}{C_E} \\right)}$\n",
    " \n",
    "**Pedidos en espera óptimos**\n",
    "\n",
    "$S^* =Q^* \\left(\\dfrac{C_m}{C_m + C_E} \\right)$\n",
    "\n",
    "**Costo total por año**\n",
    "\n",
    "$C_{total}=\\dfrac{(Q-S)^2}{2Q} \\cdot C_m + \\dfrac{D}{Q} \\cdot C_p + \\dfrac{S^2}{2Q} \\cdot C_E $"
   ]
  },
  {
   "cell_type": "markdown",
   "metadata": {},
   "source": [
    "**CALCULADORA FP**"
   ]
  },
  {
   "cell_type": "code",
   "execution_count": 3,
   "metadata": {},
   "outputs": [
    {
     "data": {
      "application/vnd.jupyter.widget-view+json": {
       "model_id": "e143a4941daf4be4afa0d0bb5e345ccd",
       "version_major": 2,
       "version_minor": 0
      },
      "text/plain": [
       "interactive(children=(FloatText(value=2000.0, description='Demanda Anual', style=DescriptionStyle(description_…"
      ]
     },
     "metadata": {},
     "output_type": "display_data"
    }
   ],
   "source": [
    "D=widgets.FloatText(value=2000,\n",
    "                    description=\"Demanda Anual\",style=style)\n",
    "C_p=widgets.FloatText(value=25,\n",
    "                    description=\"Costo del Pedido\",style=style)\n",
    "C_E=widgets.FloatText(value=30,\n",
    "                    description=\"Costo de ordenar en espera\",style=style)\n",
    "C_u=widgets.FloatText(value=50,\n",
    "                    description=\"Costo unitario de artículo del inventario\",style=style)\n",
    "Tr=widgets.FloatText(value=0.20,\n",
    "                    description=\"Tasa de retención\",style=style)\n",
    "t_E=widgets.FloatText(value=2,\n",
    "                    description=\"Tiempo de espera\",style=style)\n",
    "DH=widgets.FloatText(value=250,\n",
    "                    description=\"Días hábiles\",style=style)\n",
    "def FP(D,C_p,C_E,C_u,Tr,t_E,DH):\n",
    "    C_m=Tr*C_u # Esta fórmula calcula el costo de mantener una unidad \n",
    "    Q=(((2*D*C_p)/(C_m))*((C_m +C_E)/C_E))**(1/2)\n",
    "    S=Q*(C_m/(C_m + C_E))\n",
    "    t_1=(Q-S)/(D/DH)\n",
    "    t_2=S/(D/DH)\n",
    "    C_t=((Q-S)**2/(2*Q)) * C_m + (D/Q)*C_p + ((S**2)/(2*Q))*C_E\n",
    "    P_o=(D/DH)*t_E\n",
    "    Inv_max=Q-S\n",
    "    Pa=D/Q\n",
    "    T=(DH*Q)/D\n",
    "    x=np.arange(0,4*T,.1)\n",
    "    y=-((Q)/T)*(x%T)+Q-S\n",
    "    plt.plot(x,y)\n",
    "    plt.plot(x,len(x)*[Q/2])\n",
    "    plt.plot(x,len(x)*[0])\n",
    "    plt.grid()\n",
    "    display(HTML(\"La cantidad óptima de pedido es: {:.2f}\".format(Q)))\n",
    "    display(HTML(\"Pedidos en espera óptimos: {:.2f}\".format(S)))\n",
    "    display(HTML(\"El costo mínimo es: {:.2f}\".format(C_t)))\n",
    "    display(HTML(\"El inventario máximo es: {:.2f}\".format(Inv_max)))\n",
    "    display(HTML(\"Los días en los que el inventario está disponible son: {:.2f}\".format(t_1)))\n",
    "    display(HTML(\"Los días en los que se agotan las existencias son: {:.2f}\".format(t_2)))\n",
    "    display(HTML(\"El tiempo de cada ciclo (periodo entre pedidos) es: {:.2f}\".format(T)))\n",
    "    return\n",
    "\n",
    "\n",
    "W1=interactive(FP,D=D,C_p=C_p,C_E=C_E,C_u=C_u,Tr=Tr,t_E=t_E,DH=DH)\n",
    "\n",
    "display(W1)"
   ]
  },
  {
   "cell_type": "markdown",
   "metadata": {},
   "source": [
    "## Modelos estocásticos  \n",
    "\n",
    "### Periódo único\n",
    "\n",
    "**Situación 4**\n",
    "\n",
    "La empresa Jean & Jean de la **Situación 1** solicitó un \"satélite\" para la creación de un nuevo diseño de jean con motivos **darks** para la época de Halloween, el cual sería vendido en 45000 pesos, y además tendría un **costo de compra** de 35000 pesos. Suponga que, al finalizar la época de Halloween no fue posible vender la totalidad de jeans **darks**, la empresa para recuperar un poco de dinero, decide rebajar el precio de venta de ese pequeño lote de jeans a 30000 pesos.   Con base en la experiencia anterior, la demanda de los clientes en el \"*Madrugón*\" describe una distribución de probabilidad normal con media de 10000 jeans y una desviación estándar de 150 unidades. \n",
    "\n",
    "De acuerdo a la situación anterior, ¿Cuál debería ser la cantidad de pedido recomendada?\n",
    "\n",
    "Antes de responder a la pregunta de la **situación 4**, es importante identificar  las siguientes ecuaciones que respondena la cantidad óptima y a los costos asociados de este modelo. \n",
    "\n",
    "**Costo de subestimar la demanda**\n",
    "\n",
    "$C_{SUB}$=Precio regular (unidad) $-$ Costo de compra(unidad)\n",
    "\n",
    "**Costo de sobreestimar la demanda**\n",
    "\n",
    "$C_{SOB}=$ Costo de compra(unidad) $-$ Precio de venta (Rescate)\n",
    "\n",
    "$P(demanda \\leq Q^*)= \\dfrac{C_{SUB}}{C_{SUB}+ C_{SOB}}$\n",
    "\n",
    "$Q^*= \\mu + \\mathbb{z} \\cdot \\sigma$\n",
    "\n",
    "Tenga en cuenta que $\\mathbb{z}$ es el valor asociado a la probabilidad acumulada $P(demanda \\leq Q^*)$ de una distribución normal estándar. \n",
    "\n",
    "**ACTIVIDAD** : Realice una calculadora como las de los modelos anteriores para dar respuesta a la **Situación 4**\n",
    "\n",
    "### Punto de reorden\n",
    "\n",
    "**ACTIVIDAD** : De acuerdo a la bibliografía descrita en el contenido programático del curso de **Modelos 2**, investigue en qué consiste el **modelo de punto de Reorden** y dé tres(3) ejemplos de situaciones que le permitan aplicarlo. \n",
    "\n",
    "**Pista:** Tenga en cuenta que el diagrama asociado a este modelo es el presentado a continuación\n",
    "![Imagen](https://github.com/MRippe7/images/blob/master/PO.png?raw=true)"
   ]
  },
  {
   "cell_type": "markdown",
   "metadata": {},
   "source": [
    "**EJERCICIOS DE PRÁCTICA**\n",
    "\n",
    "* Hyundai compra un componente utilizado en la fabricación de generadores automotrices directamente con el proveedor. La operación de producción de generadores de Hyundai, la cual funciona a un ritmo constante, requerirá 1000 componentes por mes durante todo el año. Suponga que los costos de pedido son de  75000 pesos , el costo unitario es de 7500 pesos por componente y los costos de retención anuales son de 20\\% del valor del inventario. Responda las siguientes preguntas de política de inventario: \n",
    "\n",
    " ** ¿Cuál es la cantidad económica de este componente? \n",
    " \n",
    " ** ¿Cuáles son los costos de retención y pedido anuales totales asociados con su cantidad recomendada? \n",
    "    \n",
    " ** Suponga que Hyundai, decidió operar con una política de inventario de pedidos en espera. Se estima que los costos de éstos son de 15000 pesos por unidad por año. Identifique lo siguiente: i) Cantidad de pedido de costo mínimo; ii)Número de pedidos en espera , iii) Inventario máximo, iv) Tiempo de ciclo; v) Costo anual total\n",
    " \n",
    " \n",
    "* Editorial Carvajal produce libros para el mercado minorista. Se espera que la demanda de un libro actual se dé a una tasa anual constante de 7200 ejemplares. El costo de un ejemplar del libro es de 43500 pesos. El costo de retención está basado en un tasa anual de 18\\% y los costos de preparación de la producción son de 450000 pesos por preparación. El equipo con el que se produce el libro tiene un volumen de producción anual de 25000 ejemplares. De acuerdo a la siguiente información encuentre: i) Tamaño del lote de producción de costo mínimo; ii) Número de fases de producción por año; iii) Inventario máximo y iv) Costo anual total \n",
    "\n",
    "\n",
    "* Un reconocido fabricante de varias marcas de pasta dental utiliza el modelo de tamaño del lote de producción para determinar las cantidades de producción de sus productos. El producto conocido como *Total 12* actualmente se produce en tamaños del lote de producción de 5000 unidades. Debido a una reciente escasez de una materia prima particular, el proveedor de la materia prima anunció que un incremento del costo se transferirá al fabricante de *Total 12*. Las estimaciones actuales son que el nuevo costo de la materia prima incrementará el costo de fabricación de la pasta 25\\% por unidad. ¿Cuál será el efecto de este incremento de precio en los tamaños del lote de producción de *Total 12*?\n",
    "\n",
    "\n",
    "*  Hitachi está considerando la compra de un envío especial de aires acondicionados fabricados en Japón. Cada unidad costará a Hitachi 240000 pesos, y se venderá en 375000 pesos. Hitachi no quiere acarrear un excedente de aires acondicionados hasta el año siguiente. Por tanto, venderá todos los acondicionadores sobrantes a un distribuidor en 150000 pesos por unidad. Asegúrese de que la demanda de acondicionadores de aire sigue una distribución de probabilidad normal con $\\mu=20$ y $\\delta=8$"
   ]
  }
 ],
 "metadata": {
  "kernelspec": {
   "display_name": "Python 3",
   "language": "python",
   "name": "python3"
  },
  "language_info": {
   "codemirror_mode": {
    "name": "ipython",
    "version": 3
   },
   "file_extension": ".py",
   "mimetype": "text/x-python",
   "name": "python",
   "nbconvert_exporter": "python",
   "pygments_lexer": "ipython3",
   "version": "3.8.5"
  },
  "latex_envs": {
   "LaTeX_envs_menu_present": true,
   "autoclose": false,
   "autocomplete": true,
   "bibliofile": "biblio.bib",
   "cite_by": "apalike",
   "current_citInitial": 1,
   "eqLabelWithNumbers": true,
   "eqNumInitial": 1,
   "hotkeys": {
    "equation": "Ctrl-E",
    "itemize": "Ctrl-I"
   },
   "labels_anchors": false,
   "latex_user_defs": false,
   "report_style_numbering": false,
   "user_envs_cfg": false
  },
  "toc": {
   "base_numbering": 1,
   "nav_menu": {},
   "number_sections": true,
   "sideBar": true,
   "skip_h1_title": true,
   "title_cell": "Table of Contents",
   "title_sidebar": "Contents",
   "toc_cell": false,
   "toc_position": {
    "height": "calc(100% - 180px)",
    "left": "10px",
    "top": "150px",
    "width": "355.556px"
   },
   "toc_section_display": true,
   "toc_window_display": false
  }
 },
 "nbformat": 4,
 "nbformat_minor": 2
}
