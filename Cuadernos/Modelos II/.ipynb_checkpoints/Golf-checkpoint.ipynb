{
 "cells": [
  {
   "cell_type": "markdown",
   "metadata": {
    "toc": true
   },
   "source": [
    "<h1>Table of Contents<span class=\"tocSkip\"></span></h1>\n",
    "<div class=\"toc\"><ul class=\"toc-item\"></ul></div>"
   ]
  },
  {
   "cell_type": "code",
   "execution_count": 8,
   "metadata": {},
   "outputs": [],
   "source": [
    "import numpy as np"
   ]
  },
  {
   "cell_type": "code",
   "execution_count": 44,
   "metadata": {},
   "outputs": [
    {
     "name": "stdout",
     "output_type": "stream",
     "text": [
      "3355.776\n"
     ]
    }
   ],
   "source": [
    "T=[]\n",
    "TM=[]\n",
    "Ing=[]\n",
    "for n in range(5000):\n",
    "    x=np.random.uniform()\n",
    "    if x<0.01:\n",
    "        t=8\n",
    "    elif x<0.05:\n",
    "        t=9\n",
    "    elif x<0.11:\n",
    "        t=10\n",
    "    elif x<0.19:\n",
    "        t=11\n",
    "    elif x<0.29:\n",
    "        t=12\n",
    "    elif x<0.4:\n",
    "        t=13\n",
    "    elif x<0.52:\n",
    "        t=14\n",
    "    elif x<0.67:\n",
    "        t=15\n",
    "    elif x<0.77:\n",
    "        t=16\n",
    "    elif x<0.86:\n",
    "        t=17\n",
    "    elif x<0.93:\n",
    "        t=18\n",
    "    elif x<0.98:\n",
    "        t=19\n",
    "    else:\n",
    "        t=20\n",
    "    x=np.random.uniform()\n",
    "    if x<0.01:\n",
    "        tm=0\n",
    "    elif x<0.04:\n",
    "        tm=1\n",
    "    elif x<0.09:\n",
    "        tm=2\n",
    "    elif x<0.14:\n",
    "        tm=3\n",
    "    elif x<0.25:\n",
    "        tm=4\n",
    "    elif x<0.40:\n",
    "        tm=5\n",
    "    elif x<0.57:\n",
    "        tm=6\n",
    "    elif x<0.72:\n",
    "        tm=7\n",
    "    elif x<0.85:\n",
    "        tm=8\n",
    "    elif x<0.94:\n",
    "        tm=9\n",
    "    else:\n",
    "        tm=10\n",
    "    if tm+t>=20:\n",
    "        t=20-tm\n",
    "    T.append(t)\n",
    "    TM.append(tm)\n",
    "    ing=180*t+180*tm\n",
    "    Ing.append(ing)\n",
    "\n",
    "print(np.mean(Ing))\n"
   ]
  },
  {
   "cell_type": "code",
   "execution_count": 72,
   "metadata": {},
   "outputs": [],
   "source": [
    "\n",
    "PortafolioFinal=[]\n",
    "for i in range(100000):\n",
    "    año=range(0,30)\n",
    "    Edad=range(25,56)\n",
    "    PortAct=14500\n",
    "    SalAct=34000\n",
    "    TasaInv=0.04\n",
    "    CrecAnual=[]\n",
    "    CrecAnualP=[]\n",
    "    Sal=[34000]\n",
    "    Port_Inicial=[14500]\n",
    "    Nueva_inv=[]\n",
    "    for i in año:\n",
    "        TasaCre=np.random.uniform(0,0.10)\n",
    "        CrecAnual.append(TasaCre)\n",
    "        TasaCreP=np.random.normal(0.10,0.05)\n",
    "        CrecAnualP.append(TasaCreP)\n",
    "        Sal_m=Sal[i]+TasaCre*Sal[i]\n",
    "        Sal.append(Sal_m)\n",
    "        Nueva_inv.append(TasaInv*Sal[i])\n",
    "        Port=Port_Inicial[i]+Nueva_inv[i]+TasaCreP*(Port_Inicial[i]+0.5*Nueva_inv[i])\n",
    "        Port_Inicial.append(Port)\n",
    "    PortafolioFinal.append(Port_Inicial[-1])\n",
    "\n"
   ]
  },
  {
   "cell_type": "code",
   "execution_count": 73,
   "metadata": {},
   "outputs": [
    {
     "data": {
      "text/plain": [
       "(array([9.7800e+02, 1.3887e+04, 3.3895e+04, 3.0178e+04, 1.4594e+04,\n",
       "        4.8450e+03, 1.2550e+03, 2.9900e+02, 5.9000e+01, 1.0000e+01]),\n",
       " array([ 274300.417832  ,  386237.45223734,  498174.48664268,\n",
       "         610111.52104802,  722048.55545336,  833985.5898587 ,\n",
       "         945922.62426404, 1057859.65866938, 1169796.69307472,\n",
       "        1281733.72748006, 1393670.7618854 ]),\n",
       " <BarContainer object of 10 artists>)"
      ]
     },
     "execution_count": 73,
     "metadata": {},
     "output_type": "execute_result"
    },
    {
     "data": {
      "image/png": "[encoded data removed]",
      "text/plain": [
       "<Figure size 432x288 with 1 Axes>"
      ]
     },
     "metadata": {
      "needs_background": "light"
     },
     "output_type": "display_data"
    }
   ],
   "source": [
    "import matplotlib.pyplot as plt\n",
    "plt.hist(PortafolioFinal)"
   ]
  },
  {
   "cell_type": "code",
   "execution_count": 75,
   "metadata": {},
   "outputs": [
    {
     "name": "stdout",
     "output_type": "stream",
     "text": [
      "0.792 %\n"
     ]
    }
   ],
   "source": [
    "t=0\n",
    "for i in PortafolioFinal:\n",
    "    if i >1000000:\n",
    "        t+=1\n",
    "print(t/1000,\"%\" )\n",
    "    "
   ]
  },
  {
   "cell_type": "code",
   "execution_count": null,
   "metadata": {},
   "outputs": [],
   "source": []
  }
 ],
 "metadata": {
  "kernelspec": {
   "display_name": "Python 3",
   "language": "python",
   "name": "python3"
  },
  "language_info": {
   "codemirror_mode": {
    "name": "ipython",
    "version": 3
   },
   "file_extension": ".py",
   "mimetype": "text/x-python",
   "name": "python",
   "nbconvert_exporter": "python",
   "pygments_lexer": "ipython3",
   "version": "3.8.5"
  },
  "toc": {
   "base_numbering": 1,
   "nav_menu": {},
   "number_sections": true,
   "sideBar": true,
   "skip_h1_title": true,
   "title_cell": "Table of Contents",
   "title_sidebar": "Contents",
   "toc_cell": true,
   "toc_position": {},
   "toc_section_display": true,
   "toc_window_display": false
  }
 },
 "nbformat": 4,
 "nbformat_minor": 4
}
