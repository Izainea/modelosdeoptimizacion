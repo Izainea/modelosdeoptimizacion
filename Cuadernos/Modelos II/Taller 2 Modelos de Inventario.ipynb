{
 "cells": [
  {
   "cell_type": "markdown",
   "metadata": {
    "toc": true
   },
   "source": [
    "<h1>Problemas Corte 2<span class=\"tocSkip\"></span></h1>\n",
    "<div class=\"toc\"><ul class=\"toc-item\"><li><span><a href=\"#Problemas\" data-toc-modified-id=\"Problemas-1\"><span class=\"toc-item-num\">1&nbsp;&nbsp;</span>Problemas</a></span><ul class=\"toc-item\"><li><span><a href=\"#Problema-1\" data-toc-modified-id=\"Problema-1-1.1\"><span class=\"toc-item-num\">1.1&nbsp;&nbsp;</span>Problema 1</a></span></li><li><span><a href=\"#Problema-2\" data-toc-modified-id=\"Problema-2-1.2\"><span class=\"toc-item-num\">1.2&nbsp;&nbsp;</span>Problema 2</a></span></li><li><span><a href=\"#Problema-3\" data-toc-modified-id=\"Problema-3-1.3\"><span class=\"toc-item-num\">1.3&nbsp;&nbsp;</span>Problema 3</a></span></li><li><span><a href=\"#Problema-4\" data-toc-modified-id=\"Problema-4-1.4\"><span class=\"toc-item-num\">1.4&nbsp;&nbsp;</span>Problema 4</a></span></li></ul></li></ul></div>"
   ]
  },
  {
   "cell_type": "markdown",
   "metadata": {},
   "source": [
    "# Problemas\n",
    "\n",
    "*Universidad Externado de Colombia*\n",
    "\n",
    "## Problema 1\n",
    "R&B Beverage Company dispone de una bebida refrescante que muestra una tasa anual de demanda constante de 3600 cajas. Una caja de bebida refrescante cuesta 3 dólares. Los costos de ordenar son de 20 dólares por pedido y los costos de retención ascienden\n",
    "a 25% del valor del inventario. R&B labora 250 días por año y el tiempo de espera es de 5 días.\n",
    "\n",
    "**Informe Gerencial**\n",
    "\n",
    "De acuerdo a la situación anterior se requiere un informe (que puede ser elaborado como un cuaderno Jupyter) que contenga lo siguiente:\n",
    "\n",
    "1. Un análisis de costos que desagregue los costos de retención y los costos de pedido. \n",
    "\n",
    "2. Un desarrollo de la política de inventario que en la cual se ordena una cantidad fija Q al proveedor. Incluya lo siguiente en las política de inventario:\n",
    "             a. Cantidad óptima Q*.\n",
    "             b. Número de pedido o fases de producción por año.\n",
    "             c. Tiempo de ciclo.\n",
    "             d. Punto de reorden.\n",
    "             f. Inventario máximo esperado.\n",
    "             g. Inventario promedio.\n",
    "             h. Costo de retención anual.\n",
    "             i. Costo anual de ordenar.\n",
    "             j. Costo anual de las unidades adquiridas.\n",
    "             k. Costo anual total de la política de inventario."
   ]
  },
  {
   "cell_type": "markdown",
   "metadata": {},
   "source": [
    "Una propiedad general del modelo de inventario EOQ es que los costos totales de retención del inventario y de ordenar son iguales con la solución óptima. Utilice los datos del ***(Problema 1)*** para demostrar que este resultado es cierto."
   ]
  },
  {
   "cell_type": "markdown",
   "metadata": {},
   "source": [
    "## Problema 2\n",
    "\n",
    "Westside Auto compra un componente utilizado en la fabricación de generadores automotrices directamente con el proveedor. La operación de producción de generadores de Westside, la cual funciona a un ritmo constante, requerirá 1000 componentes por mes durante todo el año (12 000 unidades cada año). Suponga que los costos de ordenar son de 25 dólares por pedido, el costo unitario es de 2.50 dólares por componente y los costos de retención anuales son de 20% del valor del inventario. Westside labora 250 días por año y su tiempo de espera es de 5 días. Responda las siguientes preguntas de política de inventario:\n",
    "\n",
    "**Informe Gerencial**\n",
    "\n",
    "De acuerdo a la situación anterior se requiere un informe (que puede ser elaborado como un cuaderno Jupyter) que responda lo siguiente:\n",
    "\n",
    "1. ¿Cuál es la EOQ de este componente?\n",
    "2. ¿Cuál es el punto de reorden?\n",
    "3. ¿Cuál es el tiempo del ciclo?\n",
    "4. ¿Cuáles son los costos de retención y pedido anuales totales asociados con su EOQ recomendada?"
   ]
  },
  {
   "cell_type": "markdown",
   "metadata": {},
   "source": [
    "## Problema 3\n",
    "\n",
    "All Star Bat Manufacturing, Inc. surte bates de beisbol a equipos de las ligas mayores y menores. Después de un pedido inicial en enero, la demanda durante la temporada de seis meses se mantiene aproximadamente constante en 1000 bates por mes. Suponiendo que el proceso de producción de bates puede manejar hasta 4 000 bates por mes, los costos de preparación de la producción son de 150 dólares por preparación, el costo de producción es de 10 dólares por bate y los costos de retención tienen una tasa mensual de 2%.\n",
    "\n",
    "**Informe Gerencial**\n",
    "\n",
    "De acuerdo a la situación anterior se requiere un informe (que puede ser elaborado como un cuaderno Jupyter) que responda lo siguiente:\n",
    "\n",
    "1. ¿Qué tamaño de lote de producción recomendaría para satisfacer la demanda durante la temporada de beisbol?\n",
    "2. Si All-Star labora 20 días al mes, ¿con qué frecuencia operará el proceso de producción y cuál es la duración de la fase de producción?"
   ]
  },
  {
   "cell_type": "markdown",
   "metadata": {},
   "source": [
    "## Problema 4\n",
    "\n",
    "Wilson Publishing Company produce libros para el mercado minorista. Se espera que la demanda de un libro actual se dé a una tasa anual constante de 7200 ejemplares. El costo de un ejemplar del libro es de 14.50 dólares. El costo de retención está basado en un tasa anual de 18% y los costos de preparación de la producción son de 150 dólares por preparación. El equipo con el que se produce el libro tiene un volumen de producción anual de 25000 ejemplares. Wilson labora 250 días por año y el tiempo de espera de una fase de producción es de 15 días. \n",
    "\n",
    "**Informe Gerencial**\n",
    "\n",
    "De acuerdo a la situación anterior se requiere un informe (que puede ser elaborado como un cuaderno Jupyter) que contenga lo siguiente:\n",
    "\n",
    "1. Un análisis de costos que desagregue los costos de retención, producción y pedido. \n",
    "\n",
    "2. Un desarrollo de la política de inventario que en la cual se ordena una cantidad fija Q al proveedor. Incluya lo siguiente en la política de inventario:\n",
    "             a. Cantidad óptima Q*\n",
    "             b. Tamaño del lote de producción de costo mínimo\n",
    "             b. Número de fases de producción por año\n",
    "             c. Tiempo de ciclo\n",
    "             d. Duración de una fase de producción\n",
    "             f. Inventario máximo esperado\n",
    "             g. Inventario promedio\n",
    "            l. Costo anual total de la producción\n",
    "             m. Punto de reorden.\n",
    "\n"
   ]
  }
 ],
 "metadata": {
  "kernelspec": {
   "display_name": "Python 3",
   "language": "python",
   "name": "python3"
  },
  "language_info": {
   "codemirror_mode": {
    "name": "ipython",
    "version": 3
   },
   "file_extension": ".py",
   "mimetype": "text/x-python",
   "name": "python",
   "nbconvert_exporter": "python",
   "pygments_lexer": "ipython3",
   "version": "3.7.6"
  },
  "toc": {
   "base_numbering": 1,
   "nav_menu": {},
   "number_sections": true,
   "sideBar": true,
   "skip_h1_title": false,
   "title_cell": "Problemas Corte 2",
   "title_sidebar": "Corte 2",
   "toc_cell": true,
   "toc_position": {},
   "toc_section_display": true,
   "toc_window_display": false
  }
 },
 "nbformat": 4,
 "nbformat_minor": 4
}
