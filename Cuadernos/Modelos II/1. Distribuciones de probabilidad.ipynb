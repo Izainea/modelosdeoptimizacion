{
 "cells": [
  {
   "cell_type": "markdown",
   "metadata": {},
   "source": [
    "# Probabilidad"
   ]
  },
  {
   "cell_type": "markdown",
   "metadata": {},
   "source": [
    "## Introducción a conceptos básicos de probabilidad\n",
    "\n",
    "**Espacio muestral:** Conjunto de todos los eventos posibles de un experimento aleatorio,un experimento que tiene varios resultados posible.\n",
    "\n",
    "*Ejemplo:*\n",
    "\n",
    "* El espacio muestral de lanzar una moneda consiste en {cara,sello}.\n",
    "\n",
    "* El espacio muestral de lanzar dos monedas es: {(cara,cara),(cara,sello),(sello,cara),(sello,sello)}\n",
    "\n",
    "* El espacio muestral de lanzar un par de dados: {(1,1),(1,2),(1,3),(1,4),(1,5),(1,6),(2,1),(2,2),..., (6,6)}\n",
    "\n"
   ]
  },
  {
   "cell_type": "markdown",
   "metadata": {},
   "source": [
    "\n",
    "**Evento:** Un subconjunto del espacio muestral*(una definición previa porque saltamos la sigma-algebra)"
   ]
  },
  {
   "cell_type": "markdown",
   "metadata": {},
   "source": [
    "**Probabilidad de un evento:** La probabilidad de un evento es la razón entre la cantidad de elementos del evento y la cantidad de elementos del expacio muestral \n",
    "(# casos del evento)/(# total de casos) \n",
    "\n",
    "$$P(E)=\\cfrac{\\# favorables}{\\# total}$$\n"
   ]
  },
  {
   "cell_type": "markdown",
   "metadata": {},
   "source": [
    "**Variable aleatoria:** Una función que asigna un número real a los resultados de un experimento aleatorio.\n",
    "\n",
    "\n",
    "*Ejemplos*\n",
    "\n",
    "*Experimento aleatorio:* lanzar dos monedas, una *variable aleatoria* es contar la cantidad de caras en el lanzamiento:\n",
    "\n",
    "\n",
    "(cara,cara) ---->  2\n",
    "\n",
    "(cara,sello) ----> 1\n",
    "\n",
    "(sello,cara) ----> 1\n",
    "\n",
    "(sello,sello) ----> 0\n",
    "\n",
    "*Experimento aleatorio:* lanzar dos dados.\n",
    "\n",
    "*Variable aleatoria:* Sumar los resultados.\n",
    "\n",
    "(1,1) -----> 2\n",
    "\n",
    "(3,5)-----> 8\n",
    "\n",
    "(6,4) -----> 10"
   ]
  },
  {
   "cell_type": "code",
   "execution_count": 14,
   "metadata": {},
   "outputs": [
    {
     "name": "stdout",
     "output_type": "stream",
     "text": [
      "[['Sello', 'Sello'], ['Sello', 'Cara'], ['Cara', 'Sello'], ['Cara', 'Cara']]\n"
     ]
    }
   ],
   "source": [
    "## Espacio muestral de lanzar dos monedas\n",
    "\n",
    "Posibilidades=[\"Sello\",\"Cara\"]\n",
    "\n",
    "Lista=[[\"Sello\"],[\"Cara\"]]\n",
    "L=[]\n",
    "for j in Lista:\n",
    "    l1=j+[Posibilidades[0]]\n",
    "    l2=j+[Posibilidades[1]]\n",
    "    L.extend([l1,l2])\n",
    "\n",
    "print(L)"
   ]
  },
  {
   "cell_type": "code",
   "execution_count": 19,
   "metadata": {},
   "outputs": [
    {
     "name": "stdout",
     "output_type": "stream",
     "text": [
      "(1, 1) -----> 2\n",
      "(1, 2) -----> 3\n",
      "(1, 3) -----> 4\n",
      "(1, 4) -----> 5\n",
      "(1, 5) -----> 6\n",
      "(1, 6) -----> 7\n",
      "(2, 1) -----> 3\n",
      "(2, 2) -----> 4\n",
      "(2, 3) -----> 5\n",
      "(2, 4) -----> 6\n",
      "(2, 5) -----> 7\n",
      "(2, 6) -----> 8\n",
      "(3, 1) -----> 4\n",
      "(3, 2) -----> 5\n",
      "(3, 3) -----> 6\n",
      "(3, 4) -----> 7\n",
      "(3, 5) -----> 8\n",
      "(3, 6) -----> 9\n",
      "(4, 1) -----> 5\n",
      "(4, 2) -----> 6\n",
      "(4, 3) -----> 7\n",
      "(4, 4) -----> 8\n",
      "(4, 5) -----> 9\n",
      "(4, 6) -----> 10\n",
      "(5, 1) -----> 6\n",
      "(5, 2) -----> 7\n",
      "(5, 3) -----> 8\n",
      "(5, 4) -----> 9\n",
      "(5, 5) -----> 10\n",
      "(5, 6) -----> 11\n",
      "(6, 1) -----> 7\n",
      "(6, 2) -----> 8\n",
      "(6, 3) -----> 9\n",
      "(6, 4) -----> 10\n",
      "(6, 5) -----> 11\n",
      "(6, 6) -----> 12\n"
     ]
    }
   ],
   "source": [
    "## Espacio muestral de lanzar dos dados y la variable aleatoria de sumar dos dados\n",
    "\n",
    "for i in range(6):\n",
    "    for j in range(6):\n",
    "        print((i+1,j+1),\"----->\",i+1+j+1)\n",
    "    "
   ]
  },
  {
   "cell_type": "code",
   "execution_count": 23,
   "metadata": {},
   "outputs": [
    {
     "name": "stdout",
     "output_type": "stream",
     "text": [
      "[2, 3, 4, 5, 6, 7, 3, 4, 5, 6, 7, 8, 4, 5, 6, 7, 8, 9, 5, 6, 7, 8, 9, 10, 6, 7, 8, 9, 10, 11, 7, 8, 9, 10, 11, 12]\n"
     ]
    }
   ],
   "source": [
    "L=[]\n",
    "for i in range(6):\n",
    "    for j in range(6):\n",
    "        L.append(i+1+j+1)\n",
    "        \n",
    "print(L)"
   ]
  },
  {
   "cell_type": "code",
   "execution_count": 33,
   "metadata": {},
   "outputs": [
    {
     "name": "stdout",
     "output_type": "stream",
     "text": [
      "El 2 se obtiene  1 veces; la probabilidad de obtenerlo es 0.0278\n",
      "El 3 se obtiene  2 veces; la probabilidad de obtenerlo es 0.0556\n",
      "El 4 se obtiene  3 veces; la probabilidad de obtenerlo es 0.0833\n",
      "El 5 se obtiene  4 veces; la probabilidad de obtenerlo es 0.1111\n",
      "El 6 se obtiene  5 veces; la probabilidad de obtenerlo es 0.1389\n",
      "El 7 se obtiene  6 veces; la probabilidad de obtenerlo es 0.1667\n",
      "El 8 se obtiene  5 veces; la probabilidad de obtenerlo es 0.1389\n",
      "El 9 se obtiene  4 veces; la probabilidad de obtenerlo es 0.1111\n",
      "El 10 se obtiene  3 veces; la probabilidad de obtenerlo es 0.0833\n",
      "El 11 se obtiene  2 veces; la probabilidad de obtenerlo es 0.0556\n",
      "El 12 se obtiene  1 veces; la probabilidad de obtenerlo es 0.0278\n"
     ]
    }
   ],
   "source": [
    "for i in range(2,13):\n",
    "    print(\"El\", i, \"se obtiene \",L.count(i), \"veces; la probabilidad de obtenerlo es\", round(L.count(i)/36,42))"
   ]
  },
  {
   "cell_type": "code",
   "execution_count": 48,
   "metadata": {
    "scrolled": true
   },
   "outputs": [
    {
     "data": {
      "text/plain": [
       "<BarContainer object of 11 artists>"
      ]
     },
     "execution_count": 48,
     "metadata": {},
     "output_type": "execute_result"
    },
    {
     "data": {
      "image/png": "[encoded data removed]",
      "text/plain": [
       "<Figure size 432x288 with 1 Axes>"
      ]
     },
     "metadata": {
      "needs_background": "light"
     },
     "output_type": "display_data"
    }
   ],
   "source": [
    "## Vamos a pintar el lanzamiento de dos dados\n",
    "import numpy as np\n",
    "import matplotlib.pyplot as plt\n",
    "\n",
    "x=np.arange(2,13)\n",
    "y=[L.count(i)/36 for i in x]\n",
    "\n",
    "plt.bar(x,y,color='k')"
   ]
  },
  {
   "cell_type": "markdown",
   "metadata": {},
   "source": [
    "Otra distribución de probabilidad"
   ]
  },
  {
   "cell_type": "code",
   "execution_count": 51,
   "metadata": {},
   "outputs": [
    {
     "data": {
      "image/png": "[encoded data removed]",
      "text/plain": [
       "<Figure size 432x288 with 1 Axes>"
      ]
     },
     "metadata": {
      "needs_background": "light"
     },
     "output_type": "display_data"
    }
   ],
   "source": [
    "# Graficando histograma\n",
    "mu, sigma = 0, 0.2 # media y desvio estandar\n",
    "datos = np.random.normal(mu, sigma, 1000) #creando muestra de datos\n",
    "\n",
    "# histograma de distribución normal.\n",
    "cuenta, cajas, ignorar = plt.hist(datos, 20,color='r')\n",
    "plt.ylabel('frecuencia')\n",
    "plt.xlabel('valores')\n",
    "plt.title('Histograma')\n",
    "plt.show()"
   ]
  },
  {
   "cell_type": "markdown",
   "metadata": {},
   "source": [
    "## Distribuciones de probabilidad\n",
    "Recordemos que una distribución de probabilidad es una función, que asigna a cada suceso que representa la variable la probabilidad de que éste ocurra.\n",
    "\n",
    "Las distribuciones de probabilidad se pueden agrupoar según el tipo de variable que se está estudiando\n"
   ]
  },
  {
   "cell_type": "markdown",
   "metadata": {},
   "source": [
    "### Para variables aleatorias discretas\n",
    "Tengamos presente que las variables aleatorias discretas son aquellas que representan una cantidad *contable* de sucesos.\n",
    "\n",
    "#### Distribución binomial\n",
    "La distribución binomial se caracteriza por tener un experimento con dos posibles resultados, *éxito* con probabilidad de ocurrencia $p$, y *fracaso* con probabilidad $1-p$, el cual se repite $n$ veces de manera independiente.\n",
    "\n",
    "Para representar que una variable aleatoria $X$ sigue una distribución binomial de parámetros $n$ y $p$, se escribe:\n",
    "\n",
    "$${\\displaystyle X\\sim B(n,p)\\,}$$\n",
    "\n",
    "Su función de probabilidad es:\n",
    "$${\\displaystyle \\!f(x)={n \\choose x}p^{x}(1-p)^{n-x},\\,\\,\\,\\,0\\leq p\\leq 1}$$\n",
    "donde ${\\displaystyle x=\\{0,1,2,\\dots ,n\\},}$\n"
   ]
  },
  {
   "cell_type": "markdown",
   "metadata": {},
   "source": [
    "**Ejemplo**\n",
    "\n",
    "Supongamos que se lanza un dado equilibrado (de 6 caras) 60 veces y queremos conocer la probabilidad de que el número 2 salga 10 veces.\n",
    "\n",
    "Un ensayo de nuestro problema consiste en lanzar el dado una vez, si se considera como éxito obtener un 3 y fracaso si no sale 3. Definiendo $X:=$ el número de veces que se obtiene un 2 en 60 lanzamientos.\n",
    "\n",
    "De lo anterior se puede afirmar que $X \\sim B(60, 1/6)$ y la probabilidad a calcular es $P(X=10)$:\n",
    "\n",
    "$${\\displaystyle \\!P(X=10)={60\\choose 10}(1/6)^{10}(1-1/6)^{60-10}=0.0000744\\,\\!}\\approx0.137013.$$\n",
    "\n",
    "Para utilizar ésta y las demás distribuciones de probabilidad en Python debemos trener presente lo siguiente:\n",
    "\n",
    "Se trabajará con el paquete `scipy.stats`, principalmente con las funciones: \n",
    "\n",
    "`cdf(x)`: Función de distribución F(X)\n",
    "\n",
    "`sf(x)`: 1 - cdf(x)\n",
    "\n",
    "`pmf(x)`: Función de probabilidad f(x) (distribuciones discretas)\n",
    "\n",
    "`pdf(x)`: Función de densidad f(x) (distribuciones continuas)\n",
    "\n",
    "`ppf(x)`: Función inversa a cdf(x). Nos permite obtener el valor correspondiente a una probabilidad.\n",
    "\n",
    "Para resolver el problema anterior con el uso de Python debemos seguir los giguientes pasos:"
   ]
  },
  {
   "cell_type": "code",
   "execution_count": 1,
   "metadata": {},
   "outputs": [],
   "source": [
    "import scipy.stats as ss\n",
    "X = ss.binom(60,1/6)"
   ]
  },
  {
   "cell_type": "code",
   "execution_count": 2,
   "metadata": {},
   "outputs": [
    {
     "data": {
      "text/plain": [
       "0.13701311426747875"
      ]
     },
     "execution_count": 2,
     "metadata": {},
     "output_type": "execute_result"
    }
   ],
   "source": [
    "X.pmf(10)"
   ]
  },
  {
   "cell_type": "markdown",
   "metadata": {},
   "source": [
    "Es decir la probabilidad es del 13.70%"
   ]
  },
  {
   "cell_type": "markdown",
   "metadata": {},
   "source": [
    "#### Distribución de Poisson\n",
    "Es una distribución de probabilidad discreta que a partir de una frecuencia de ocurrencia media, sirve para hallar la probabilidad de que ocurra un determinado número de eventos durante cierto período de tiempo.\n",
    "\n",
    "Para representar que una variable aleatoria $X$ sigue una distribución de Poisson con parámetro $\\lambda$, el cual representa el número de veces que se espera que ocurra el fenómeno durante un intervalo dado, usaremos la siguiente notación:\n",
    "\n",
    "$${\\displaystyle X\\sim Poi(\\lambda)},$$\n",
    "\n",
    "La función de masa de probabilidad de la distribución de Poisson es\n",
    "\n",
    "$${\\displaystyle f(k,\\lambda )={\\frac {e^{-\\lambda }\\lambda ^{k}}{k!}}}$$\n",
    "\n",
    "siendo $k$ el número de ocurrencias del evento. \n",
    "\n",
    "**Ejemplo**\n",
    "\n",
    "Si el 1% de los libros encuadernados tiene defectos, para obtener la probabilidad de que 10 de 800 libros encuadernados en este taller tengan encuadernaciones defectuosas usamos la distribución de Poisson.\n",
    "\n",
    "En tal caso $k=10$, $\\lambda=8$ ya que es el $1\\%$ de $800$\n",
    "por lo tanto\n",
    "$${\\displaystyle P(10;8)={\\frac {8^{10}e^{-8}}{10!}}\\approx0,0992615.}$$"
   ]
  },
  {
   "cell_type": "code",
   "execution_count": 3,
   "metadata": {},
   "outputs": [
    {
     "data": {
      "text/plain": [
       "0.09926153383153544"
      ]
     },
     "execution_count": 3,
     "metadata": {},
     "output_type": "execute_result"
    }
   ],
   "source": [
    "X = ss.poisson(8)\n",
    "X.pmf(10)"
   ]
  },
  {
   "cell_type": "markdown",
   "metadata": {},
   "source": [
    "Es decir la probabilidad es del 9.92%"
   ]
  },
  {
   "cell_type": "markdown",
   "metadata": {
    "variables": {
     "8 \\choose 1}{20-8 \\choose 6-1": "<p><strong>SyntaxError</strong>: unexpected character after line continuation character (<ipython-input-4-e19f3d9873b4>, line 1)</p>\n",
     "d \\choose x}{N-d \\choose n-x": "<p><strong>SyntaxError</strong>: unexpected character after line continuation character (<ipython-input-4-772e2014b2dd>, line 1)</p>\n"
    }
   },
   "source": [
    "#### Distribución hipergeométrica\n",
    "Ésta es una distribución discreta relacionada con muestreos aleatorios y sin reemplazo, es decir, si se tienen $N$ elementos de los cuales, $d$ pertenecen a la categoría $A$ y los demás, $N-d$, a la categoría $B$. La distribución hipergeométrica mide la probabilidad de obtener $x$ elementos de la categoría $A$, para $({\\displaystyle 0\\leq x\\leq d})$, en una muestra sin reemplazo de $n$ elementos de la población original.\n",
    "\n",
    "La función de probabilidad de una variable aleatoria con distribución hipergeométrica es igual a\n",
    "\n",
    "$${\\displaystyle P(X=x)={\\frac {{d \\choose x}{N-d \\choose n-x}}{N \\choose n}}.}$$\n",
    "\n",
    "**Ejemplo**\n",
    "\n",
    "Se formó un jurado de 6 personas de un grupo de 20 posibles miembros de los cuales 8 eran mujeres y 12 hombres. El jurado seelecionó aleatoriamente, ¿cuál es la probabilidad de que el jurado tenga exactamente una mujer?\n",
    "\n",
    "$$P(20,8,6;1)={\\frac {{8 \\choose 1}{20-8 \\choose 6-1}}{20 \\choose 6}}\\approx 0.16346$$"
   ]
  },
  {
   "cell_type": "code",
   "execution_count": 4,
   "metadata": {},
   "outputs": [
    {
     "data": {
      "text/plain": [
       "0.16346749226006166"
      ]
     },
     "execution_count": 4,
     "metadata": {},
     "output_type": "execute_result"
    }
   ],
   "source": [
    "X = ss.hypergeom(20,6,8)\n",
    "X.pmf(1)"
   ]
  },
  {
   "cell_type": "markdown",
   "metadata": {},
   "source": [
    "Es decir la probabilidad es del 16.34%"
   ]
  },
  {
   "cell_type": "markdown",
   "metadata": {},
   "source": [
    "### Para variables aleatorias continuas\n",
    "Por otro lado, las variables aleatorias continuas, son las que resultan generalmente de la medición y, pueden tomar cualquier valor dentro de un intervalo.\n",
    "\n",
    "#### Distribución Normal\n",
    "Es la distribución que se aplica en la mayor cantidad de situaciones, en las que se trabaje con una variable aleatoria continua en un grupo o población dada. Ejemplos de tales situaciones son, las estaturas de hombre, mujeres, variaciones en la medición de diferentes cantidades, etc.\n",
    "\n",
    "Los parámetros que necesitamos definir para estudiar la distribución normal son $\\mu$ que es la media;  $\\sigma$ que representa la desviación típica, de modo que $\\sigma^2$ es la varianza. Si consideramos el caso especial de la función donde ${\\displaystyle \\mu =0}$ y ${\\displaystyle \\sigma =1}$, llamaremos a tal función como distribución normal estándar.\n",
    "    \n",
    "$$N(x;  μ,σ) = ∫_{-∞}^{x} f(u; μ,σ) du$$\n",
    "donde $f(u; μ,σ)$ es la función densidad de probabilidad:\n",
    "\n",
    "$$f(u; μ,σ) = \\frac{1}{σ\\sqrt{2π}} e^{\\frac{-(u-\\mu)^2}{2σ^2}}$$\n",
    "\n",
    "Muchas veces cuando no se posee un software, se hace necesario el uso de valores ya calculados que por lo general están consignados en tablas y son documentos de fácil acceso.\n",
    "\n",
    "**Ejemplo **\n",
    "\n",
    "Suponga que tiene un conjunto de datos aleatorios $X$ que siguen una distribución normal de media $10$ y desviación típica $2$. Se pide encontrar la probabilidad de que:\n",
    "\n",
    "1. La variable aleatoria $x$ sea menor o igual a 8.\n",
    "\n"
   ]
  },
  {
   "cell_type": "code",
   "execution_count": 5,
   "metadata": {},
   "outputs": [],
   "source": [
    "X = ss.norm(10,2)"
   ]
  },
  {
   "cell_type": "code",
   "execution_count": 6,
   "metadata": {},
   "outputs": [
    {
     "data": {
      "text/plain": [
       "0.15865525393145707"
      ]
     },
     "execution_count": 6,
     "metadata": {},
     "output_type": "execute_result"
    }
   ],
   "source": [
    "X.cdf(8) # La propabilidad es del 15.86%"
   ]
  },
  {
   "cell_type": "markdown",
   "metadata": {},
   "source": [
    "2. Sea menor o igual a 10."
   ]
  },
  {
   "cell_type": "code",
   "execution_count": 7,
   "metadata": {},
   "outputs": [
    {
     "data": {
      "text/plain": [
       "0.5"
      ]
     },
     "execution_count": 7,
     "metadata": {},
     "output_type": "execute_result"
    }
   ],
   "source": [
    "X.cdf(10) # La propabilidad es del 50%"
   ]
  },
  {
   "cell_type": "markdown",
   "metadata": {},
   "source": [
    "3.  Que la variable $x$ esté por debajo de 12.\n"
   ]
  },
  {
   "cell_type": "code",
   "execution_count": 8,
   "metadata": {},
   "outputs": [
    {
     "data": {
      "text/plain": [
       "0.8413447460685429"
      ]
     },
     "execution_count": 8,
     "metadata": {},
     "output_type": "execute_result"
    }
   ],
   "source": [
    "X.cdf(12) # La propabilidad es del 84.13%"
   ]
  },
  {
   "cell_type": "markdown",
   "metadata": {},
   "source": [
    "4. La probabilidad que un valor $x$ esté entre 8 y 12."
   ]
  },
  {
   "cell_type": "code",
   "execution_count": 9,
   "metadata": {},
   "outputs": [
    {
     "data": {
      "text/plain": [
       "0.6826894921370859"
      ]
     },
     "execution_count": 9,
     "metadata": {},
     "output_type": "execute_result"
    }
   ],
   "source": [
    "X.cdf(12)-X.cdf(8) # La propabilidad es del 68.26%"
   ]
  },
  {
   "cell_type": "code",
   "execution_count": 3,
   "metadata": {},
   "outputs": [],
   "source": [
    "import scipy.stats as ss\n",
    "def Poisson(lam,n):\n",
    "    X=ss.poisson(lam)\n",
    "    res=X.pmf(n)\n",
    "    return res"
   ]
  },
  {
   "cell_type": "code",
   "execution_count": 11,
   "metadata": {},
   "outputs": [],
   "source": [
    "X=ss.poisson(21)"
   ]
  },
  {
   "cell_type": "code",
   "execution_count": 12,
   "metadata": {},
   "outputs": [
    {
     "data": {
      "text/plain": [
       "7.582560427911907e-10"
      ]
     },
     "execution_count": 12,
     "metadata": {},
     "output_type": "execute_result"
    }
   ],
   "source": [
    "X.pmf(0)"
   ]
  },
  {
   "cell_type": "code",
   "execution_count": 13,
   "metadata": {},
   "outputs": [
    {
     "data": {
      "text/plain": [
       "0.16229900935932084"
      ]
     },
     "execution_count": 13,
     "metadata": {},
     "output_type": "execute_result"
    }
   ],
   "source": [
    "1-X.cdf(25)"
   ]
  },
  {
   "cell_type": "code",
   "execution_count": 10,
   "metadata": {},
   "outputs": [
    {
     "data": {
      "text/plain": [
       "21.0"
      ]
     },
     "execution_count": 10,
     "metadata": {},
     "output_type": "execute_result"
    }
   ],
   "source": [
    "252/12"
   ]
  },
  {
   "cell_type": "code",
   "execution_count": 18,
   "metadata": {},
   "outputs": [],
   "source": [
    "X=ss.binom(26,0.51)"
   ]
  },
  {
   "cell_type": "code",
   "execution_count": 19,
   "metadata": {},
   "outputs": [
    {
     "data": {
      "text/plain": [
       "0.1541770471529019"
      ]
     },
     "execution_count": 19,
     "metadata": {},
     "output_type": "execute_result"
    }
   ],
   "source": [
    "X.pmf(13)"
   ]
  },
  {
   "cell_type": "code",
   "execution_count": 20,
   "metadata": {},
   "outputs": [
    {
     "data": {
      "text/plain": [
       "0.3826807990551755"
      ]
     },
     "execution_count": 20,
     "metadata": {},
     "output_type": "execute_result"
    }
   ],
   "source": [
    "X.cdf(12)"
   ]
  }
 ],
 "metadata": {
  "kernelspec": {
   "display_name": "Python 3",
   "language": "python",
   "name": "python3"
  },
  "language_info": {
   "codemirror_mode": {
    "name": "ipython",
    "version": 3
   },
   "file_extension": ".py",
   "mimetype": "text/x-python",
   "name": "python",
   "nbconvert_exporter": "python",
   "pygments_lexer": "ipython3",
   "version": "3.8.5"
  },
  "latex_envs": {
   "LaTeX_envs_menu_present": true,
   "autoclose": false,
   "autocomplete": true,
   "bibliofile": "biblio.bib",
   "cite_by": "apalike",
   "current_citInitial": 1,
   "eqLabelWithNumbers": true,
   "eqNumInitial": 1,
   "hotkeys": {
    "equation": "Ctrl-E",
    "itemize": "Ctrl-I"
   },
   "labels_anchors": false,
   "latex_user_defs": false,
   "report_style_numbering": false,
   "user_envs_cfg": false
  },
  "toc": {
   "base_numbering": 1,
   "nav_menu": {},
   "number_sections": true,
   "sideBar": true,
   "skip_h1_title": false,
   "title_cell": "Table of Contents",
   "title_sidebar": "Contents",
   "toc_cell": false,
   "toc_position": {},
   "toc_section_display": true,
   "toc_window_display": false
  }
 },
 "nbformat": 4,
 "nbformat_minor": 4
}
