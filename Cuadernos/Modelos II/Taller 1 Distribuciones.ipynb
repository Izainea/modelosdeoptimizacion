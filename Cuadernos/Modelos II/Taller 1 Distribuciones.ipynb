{
 "cells": [
  {
   "cell_type": "markdown",
   "metadata": {},
   "source": [
    "<div style=\"background-color: #023324; \"><p><br></p>\n",
    "    <img src=\"https://www.uexternado.edu.co/wp-content/themes/externado_theme/images/logo-uec.svg\" alt=\"Universidad Externado\" width=\"150\" align=\"left\">\n",
    "         <h1  style=\"color: white;font-family:Lucida Sans Unicode, Lucida Grande, sans-serif\" align=\"center\">Taller Parcial 1</h1> \n",
    "<p><br></p>\n",
    "</div>    \n",
    "\n",
    "\n",
    "<p><br></p>"
   ]
  },
  {
   "cell_type": "markdown",
   "metadata": {
    "toc": true
   },
   "source": [
    "<h1>Parcial 1<span class=\"tocSkip\"></span></h1>\n",
    "<div class=\"toc\"><ul class=\"toc-item\"><li><span><a href=\"#Uso-de-Python\" data-toc-modified-id=\"Uso-de-Python-1\">Uso de Python</a></span></li><li><span><a href=\"#Distribuciones-de-probabilidad\" data-toc-modified-id=\"Distribuciones-de-probabilidad-2\">Distribuciones de probabilidad</a></span></li><li><span><a href=\"#Cantidad-económica-del-pedido\" data-toc-modified-id=\"Cantidad-económica-del-pedido-3\">Cantidad económica del pedido</a></span></li></ul></div>"
   ]
  },
  {
   "cell_type": "markdown",
   "metadata": {},
   "source": [
    "## Uso de Python"
   ]
  },
  {
   "cell_type": "markdown",
   "metadata": {},
   "source": [
    "En esta primera sección trabajaremos en nuestras habilidades usando Python, crearemos algunas funciones que realicen lo siguiente:"
   ]
  },
  {
   "cell_type": "markdown",
   "metadata": {},
   "source": [
    "**Problema 1** Crear una rutina que reciba el nombre completo de una persona como input y devuelva un texto que cambie el orden de los nombres y apellidos mostrando desde el último hasta el primero. \n",
    "\n",
    "*Ejemplo*\n",
    "\n",
    "Para recibir el texto del nombre recuerden usar;\n",
    "```python\n",
    "input(\"Ingrese su nombre: \")\n",
    "```\n",
    "\n",
    "La salida debe comportarse asi:\n",
    "\n",
    "```\n",
    "Ingrese su nombre: Carlos Isaac Zainea Maya\n",
    "\n",
    "Su nombre al revés es: \n",
    "Maya Zainea Isaac Carlos\n",
    "```"
   ]
  },
  {
   "cell_type": "markdown",
   "metadata": {},
   "source": [
    "**Problema 2** Escriba una rutina que permita determinar una función de costos a partir de costos unitarios y costos fijos. Es muy importante que la función se llame costos y que si se escribe \n",
    "```python\n",
    "costos(2000)\n",
    "```\n",
    "retorne el valor correspondiente al costo de fabricar y vender 2000 productos.\n"
   ]
  },
  {
   "cell_type": "markdown",
   "metadata": {},
   "source": [
    "**Problema 3** *La gráfica de las distribuciones discretas* Escriba una función de Python que reciba los parametros de una distribución discreta binomial o de Poisson y genere el mejor gráfico para visualizar la función de masa de probabilidad de la distribución. "
   ]
  },
  {
   "cell_type": "markdown",
   "metadata": {},
   "source": [
    "## Distribuciones de probabilidad\n"
   ]
  },
  {
   "cell_type": "markdown",
   "metadata": {},
   "source": [
    "Resuelva los siguientes problemas:\n",
    "\n",
    "1. Cincuenta por ciento de los estadounidenses creyeron que el país se encontraba en una recesión aun cuando en la economía no se habían observado dos trimestres seguidos con crecimiento negativo. (BusinessWeek, 30 de julio de 2001). Dada una muestra de 20 estadounidenses, calcule lo siguiente.\n",
    "    1. Calcule la probabilidad de que exactamente 12 personas hayan creído que el país estaba en recesión.\n",
    "    2. De que no más de cinco personas hayan creído que el país estaba en recesión.\n",
    "    3. ¿Cuántas personas esperaría usted que dijeran que el país estuvo en recesión?\n",
    "    4. Calcule la varianza y la desviación estándar del número de personas que creyeron que el país estuvo en recesión.\n",
    "    \n",
    "2. En una encuesta realizada por la Oficina de Censos de Estados Unidos se encontró que 25% de las personas de 25 años o más habían estudiado cuatro años en la universidad (The New York Times Almanac, 2006). Dada una muestra de 15 individuos de 25 años o más, conteste las preguntas siguientes.\n",
    "    1. ¿Cuál es la probabilidad de que cuatro hayan estudiado cuatro años en la universidad?\n",
    "    2. ¿De que tres o más hayan estudiado cuatro años en la universidad?\n",
    "\n",
    "3. En una universidad se encontró que 20% de los estudiantes no terminan el primer curso de estadística, al curso se inscriben 20 estudiantes.\n",
    "\n",
    "    1. Calcule la probabilidad de que dos o menos no terminen.\n",
    "    2. De que cuatro, exactamente, no terminen.\n",
    "    3. De que más de tres no terminen.\n",
    "    4. ¿Cuál es el número esperado de estudiantes que no terminan?\n",
    "    \n",
    "4. En Estados Unidos, cada año, más de 50 millones de huéspedes se alojan en un “Bread and breakfast” (B&B). El sitio Web dedicado a los alojamientos tipo Bread and Breakfast en Estados Unidos (www.bestinns.net), que tiene un promedio aproximado de siete visitantes por minuto, permite a muchos B&B obtener huéspedes (Time, septiembre de 2001).\n",
    "    1. Calcule la probabilidad de que no haya ningún visitante al sitio Web en un lapso de un minuto.\n",
    "    2. De que haya dos o más visitantes al sitio Web en un lapso de un minuto.\n",
    "    3. De que haya uno o más visitantes al sitio Web en un lapso de 30 segundos.\n",
    "    4. De que haya cinco o más visitantes al sitio Web en un lapso de un minuto.\n",
    "\n",
    "5. Los pasajeros de las aerolíneas llegan en forma aleatoria e independiente al mostrador de revisión de pasajeros. La tasa media de llegada es 10 pasajeros por minuto.\n",
    "\n",
    "    1. Calcule la probabilidad de que no llegue ningún pasajero en un lapso de un minuto.\n",
    "    2. Calcule la probabilidad de que lleguen tres o menos pasajeros en un lapso de un minuto.\n",
    "    3. De que no llegue ningún pasajero en un lapso de 15 segundos.\n",
    "    4. De que llegue por lo menos un pasajero en un lapso de 15 segundos.\n",
    "    \n",
    "6. Cada año ocurren en promedio 15 accidentes aéreos (The World Almanac and Book of Facts, 2004).\n",
    "    1. Calcule el número medio de accidentes aéreos por mes.\n",
    "    2. Calcule la probabilidad de que no haya ningún accidente en un mes.\n",
    "    3. De que haya exactamente un accidente en un mes.\n",
    "    4. De que haya más de un accidente en un mes.\n",
    "7. El National Safety Council de Estados Unidos estima que los accidentes fuera del trabajo tienen para las empresas un costo de casi $\\$200$ mil millones anuales en pérdida de productividad. Con base en estos datos, las empresas que tienen 50 empleados esperan tener por lo menos tres  accidentes fuera del trabajo por año. Para estas empresas con 50 empleados, conteste las preguntas\n",
    "siguientes.\n",
    "    1. ¿Cuál es la probabilidad de que no haya ningún accidente fuera del trabajo en un año?\n",
    "    2. ¿De que haya por lo menos dos accidentes fuera del trabajo en un año?\n",
    "    3. ¿Cuál es el número esperado de accidentes fuera del trabajo en un lapso de seis meses?\n",
    "    4. ¿Cuál es la probabilidad de que no haya ningún accidente fuera del trabajo en los próximos\n",
    "seis meses?"
   ]
  },
  {
   "cell_type": "markdown",
   "metadata": {},
   "source": [
    "## Cantidad económica del pedido\n"
   ]
  },
  {
   "cell_type": "markdown",
   "metadata": {},
   "source": [
    "1. Suponga que R&B Beverage Company dispone de una bebida refrescante que muestra una tasa anual de demanda constante de 3600 cajas. Una caja de bebida refrescante cuesta $\\$3$. Los costos de ordenar es de $\\$20$ por pedido y los costos de retención ascienden a 25% del valor del inventario. Si R&B labora 250 días por año, identifique los siguientes aspectos de la política de inventario:\n",
    "    1. Cantidad económica del pedido\n",
    "    2. Tiempo de ciclo\n",
    "    3. Costo anual total"
   ]
  }
 ],
 "metadata": {
  "kernelspec": {
   "display_name": "Python 3",
   "language": "python",
   "name": "python3"
  },
  "language_info": {
   "codemirror_mode": {
    "name": "ipython",
    "version": 3
   },
   "file_extension": ".py",
   "mimetype": "text/x-python",
   "name": "python",
   "nbconvert_exporter": "python",
   "pygments_lexer": "ipython3",
   "version": "3.7.6"
  },
  "latex_envs": {
   "LaTeX_envs_menu_present": true,
   "autoclose": false,
   "autocomplete": true,
   "bibliofile": "biblio.bib",
   "cite_by": "apalike",
   "current_citInitial": 1,
   "eqLabelWithNumbers": true,
   "eqNumInitial": 1,
   "hotkeys": {
    "equation": "Ctrl-E",
    "itemize": "Ctrl-I"
   },
   "labels_anchors": false,
   "latex_user_defs": false,
   "report_style_numbering": false,
   "user_envs_cfg": false
  },
  "toc": {
   "base_numbering": 1,
   "nav_menu": {},
   "number_sections": false,
   "sideBar": true,
   "skip_h1_title": true,
   "title_cell": "Parcial 1",
   "title_sidebar": "Parcial 1",
   "toc_cell": true,
   "toc_position": {
    "height": "calc(100% - 180px)",
    "left": "10px",
    "top": "150px",
    "width": "371.6px"
   },
   "toc_section_display": true,
   "toc_window_display": false
  }
 },
 "nbformat": 4,
 "nbformat_minor": 2
}
