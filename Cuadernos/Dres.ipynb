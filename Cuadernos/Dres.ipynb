{
 "cells": [
  {
   "cell_type": "code",
   "execution_count": 1,
   "id": "d70ea9e3",
   "metadata": {},
   "outputs": [],
   "source": [
    "import pandas as pd\n",
    "from pulp import *"
   ]
  },
  {
   "cell_type": "code",
   "execution_count": 24,
   "id": "bcc0fefc",
   "metadata": {},
   "outputs": [],
   "source": [
    "DFproy=pd.read_excel('ProyectosDres.xlsx',index_col='Proyectos')"
   ]
  },
  {
   "cell_type": "code",
   "execution_count": 25,
   "id": "ca7e6dc9",
   "metadata": {},
   "outputs": [
    {
     "data": {
      "text/html": [
       "<div>\n",
       "<style scoped>\n",
       "    .dataframe tbody tr th:only-of-type {\n",
       "        vertical-align: middle;\n",
       "    }\n",
       "\n",
       "    .dataframe tbody tr th {\n",
       "        vertical-align: top;\n",
       "    }\n",
       "\n",
       "    .dataframe thead th {\n",
       "        text-align: right;\n",
       "    }\n",
       "</style>\n",
       "<table border=\"1\" class=\"dataframe\">\n",
       "  <thead>\n",
       "    <tr style=\"text-align: right;\">\n",
       "      <th></th>\n",
       "      <th>KVAAL</th>\n",
       "      <th>ZUNER</th>\n",
       "      <th>TSAI</th>\n",
       "      <th>MICKEY</th>\n",
       "      <th>ROLLINS</th>\n",
       "    </tr>\n",
       "    <tr>\n",
       "      <th>Proyectos</th>\n",
       "      <th></th>\n",
       "      <th></th>\n",
       "      <th></th>\n",
       "      <th></th>\n",
       "      <th></th>\n",
       "    </tr>\n",
       "  </thead>\n",
       "  <tbody>\n",
       "    <tr>\n",
       "      <th>Arriba</th>\n",
       "      <td>100</td>\n",
       "      <td>0</td>\n",
       "      <td>100</td>\n",
       "      <td>267</td>\n",
       "      <td>100</td>\n",
       "    </tr>\n",
       "    <tr>\n",
       "      <th>Estable</th>\n",
       "      <td>400</td>\n",
       "      <td>200</td>\n",
       "      <td>100</td>\n",
       "      <td>153</td>\n",
       "      <td>33</td>\n",
       "    </tr>\n",
       "    <tr>\n",
       "      <th>Elección</th>\n",
       "      <td>200</td>\n",
       "      <td>800</td>\n",
       "      <td>100</td>\n",
       "      <td>99</td>\n",
       "      <td>33</td>\n",
       "    </tr>\n",
       "    <tr>\n",
       "      <th>Esperanza</th>\n",
       "      <td>200</td>\n",
       "      <td>0</td>\n",
       "      <td>100</td>\n",
       "      <td>451</td>\n",
       "      <td>34</td>\n",
       "    </tr>\n",
       "    <tr>\n",
       "      <th>Liberación</th>\n",
       "      <td>100</td>\n",
       "      <td>0</td>\n",
       "      <td>600</td>\n",
       "      <td>30</td>\n",
       "      <td>800</td>\n",
       "    </tr>\n",
       "  </tbody>\n",
       "</table>\n",
       "</div>"
      ],
      "text/plain": [
       "            KVAAL  ZUNER  TSAI  MICKEY  ROLLINS\n",
       "Proyectos                                      \n",
       "Arriba        100      0   100     267      100\n",
       "Estable       400    200   100     153       33\n",
       "Elección      200    800   100      99       33\n",
       "Esperanza     200      0   100     451       34\n",
       "Liberación    100      0   600      30      800"
      ]
     },
     "execution_count": 25,
     "metadata": {},
     "output_type": "execute_result"
    }
   ],
   "source": [
    "DFproy"
   ]
  },
  {
   "cell_type": "code",
   "execution_count": 26,
   "id": "9311bfa6",
   "metadata": {},
   "outputs": [
    {
     "data": {
      "text/plain": [
       "Index(['KVAAL', 'ZUNER', 'TSAI', 'MICKEY', 'ROLLINS'], dtype='object')"
      ]
     },
     "execution_count": 26,
     "metadata": {},
     "output_type": "execute_result"
    }
   ],
   "source": [
    "DFproy.columns"
   ]
  },
  {
   "cell_type": "code",
   "execution_count": 27,
   "id": "ca3a2116",
   "metadata": {},
   "outputs": [
    {
     "data": {
      "text/plain": [
       "Index(['Arriba', 'Estable', 'Elección', 'Esperanza', 'Liberación'], dtype='object', name='Proyectos')"
      ]
     },
     "execution_count": 27,
     "metadata": {},
     "output_type": "execute_result"
    }
   ],
   "source": [
    "DFproy.index"
   ]
  },
  {
   "cell_type": "code",
   "execution_count": 28,
   "id": "55f31baa",
   "metadata": {},
   "outputs": [],
   "source": [
    "problema_dres=LpProblem('Problema_Dres',LpMaximize)"
   ]
  },
  {
   "cell_type": "code",
   "execution_count": 29,
   "id": "aaab8fd2",
   "metadata": {},
   "outputs": [],
   "source": [
    "Diccionario=[]\n",
    "for i in DFproy.index:\n",
    "    for j in DFproy.columns:\n",
    "        Diccionario.append([i,j,i+j])\n",
    "        \n",
    "        "
   ]
  },
  {
   "cell_type": "code",
   "execution_count": 30,
   "id": "665b1ddb",
   "metadata": {},
   "outputs": [
    {
     "data": {
      "text/plain": [
       "[['Arriba', 'KVAAL', 'ArribaKVAAL'],\n",
       " ['Arriba', 'ZUNER', 'ArribaZUNER'],\n",
       " ['Arriba', 'TSAI', 'ArribaTSAI'],\n",
       " ['Arriba', 'MICKEY', 'ArribaMICKEY'],\n",
       " ['Arriba', 'ROLLINS', 'ArribaROLLINS'],\n",
       " ['Estable', 'KVAAL', 'EstableKVAAL'],\n",
       " ['Estable', 'ZUNER', 'EstableZUNER'],\n",
       " ['Estable', 'TSAI', 'EstableTSAI'],\n",
       " ['Estable', 'MICKEY', 'EstableMICKEY'],\n",
       " ['Estable', 'ROLLINS', 'EstableROLLINS'],\n",
       " ['Elección', 'KVAAL', 'ElecciónKVAAL'],\n",
       " ['Elección', 'ZUNER', 'ElecciónZUNER'],\n",
       " ['Elección', 'TSAI', 'ElecciónTSAI'],\n",
       " ['Elección', 'MICKEY', 'ElecciónMICKEY'],\n",
       " ['Elección', 'ROLLINS', 'ElecciónROLLINS'],\n",
       " ['Esperanza', 'KVAAL', 'EsperanzaKVAAL'],\n",
       " ['Esperanza', 'ZUNER', 'EsperanzaZUNER'],\n",
       " ['Esperanza', 'TSAI', 'EsperanzaTSAI'],\n",
       " ['Esperanza', 'MICKEY', 'EsperanzaMICKEY'],\n",
       " ['Esperanza', 'ROLLINS', 'EsperanzaROLLINS'],\n",
       " ['Liberación', 'KVAAL', 'LiberaciónKVAAL'],\n",
       " ['Liberación', 'ZUNER', 'LiberaciónZUNER'],\n",
       " ['Liberación', 'TSAI', 'LiberaciónTSAI'],\n",
       " ['Liberación', 'MICKEY', 'LiberaciónMICKEY'],\n",
       " ['Liberación', 'ROLLINS', 'LiberaciónROLLINS']]"
      ]
     },
     "execution_count": 30,
     "metadata": {},
     "output_type": "execute_result"
    }
   ],
   "source": [
    "Diccionario"
   ]
  },
  {
   "cell_type": "code",
   "execution_count": 31,
   "id": "442619c2",
   "metadata": {},
   "outputs": [],
   "source": [
    "Vars=[]\n",
    "for i in Diccionario:\n",
    "    Vars.append(LpVariable(i[2],lowBound=0,upBound=1,cat=LpInteger))"
   ]
  },
  {
   "cell_type": "code",
   "execution_count": 32,
   "id": "20bdc240",
   "metadata": {},
   "outputs": [
    {
     "data": {
      "text/plain": [
       "Problema_Dres:\n",
       "MAXIMIZE\n",
       "None\n",
       "VARIABLES"
      ]
     },
     "execution_count": 32,
     "metadata": {},
     "output_type": "execute_result"
    }
   ],
   "source": [
    "problema_dres"
   ]
  },
  {
   "cell_type": "code",
   "execution_count": 33,
   "id": "70e79674",
   "metadata": {},
   "outputs": [
    {
     "data": {
      "text/plain": [
       "[ArribaKVAAL,\n",
       " ArribaZUNER,\n",
       " ArribaTSAI,\n",
       " ArribaMICKEY,\n",
       " ArribaROLLINS,\n",
       " EstableKVAAL,\n",
       " EstableZUNER,\n",
       " EstableTSAI,\n",
       " EstableMICKEY,\n",
       " EstableROLLINS,\n",
       " ElecciónKVAAL,\n",
       " ElecciónZUNER,\n",
       " ElecciónTSAI,\n",
       " ElecciónMICKEY,\n",
       " ElecciónROLLINS,\n",
       " EsperanzaKVAAL,\n",
       " EsperanzaZUNER,\n",
       " EsperanzaTSAI,\n",
       " EsperanzaMICKEY,\n",
       " EsperanzaROLLINS,\n",
       " LiberaciónKVAAL,\n",
       " LiberaciónZUNER,\n",
       " LiberaciónTSAI,\n",
       " LiberaciónMICKEY,\n",
       " LiberaciónROLLINS]"
      ]
     },
     "execution_count": 33,
     "metadata": {},
     "output_type": "execute_result"
    }
   ],
   "source": [
    "Vars\n",
    "\n",
    "\n"
   ]
  },
  {
   "cell_type": "code",
   "execution_count": 34,
   "id": "31ef7477",
   "metadata": {},
   "outputs": [],
   "source": [
    "problema_dres+=lpSum([DFproy[i[1]][i[0]]*Vars[j] for j,i in enumerate(Diccionario)])"
   ]
  },
  {
   "cell_type": "code",
   "execution_count": 35,
   "id": "b6ed492d",
   "metadata": {},
   "outputs": [
    {
     "data": {
      "text/plain": [
       "Problema_Dres:\n",
       "MAXIMIZE\n",
       "100*ArribaKVAAL + 267*ArribaMICKEY + 100*ArribaROLLINS + 100*ArribaTSAI + 200*ElecciónKVAAL + 99*ElecciónMICKEY + 33*ElecciónROLLINS + 100*ElecciónTSAI + 800*ElecciónZUNER + 200*EsperanzaKVAAL + 451*EsperanzaMICKEY + 34*EsperanzaROLLINS + 100*EsperanzaTSAI + 400*EstableKVAAL + 153*EstableMICKEY + 33*EstableROLLINS + 100*EstableTSAI + 200*EstableZUNER + 100*LiberaciónKVAAL + 30*LiberaciónMICKEY + 800*LiberaciónROLLINS + 600*LiberaciónTSAI + 0\n",
       "VARIABLES\n",
       "0 <= ArribaKVAAL <= 1 Integer\n",
       "0 <= ArribaMICKEY <= 1 Integer\n",
       "0 <= ArribaROLLINS <= 1 Integer\n",
       "0 <= ArribaTSAI <= 1 Integer\n",
       "0 <= ElecciónKVAAL <= 1 Integer\n",
       "0 <= ElecciónMICKEY <= 1 Integer\n",
       "0 <= ElecciónROLLINS <= 1 Integer\n",
       "0 <= ElecciónTSAI <= 1 Integer\n",
       "0 <= ElecciónZUNER <= 1 Integer\n",
       "0 <= EsperanzaKVAAL <= 1 Integer\n",
       "0 <= EsperanzaMICKEY <= 1 Integer\n",
       "0 <= EsperanzaROLLINS <= 1 Integer\n",
       "0 <= EsperanzaTSAI <= 1 Integer\n",
       "0 <= EstableKVAAL <= 1 Integer\n",
       "0 <= EstableMICKEY <= 1 Integer\n",
       "0 <= EstableROLLINS <= 1 Integer\n",
       "0 <= EstableTSAI <= 1 Integer\n",
       "0 <= EstableZUNER <= 1 Integer\n",
       "0 <= LiberaciónKVAAL <= 1 Integer\n",
       "0 <= LiberaciónMICKEY <= 1 Integer\n",
       "0 <= LiberaciónROLLINS <= 1 Integer\n",
       "0 <= LiberaciónTSAI <= 1 Integer"
      ]
     },
     "execution_count": 35,
     "metadata": {},
     "output_type": "execute_result"
    }
   ],
   "source": [
    "problema_dres"
   ]
  },
  {
   "cell_type": "code",
   "execution_count": 36,
   "id": "c747d27e",
   "metadata": {},
   "outputs": [],
   "source": [
    "for j in DFproy.index:\n",
    "    vecVar=[]\n",
    "    for v in Vars:\n",
    "        if j in str(v):\n",
    "            vecVar.append(v)\n",
    "    problema_dres+=lpSum(vecVar)<=1\n",
    "    \n",
    "        "
   ]
  },
  {
   "cell_type": "code",
   "execution_count": 37,
   "id": "451eed28",
   "metadata": {},
   "outputs": [
    {
     "data": {
      "text/plain": [
       "Problema_Dres:\n",
       "MAXIMIZE\n",
       "100*ArribaKVAAL + 267*ArribaMICKEY + 100*ArribaROLLINS + 100*ArribaTSAI + 200*ElecciónKVAAL + 99*ElecciónMICKEY + 33*ElecciónROLLINS + 100*ElecciónTSAI + 800*ElecciónZUNER + 200*EsperanzaKVAAL + 451*EsperanzaMICKEY + 34*EsperanzaROLLINS + 100*EsperanzaTSAI + 400*EstableKVAAL + 153*EstableMICKEY + 33*EstableROLLINS + 100*EstableTSAI + 200*EstableZUNER + 100*LiberaciónKVAAL + 30*LiberaciónMICKEY + 800*LiberaciónROLLINS + 600*LiberaciónTSAI + 0\n",
       "SUBJECT TO\n",
       "_C1: ArribaKVAAL + ArribaMICKEY + ArribaROLLINS + ArribaTSAI + ArribaZUNER\n",
       " <= 1\n",
       "\n",
       "_C2: EstableKVAAL + EstableMICKEY + EstableROLLINS + EstableTSAI\n",
       " + EstableZUNER <= 1\n",
       "\n",
       "_C3: ElecciónKVAAL + ElecciónMICKEY + ElecciónROLLINS + ElecciónTSAI\n",
       " + ElecciónZUNER <= 1\n",
       "\n",
       "_C4: EsperanzaKVAAL + EsperanzaMICKEY + EsperanzaROLLINS + EsperanzaTSAI\n",
       " + EsperanzaZUNER <= 1\n",
       "\n",
       "_C5: LiberaciónKVAAL + LiberaciónMICKEY + LiberaciónROLLINS + LiberaciónTSAI\n",
       " + LiberaciónZUNER <= 1\n",
       "\n",
       "VARIABLES\n",
       "0 <= ArribaKVAAL <= 1 Integer\n",
       "0 <= ArribaMICKEY <= 1 Integer\n",
       "0 <= ArribaROLLINS <= 1 Integer\n",
       "0 <= ArribaTSAI <= 1 Integer\n",
       "0 <= ArribaZUNER <= 1 Integer\n",
       "0 <= ElecciónKVAAL <= 1 Integer\n",
       "0 <= ElecciónMICKEY <= 1 Integer\n",
       "0 <= ElecciónROLLINS <= 1 Integer\n",
       "0 <= ElecciónTSAI <= 1 Integer\n",
       "0 <= ElecciónZUNER <= 1 Integer\n",
       "0 <= EsperanzaKVAAL <= 1 Integer\n",
       "0 <= EsperanzaMICKEY <= 1 Integer\n",
       "0 <= EsperanzaROLLINS <= 1 Integer\n",
       "0 <= EsperanzaTSAI <= 1 Integer\n",
       "0 <= EsperanzaZUNER <= 1 Integer\n",
       "0 <= EstableKVAAL <= 1 Integer\n",
       "0 <= EstableMICKEY <= 1 Integer\n",
       "0 <= EstableROLLINS <= 1 Integer\n",
       "0 <= EstableTSAI <= 1 Integer\n",
       "0 <= EstableZUNER <= 1 Integer\n",
       "0 <= LiberaciónKVAAL <= 1 Integer\n",
       "0 <= LiberaciónMICKEY <= 1 Integer\n",
       "0 <= LiberaciónROLLINS <= 1 Integer\n",
       "0 <= LiberaciónTSAI <= 1 Integer\n",
       "0 <= LiberaciónZUNER <= 1 Integer"
      ]
     },
     "execution_count": 37,
     "metadata": {},
     "output_type": "execute_result"
    }
   ],
   "source": [
    "problema_dres"
   ]
  },
  {
   "cell_type": "code",
   "execution_count": null,
   "id": "6ba98163",
   "metadata": {},
   "outputs": [],
   "source": []
  }
 ],
 "metadata": {
  "kernelspec": {
   "display_name": "Python 3",
   "language": "python",
   "name": "python3"
  },
  "language_info": {
   "codemirror_mode": {
    "name": "ipython",
    "version": 3
   },
   "file_extension": ".py",
   "mimetype": "text/x-python",
   "name": "python",
   "nbconvert_exporter": "python",
   "pygments_lexer": "ipython3",
   "version": "3.8.5"
  }
 },
 "nbformat": 4,
 "nbformat_minor": 5
}
