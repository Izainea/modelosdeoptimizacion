{
 "cells": [
  {
   "cell_type": "markdown",
   "metadata": {
    "toc": true
   },
   "source": [
    "<h1>Table of Contents<span class=\"tocSkip\"></span></h1>\n",
    "<div class=\"toc\"><ul class=\"toc-item\"></ul></div>"
   ]
  },
  {
   "cell_type": "code",
   "execution_count": 1,
   "metadata": {},
   "outputs": [],
   "source": [
    "from pulp import *"
   ]
  },
  {
   "cell_type": "markdown",
   "metadata": {},
   "source": [
    "Primero definimos agentes y clientes."
   ]
  },
  {
   "cell_type": "code",
   "execution_count": 2,
   "metadata": {},
   "outputs": [],
   "source": [
    "#Agentes\n",
    "Agentes=[\"Terry\",\"Carle\",\"McClymonds\"]\n",
    "#Clientes\n",
    "Clientes=[\"1\",\"2\",\"3\"]"
   ]
  },
  {
   "cell_type": "markdown",
   "metadata": {},
   "source": [
    "La matriz de tiempos, en cada fila el tiempo que gasta en días cada agente con los prespectivos clientes."
   ]
  },
  {
   "cell_type": "code",
   "execution_count": 3,
   "metadata": {},
   "outputs": [
    {
     "data": {
      "text/plain": [
       "defaultdict(<function pulp.utilities.__makeDict.<locals>.<lambda>()>,\n",
       "            {'Terry': defaultdict(<function pulp.utilities.__makeDict.<locals>.<lambda>()>,\n",
       "                         {'1': 10, '2': 15, '3': 9}),\n",
       "             'Carle': defaultdict(<function pulp.utilities.__makeDict.<locals>.<lambda>()>,\n",
       "                         {'1': 9, '2': 18, '3': 5}),\n",
       "             'McClymonds': defaultdict(<function pulp.utilities.__makeDict.<locals>.<lambda>()>,\n",
       "                         {'1': 6, '2': 14, '3': 3})})"
      ]
     },
     "execution_count": 3,
     "metadata": {},
     "output_type": "execute_result"
    }
   ],
   "source": [
    "tiempos=[ \n",
    "    [10,15,9],\n",
    "    [9,18,5],\n",
    "    [6,14,3]\n",
    "]\n",
    "tiempos=makeDict([Agentes,Clientes],tiempos,0)\n",
    "tiempos"
   ]
  },
  {
   "cell_type": "markdown",
   "metadata": {},
   "source": [
    "Definimos el problema de asignación, queremos minimizar tiempo."
   ]
  },
  {
   "cell_type": "code",
   "execution_count": 4,
   "metadata": {},
   "outputs": [],
   "source": [
    "probAsign=LpProblem(\"Problema_de_Asignación\",LpMinimize)"
   ]
  },
  {
   "cell_type": "markdown",
   "metadata": {},
   "source": [
    "Las rutas indican como cada agente atiende a cada cliente."
   ]
  },
  {
   "cell_type": "code",
   "execution_count": 5,
   "metadata": {},
   "outputs": [],
   "source": [
    "Rutas = [(p,c) for p in Agentes for c in Clientes]"
   ]
  },
  {
   "cell_type": "code",
   "execution_count": 6,
   "metadata": {},
   "outputs": [
    {
     "data": {
      "text/plain": [
       "[('Terry', '1'),\n",
       " ('Terry', '2'),\n",
       " ('Terry', '3'),\n",
       " ('Carle', '1'),\n",
       " ('Carle', '2'),\n",
       " ('Carle', '3'),\n",
       " ('McClymonds', '1'),\n",
       " ('McClymonds', '2'),\n",
       " ('McClymonds', '3')]"
      ]
     },
     "execution_count": 6,
     "metadata": {},
     "output_type": "execute_result"
    }
   ],
   "source": [
    "Rutas"
   ]
  },
  {
   "cell_type": "markdown",
   "metadata": {},
   "source": [
    "Creamos las variables:"
   ]
  },
  {
   "cell_type": "code",
   "execution_count": 7,
   "metadata": {},
   "outputs": [],
   "source": [
    "variables=LpVariable.dicts(\"Atención\",(Agentes,Clientes),0,None,LpContinuous)"
   ]
  },
  {
   "cell_type": "code",
   "execution_count": 8,
   "metadata": {},
   "outputs": [
    {
     "data": {
      "text/plain": [
       "{'Terry': {'1': Atención_Terry_1,\n",
       "  '2': Atención_Terry_2,\n",
       "  '3': Atención_Terry_3},\n",
       " 'Carle': {'1': Atención_Carle_1,\n",
       "  '2': Atención_Carle_2,\n",
       "  '3': Atención_Carle_3},\n",
       " 'McClymonds': {'1': Atención_McClymonds_1,\n",
       "  '2': Atención_McClymonds_2,\n",
       "  '3': Atención_McClymonds_3}}"
      ]
     },
     "execution_count": 8,
     "metadata": {},
     "output_type": "execute_result"
    }
   ],
   "source": [
    "variables"
   ]
  },
  {
   "cell_type": "markdown",
   "metadata": {},
   "source": [
    "Incluimos la función objetivo:"
   ]
  },
  {
   "cell_type": "code",
   "execution_count": 11,
   "metadata": {},
   "outputs": [
    {
     "data": {
      "text/plain": [
       "[10*Atención_Terry_1 + 0,\n",
       " 15*Atención_Terry_2 + 0,\n",
       " 9*Atención_Terry_3 + 0,\n",
       " 9*Atención_Carle_1 + 0,\n",
       " 18*Atención_Carle_2 + 0,\n",
       " 5*Atención_Carle_3 + 0,\n",
       " 6*Atención_McClymonds_1 + 0,\n",
       " 14*Atención_McClymonds_2 + 0,\n",
       " 3*Atención_McClymonds_3 + 0]"
      ]
     },
     "execution_count": 11,
     "metadata": {},
     "output_type": "execute_result"
    }
   ],
   "source": [
    "[variables[p][c]*tiempos[p][c] for (p,c) in Rutas] "
   ]
  },
  {
   "cell_type": "code",
   "execution_count": 12,
   "metadata": {},
   "outputs": [],
   "source": [
    "probAsign+= lpSum([variables[p][c]*tiempos[p][c] for (p,c) in Rutas])"
   ]
  },
  {
   "cell_type": "markdown",
   "metadata": {},
   "source": [
    "Las restricciones"
   ]
  },
  {
   "cell_type": "code",
   "execution_count": 16,
   "metadata": {},
   "outputs": [],
   "source": [
    "for p in Agentes:\n",
    "    probAsign +=lpSum([variables[p][c] for c in Clientes])<=1,\"Producción_de_%s\"%p"
   ]
  },
  {
   "cell_type": "code",
   "execution_count": 17,
   "metadata": {},
   "outputs": [],
   "source": [
    "for c in Clientes:\n",
    "    probAsign +=lpSum([variables[p][c] for p in Agentes])==1,\"Cliente_%s\"%c"
   ]
  },
  {
   "cell_type": "code",
   "execution_count": 18,
   "metadata": {},
   "outputs": [
    {
     "data": {
      "text/plain": [
       "<bound method LpProblem.writeLP of Problema_de_Asignación:\n",
       "MINIMIZE\n",
       "9*Atención_Carle_1 + 18*Atención_Carle_2 + 5*Atención_Carle_3 + 6*Atención_McClymonds_1 + 14*Atención_McClymonds_2 + 3*Atención_McClymonds_3 + 10*Atención_Terry_1 + 15*Atención_Terry_2 + 9*Atención_Terry_3 + 0\n",
       "SUBJECT TO\n",
       "Producción_de_Terry: Atención_Terry_1 + Atención_Terry_2 + Atención_Terry_3\n",
       " <= 1\n",
       "\n",
       "Producción_de_Carle: Atención_Carle_1 + Atención_Carle_2 + Atención_Carle_3\n",
       " <= 1\n",
       "\n",
       "Producción_de_McClymonds: Atención_McClymonds_1 + Atención_McClymonds_2\n",
       " + Atención_McClymonds_3 <= 1\n",
       "\n",
       "Cliente_1: Atención_Carle_1 + Atención_McClymonds_1 + Atención_Terry_1 = 1\n",
       "\n",
       "Cliente_2: Atención_Carle_2 + Atención_McClymonds_2 + Atención_Terry_2 = 1\n",
       "\n",
       "Cliente_3: Atención_Carle_3 + Atención_McClymonds_3 + Atención_Terry_3 = 1\n",
       "\n",
       "VARIABLES\n",
       "Atención_Carle_1 Continuous\n",
       "Atención_Carle_2 Continuous\n",
       "Atención_Carle_3 Continuous\n",
       "Atención_McClymonds_1 Continuous\n",
       "Atención_McClymonds_2 Continuous\n",
       "Atención_McClymonds_3 Continuous\n",
       "Atención_Terry_1 Continuous\n",
       "Atención_Terry_2 Continuous\n",
       "Atención_Terry_3 Continuous\n",
       ">"
      ]
     },
     "execution_count": 18,
     "metadata": {},
     "output_type": "execute_result"
    }
   ],
   "source": [
    "probAsign.writeLP"
   ]
  },
  {
   "cell_type": "code",
   "execution_count": 19,
   "metadata": {},
   "outputs": [
    {
     "data": {
      "text/plain": [
       "1"
      ]
     },
     "execution_count": 19,
     "metadata": {},
     "output_type": "execute_result"
    }
   ],
   "source": [
    "probAsign.solve()"
   ]
  },
  {
   "cell_type": "code",
   "execution_count": 20,
   "metadata": {},
   "outputs": [
    {
     "name": "stdout",
     "output_type": "stream",
     "text": [
      "Atención_Carle_1 = 0.0\n",
      "Atención_Carle_2 = 0.0\n",
      "Atención_Carle_3 = 1.0\n",
      "Atención_McClymonds_1 = 1.0\n",
      "Atención_McClymonds_2 = 0.0\n",
      "Atención_McClymonds_3 = 0.0\n",
      "Atención_Terry_1 = 0.0\n",
      "Atención_Terry_2 = 1.0\n",
      "Atención_Terry_3 = 0.0\n"
     ]
    }
   ],
   "source": [
    "for v in probAsign.variables():\n",
    "    print(v.name,\"=\",v.varValue)"
   ]
  },
  {
   "cell_type": "code",
   "execution_count": null,
   "metadata": {},
   "outputs": [],
   "source": []
  }
 ],
 "metadata": {
  "kernelspec": {
   "display_name": "Python 3",
   "language": "python",
   "name": "python3"
  },
  "language_info": {
   "codemirror_mode": {
    "name": "ipython",
    "version": 3
   },
   "file_extension": ".py",
   "mimetype": "text/x-python",
   "name": "python",
   "nbconvert_exporter": "python",
   "pygments_lexer": "ipython3",
   "version": "3.8.5"
  },
  "toc": {
   "base_numbering": 1,
   "nav_menu": {},
   "number_sections": true,
   "sideBar": true,
   "skip_h1_title": true,
   "title_cell": "Table of Contents",
   "title_sidebar": "Contents",
   "toc_cell": true,
   "toc_position": {},
   "toc_section_display": true,
   "toc_window_display": false
  }
 },
 "nbformat": 4,
 "nbformat_minor": 4
}
