{
 "cells": [
  {
   "cell_type": "markdown",
   "metadata": {
    "toc": true
   },
   "source": [
    "<h1>Table of Contents<span class=\"tocSkip\"></span></h1>\n",
    "<div class=\"toc\"><ul class=\"toc-item\"></ul></div>"
   ]
  },
  {
   "cell_type": "code",
   "execution_count": 1,
   "metadata": {},
   "outputs": [],
   "source": [
    "from pulp import *"
   ]
  },
  {
   "cell_type": "code",
   "execution_count": 2,
   "metadata": {},
   "outputs": [],
   "source": [
    "problema_1_0 = LpProblem('Problema_1_0', LpMaximize) \n",
    "P = LpVariable(\"P\",lowBound=0,upBound=1,cat=LpInteger)\n",
    "W = LpVariable(\"W\",lowBound=0,upBound=1,cat=LpInteger)\n",
    "M = LpVariable(\"M\",lowBound=0,upBound=1,cat=LpInteger)\n",
    "R = LpVariable(\"R\",lowBound=0,upBound=1,cat=LpInteger)"
   ]
  },
  {
   "cell_type": "code",
   "execution_count": 3,
   "metadata": {},
   "outputs": [],
   "source": [
    "problema_1_0+=90*P+40*W+10*M+37*R"
   ]
  },
  {
   "cell_type": "code",
   "execution_count": 4,
   "metadata": {},
   "outputs": [],
   "source": [
    "problema_1_0+=15*P+10*W+10*M+15*R<=40, \"Año 1\"\n",
    "problema_1_0+=20*P+15*W+10*R<=50, \"Año 2\"\n",
    "problema_1_0+=20*P+20*W++10*R<=40, \"Año 3\"\n",
    "problema_1_0+=15*P+5*W+4*M+10*R<=35, \"Año 4\""
   ]
  },
  {
   "cell_type": "code",
   "execution_count": 5,
   "metadata": {},
   "outputs": [
    {
     "data": {
      "text/plain": [
       "Problema_1_0:\n",
       "MAXIMIZE\n",
       "10*M + 90*P + 37*R + 40*W + 0\n",
       "SUBJECT TO\n",
       "Año_1: 10 M + 15 P + 15 R + 10 W <= 40\n",
       "\n",
       "Año_2: 20 P + 10 R + 15 W <= 50\n",
       "\n",
       "Año_3: 20 P + 10 R + 20 W <= 40\n",
       "\n",
       "Año_4: 4 M + 15 P + 10 R + 5 W <= 35\n",
       "\n",
       "VARIABLES\n",
       "0 <= M <= 1 Integer\n",
       "0 <= P <= 1 Integer\n",
       "0 <= R <= 1 Integer\n",
       "0 <= W <= 1 Integer"
      ]
     },
     "execution_count": 5,
     "metadata": {},
     "output_type": "execute_result"
    }
   ],
   "source": [
    "problema_1_0"
   ]
  },
  {
   "cell_type": "code",
   "execution_count": 6,
   "metadata": {},
   "outputs": [
    {
     "name": "stdout",
     "output_type": "stream",
     "text": [
      "Optimal\n"
     ]
    }
   ],
   "source": [
    "status = problema_1_0.solve() # Solucionador \n",
    "print(LpStatus[status]) # Estado de la solución"
   ]
  },
  {
   "cell_type": "code",
   "execution_count": 7,
   "metadata": {},
   "outputs": [
    {
     "name": "stdout",
     "output_type": "stream",
     "text": [
      "M = 1.0\n",
      "P = 1.0\n",
      "R = 0.0\n",
      "W = 1.0\n"
     ]
    }
   ],
   "source": [
    "for v in problema_1_0.variables():\n",
    "    print(v.name, \"=\", v.varValue)"
   ]
  },
  {
   "cell_type": "code",
   "execution_count": 14,
   "metadata": {},
   "outputs": [],
   "source": [
    "Problema_RMC=LpProblem('Problema_RMC', LpMaximize) "
   ]
  },
  {
   "cell_type": "code",
   "execution_count": 15,
   "metadata": {},
   "outputs": [],
   "source": [
    "F = LpVariable(\"F\",lowBound=0,cat=LpContinuous)\n",
    "S = LpVariable(\"S\",lowBound=0,cat=LpContinuous)\n",
    "C = LpVariable(\"C\",lowBound=0,cat=LpContinuous)\n",
    "\n",
    "SF = LpVariable(\"SF\",lowBound=0,upBound=1,cat=LpInteger)\n",
    "SS = LpVariable(\"SS\",lowBound=0,upBound=1,cat=LpInteger)\n",
    "SC = LpVariable(\"SC\",lowBound=0,upBound=1,cat=LpInteger)"
   ]
  },
  {
   "cell_type": "code",
   "execution_count": 16,
   "metadata": {},
   "outputs": [],
   "source": [
    "Problema_RMC+=40*F+30*S+50*C-200*SF-50*SS-400*SC"
   ]
  },
  {
   "cell_type": "code",
   "execution_count": 17,
   "metadata": {},
   "outputs": [],
   "source": [
    "Problema_RMC+=0.4*F+0.5*S+0.6*C<=20, 'Material 1'\n",
    "Problema_RMC+=0.2*S+0.1*C<=5, 'Material 2'\n",
    "Problema_RMC+=0.6*F+0.3*S+0.3*C<=21, 'Material 3'\n",
    "\n",
    "Problema_RMC+=F-50*SF<=0, 'Máximo F'\n",
    "Problema_RMC+=S-25*SS<=0, 'Máximo S'\n",
    "Problema_RMC+=C-400*SC<=0, 'Máximo C'\n"
   ]
  },
  {
   "cell_type": "code",
   "execution_count": 18,
   "metadata": {
    "scrolled": true
   },
   "outputs": [
    {
     "data": {
      "text/plain": [
       "Problema_RMC:\n",
       "MAXIMIZE\n",
       "50*C + 40*F + 30*S + -400*SC + -200*SF + -50*SS + 0\n",
       "SUBJECT TO\n",
       "Material_1: 0.6 C + 0.4 F + 0.5 S <= 20\n",
       "\n",
       "Material_2: 0.1 C + 0.2 S <= 5\n",
       "\n",
       "Material_3: 0.3 C + 0.6 F + 0.3 S <= 21\n",
       "\n",
       "Máximo_F: F - 50 SF <= 0\n",
       "\n",
       "Máximo_S: S - 25 SS <= 0\n",
       "\n",
       "Máximo_C: C - 400 SC <= 0\n",
       "\n",
       "VARIABLES\n",
       "C Continuous\n",
       "F Continuous\n",
       "S Continuous\n",
       "0 <= SC <= 1 Integer\n",
       "0 <= SF <= 1 Integer\n",
       "0 <= SS <= 1 Integer"
      ]
     },
     "execution_count": 18,
     "metadata": {},
     "output_type": "execute_result"
    }
   ],
   "source": [
    "Problema_RMC"
   ]
  },
  {
   "cell_type": "code",
   "execution_count": 19,
   "metadata": {},
   "outputs": [
    {
     "name": "stdout",
     "output_type": "stream",
     "text": [
      "Optimal\n"
     ]
    }
   ],
   "source": [
    "status = Problema_RMC.solve() # Solucionador \n",
    "print(LpStatus[status]) # Estado de la solución"
   ]
  },
  {
   "cell_type": "code",
   "execution_count": 21,
   "metadata": {},
   "outputs": [
    {
     "name": "stdout",
     "output_type": "stream",
     "text": [
      "C = 0.0\n",
      "F = 25.0\n",
      "S = 20.0\n",
      "SC = 0.0\n",
      "SF = 1.0\n",
      "SS = 1.0\n"
     ]
    }
   ],
   "source": [
    "for v in Problema_RMC.variables():\n",
    "    print(v.name, \"=\", v.varValue)"
   ]
  },
  {
   "cell_type": "code",
   "execution_count": null,
   "metadata": {},
   "outputs": [],
   "source": []
  }
 ],
 "metadata": {
  "kernelspec": {
   "display_name": "Python 3",
   "language": "python",
   "name": "python3"
  },
  "language_info": {
   "codemirror_mode": {
    "name": "ipython",
    "version": 3
   },
   "file_extension": ".py",
   "mimetype": "text/x-python",
   "name": "python",
   "nbconvert_exporter": "python",
   "pygments_lexer": "ipython3",
   "version": "3.8.5"
  },
  "toc": {
   "base_numbering": 1,
   "nav_menu": {},
   "number_sections": true,
   "sideBar": true,
   "skip_h1_title": true,
   "title_cell": "Table of Contents",
   "title_sidebar": "Contents",
   "toc_cell": true,
   "toc_position": {},
   "toc_section_display": true,
   "toc_window_display": false
  }
 },
 "nbformat": 4,
 "nbformat_minor": 4
}
