{
 "cells": [
  {
   "cell_type": "markdown",
   "metadata": {
    "toc": true
   },
   "source": [
    "<h1>Programación lineal con Python<span class=\"tocSkip\"></span></h1>\n",
    "<div class=\"toc\"><ul class=\"toc-item\"><li><span><a href=\"#Programación-Lineal\" data-toc-modified-id=\"Programación-Lineal-1\"><span class=\"toc-item-num\">1&nbsp;&nbsp;</span>Programación Lineal</a></span><ul class=\"toc-item\"><li><span><a href=\"#¿Para-que-la-Programación-Lineal?\" data-toc-modified-id=\"¿Para-que-la-Programación-Lineal?-1.1\"><span class=\"toc-item-num\">1.1&nbsp;&nbsp;</span>¿Para que la Programación Lineal?</a></span></li><li><span><a href=\"#Notación:\" data-toc-modified-id=\"Notación:-1.2\"><span class=\"toc-item-num\">1.2&nbsp;&nbsp;</span>Notación:</a></span></li><li><span><a href=\"#El-Problema-Estándar\" data-toc-modified-id=\"El-Problema-Estándar-1.3\"><span class=\"toc-item-num\">1.3&nbsp;&nbsp;</span>El Problema Estándar</a></span><ul class=\"toc-item\"><li><span><a href=\"#Otras-Formas\" data-toc-modified-id=\"Otras-Formas-1.3.1\"><span class=\"toc-item-num\">1.3.1&nbsp;&nbsp;</span>Otras Formas</a></span></li></ul></li><li><span><a href=\"#La-Región-Factible\" data-toc-modified-id=\"La-Región-Factible-1.4\"><span class=\"toc-item-num\">1.4&nbsp;&nbsp;</span>La Región Factible</a></span></li><li><span><a href=\"#Los-Supuestos\" data-toc-modified-id=\"Los-Supuestos-1.5\"><span class=\"toc-item-num\">1.5&nbsp;&nbsp;</span>Los Supuestos</a></span><ul class=\"toc-item\"><li><span><a href=\"#Proporcionalidad\" data-toc-modified-id=\"Proporcionalidad-1.5.1\"><span class=\"toc-item-num\">1.5.1&nbsp;&nbsp;</span>Proporcionalidad</a></span></li><li><span><a href=\"#Aditividad\" data-toc-modified-id=\"Aditividad-1.5.2\"><span class=\"toc-item-num\">1.5.2&nbsp;&nbsp;</span>Aditividad</a></span></li><li><span><a href=\"#Divisivilidad\" data-toc-modified-id=\"Divisivilidad-1.5.3\"><span class=\"toc-item-num\">1.5.3&nbsp;&nbsp;</span>Divisivilidad</a></span></li><li><span><a href=\"#Certidumbre\" data-toc-modified-id=\"Certidumbre-1.5.4\"><span class=\"toc-item-num\">1.5.4&nbsp;&nbsp;</span>Certidumbre</a></span></li></ul></li><li><span><a href=\"#Solución-en-Python\" data-toc-modified-id=\"Solución-en-Python-1.6\"><span class=\"toc-item-num\">1.6&nbsp;&nbsp;</span>Solución en Python</a></span></li><li><span><a href=\"#Un-problema-de-la-documentación:\" data-toc-modified-id=\"Un-problema-de-la-documentación:-1.7\"><span class=\"toc-item-num\">1.7&nbsp;&nbsp;</span>Un problema de la documentación:</a></span><ul class=\"toc-item\"><li><span><a href=\"#Problema-simplificado\" data-toc-modified-id=\"Problema-simplificado-1.7.1\"><span class=\"toc-item-num\">1.7.1&nbsp;&nbsp;</span>Problema simplificado</a></span><ul class=\"toc-item\"><li><span><a href=\"#Identificación-de-variables-de-decisión\" data-toc-modified-id=\"Identificación-de-variables-de-decisión-1.7.1.1\"><span class=\"toc-item-num\">1.7.1.1&nbsp;&nbsp;</span>Identificación de variables de decisión</a></span></li><li><span><a href=\"#Formulación-de-la-función-objetivo\" data-toc-modified-id=\"Formulación-de-la-función-objetivo-1.7.1.2\"><span class=\"toc-item-num\">1.7.1.2&nbsp;&nbsp;</span>Formulación de la función objetivo</a></span></li><li><span><a href=\"#Formulación-de-restricciones\" data-toc-modified-id=\"Formulación-de-restricciones-1.7.1.3\"><span class=\"toc-item-num\">1.7.1.3&nbsp;&nbsp;</span>Formulación de restricciones</a></span></li><li><span><a href=\"#Solución-en-Python\" data-toc-modified-id=\"Solución-en-Python-1.7.1.4\"><span class=\"toc-item-num\">1.7.1.4&nbsp;&nbsp;</span>Solución en Python</a></span></li></ul></li><li><span><a href=\"#Problema-completo\" data-toc-modified-id=\"Problema-completo-1.7.2\"><span class=\"toc-item-num\">1.7.2&nbsp;&nbsp;</span>Problema completo</a></span><ul class=\"toc-item\"><li><span><a href=\"#Identificación-de-variables-de-decisión\" data-toc-modified-id=\"Identificación-de-variables-de-decisión-1.7.2.1\"><span class=\"toc-item-num\">1.7.2.1&nbsp;&nbsp;</span>Identificación de variables de decisión</a></span></li><li><span><a href=\"#Formulación-de-la-función-objetivo\" data-toc-modified-id=\"Formulación-de-la-función-objetivo-1.7.2.2\"><span class=\"toc-item-num\">1.7.2.2&nbsp;&nbsp;</span>Formulación de la función objetivo</a></span></li><li><span><a href=\"#Formulación-de-restricciones\" data-toc-modified-id=\"Formulación-de-restricciones-1.7.2.3\"><span class=\"toc-item-num\">1.7.2.3&nbsp;&nbsp;</span>Formulación de restricciones</a></span></li></ul></li></ul></li></ul></li></ul></div>"
   ]
  },
  {
   "cell_type": "markdown",
   "metadata": {},
   "source": [
    "# Programación Lineal \n",
    "La programación lineal es un conjunto de técnicas racionales de análisis y de resolución de problemas que tiene por objeto ayudar a los responsables en las decisiones sobre asuntos en los que interviene un gran número de variables.\n",
    "\n",
    "La investigación de operaciones en general y la programación lineal en particular recibieron un gran impulso gracias a los ordenadores. Uno de momentos más importantes fue la aparición del método del simplex."
   ]
  },
  {
   "cell_type": "markdown",
   "metadata": {},
   "source": [
    "## ¿Para que la Programación Lineal?\n",
    "\n",
    "Para ilustrar algunas de las propiedades que tienen en común todos los problemas de\n",
    "programación lineal, considere las siguientes aplicaciones típicas:\n",
    "1. Un fabricante quiere elaborar un programa de producción y una política de inventario que satisfaga la demanda de ventas en periodos futuros. En términos ideales, el programa y la política permitirán a la empresa satisfacer la demanda y al mismo tiempo minimizar los costos totales de producción e inventario.\n",
    "2. Un analista fi nanciero debe seleccionar un portafolio entre diversas alternativas de acciones e inversiones. Al analista le gustaría establecer el portafolio que maximice el rendimiento sobre la inversión.\n",
    "3. Un gerente de marketing quiere determinar cómo asignar mejor un presupuesto de publicidad fi jo entre medios de publicidad alternos como la radio, la televisión, el periódico y las revistas. Al gerente le gustaría determinar la combinación de medios que maximice la efectividad de la publicidad.\n",
    "4. Una empresa tiene almacenes en varias ubicaciones. Dadas las demandas específicas de los clientes, a la empresa le gustaría determinar cuánto debe enviar cada almacén a cada cliente, de modo que los costos del transporte local se minimicen.\n",
    "\n",
    "En todos los problemas de programación lineal, el objetivo es la **maximización o minimización** de alguna cantidad. Todos los problemas de programación lineal tienen también una segunda propiedad: las **limitaciones o restricciones** que limitan el grado en que se puede perseguir el objetivo."
   ]
  },
  {
   "cell_type": "markdown",
   "metadata": {},
   "source": [
    "## Notación:\n",
    "\n",
    "Ciertos símbolos se usan de manera convencional para denotar los diversos componentes\n",
    "de un modelo de programación lineal. Estos símbolos se enumeran a continuación.\n",
    "\n",
    "* $Z=\\textit{Valor de la medida global de desempeño}$\n",
    "* $x_j=\\textit{nivel de la actividad j}, j=1,2,\\ldots,n $\n",
    "* $c_j= \\textit{incremento en Z que se obtiene al aumentar una unidad en el nivel de la actividad j}$\n",
    "* $b_i = \\textit{cantidad de recurso i disponible para asignarse a las actividades}, i=1,2,\\ldots, m $\n",
    "* $a_{ij}= \\textit{cantidad del recurso i consumido por cada unidad de la actividad j.}$\n"
   ]
  },
  {
   "cell_type": "markdown",
   "metadata": {},
   "source": [
    "## El Problema Estándar\n",
    "\n",
    "Matemáticamente, un problema de optimización con restricciones asume la siguiente forma:\n",
    "\n",
    "Máximizar $Z=c_1x_1+c_2x_2+c_3x_3+ \\ldots +c_nx_n$\n",
    "\n",
    "sujeto a las restricciones: \n",
    "\n",
    "\n",
    "\\begin{matrix}\n",
    "a_{11}x_1+  a_{12}x_2+ & \\ldots + a_{1n}x_n & \\leq b_1 \\\\\n",
    "a_{21}x_1+  a_{22}x_2+ & \\ldots + a_{2n}x_n & \\leq b_2 \\\\\n",
    " \\vdots & \\ddots & \\vdots\\\\\n",
    "a_{m1}x_1+ a_{m2}x_2+ & \\ldots + a_{mn}x_n & \\leq b_m \\\\\n",
    "\\end{matrix}\n",
    "\n",
    "y \n",
    "\n",
    "$$x_1, x_2, x_3, \\ldots x_n \\geq 0$$\n",
    "\n",
    "\n",
    "El **objetivo de la programación lineal** es determinar los valores de las variables de decisión que **maximizan o minimizan una función objetivo lineal**, y en donde las variables de decisión están sujetas a **restricciones lineales**. En general, el objetivo es encontrar un punto que minimice la función objetivo al mismo tiempo que satisface las restricciones.\n",
    "\n",
    "### Otras Formas \n",
    "\n",
    "Debe hacerse notar que el modelo anterior no se ajusta a la forma natural de algunos problemas de programación lineal. Las otras formas legítimas son las siguientes:\n",
    "\n",
    " 1)  **Minimizar en lugar de maximizar la función objetivo:**\n",
    "\n",
    "Minimizar $Z=c_1x_1+c_2x_2+c_3x_3+ \\ldots +c_nx_n$\n",
    "\n",
    " 2) **Algunas restricciones funcionales con desigualdad en sentido mayor o igual que:**\n",
    " \n",
    " $a_{i1}x_1+a_{i2}x_2+\\ldots + a_{in}x_n \\geq b_i$\n",
    "para algún $i=1,2,3,\\ldots m$\n",
    "\n",
    "3) **Algunas restricciones funcionales en forma de ecuación:**\n",
    "\n",
    " $a_{i1}x_1+a_{i2}x_2+\\ldots + a_{in}x_n = b_i$\n",
    "para algún $i=1,2,3,\\ldots m$\n",
    "\n",
    "4) **Algunas variables de decisión sin la restricción de no negatividad:**\n",
    "$x_j$ no está restringido en su signo para algún $j=1,2,\\ldots ,n$\n",
    "\n",
    "Cualquier problema que incluye una, varias o todas estas formas con las otras partes del modelo\n",
    "anterior también se clasifi ca como un problema de programación lineal."
   ]
  },
  {
   "cell_type": "markdown",
   "metadata": {},
   "source": [
    "## La Región Factible\n",
    "\n",
    "La mayoría de ocasiones el término solución significa que la respuesta final a un problema, pero en programación lineal (y sus extensiones) la convención es bastante distinta.\n",
    "\n",
    "Ahora, cualquier conjunto de valores específicos de las variables de decisión $x_1, x_2, \\ldots , x_n$ se llama una solución, aunque sea sólo una posibilidad deseable o ni siquiera permitida. Después se identifican los tipos de soluciones mediante el empleo de un adjetivo apropiado.\n",
    "\n",
    "Una **solución factible** es aquella para la que todas las restricciones se satisfacen.\n",
    "Una **solución no factible** es una solución para la que al menos una restricción se viola.\n",
    "\n",
    "A la reunión de todas las soluciones factibles se le denomina **Región Factible**\n",
    "\n",
    "Nota: **\"Es posible que un problema no tenga soluciones factibles\".**\n",
    "\n",
    "Dado que existen soluciones factibles, la meta de la programación lineal es encontrar una solución factible que sea la mejor, medida por el valor de la función objetivo en el modelo.\n",
    "\n",
    "Una **solución óptima** es una solución factible que proporciona el *valor más favorable* de la función objetivo.\n",
    "\n",
    "El valor más favorable significa el valor **más grande si la función objetivo debe maximizarse**, o el valor **más pequeño si la función objetivo debe minimizarse**."
   ]
  },
  {
   "cell_type": "markdown",
   "metadata": {},
   "source": [
    "## Los Supuestos\n",
    "\n",
    "un modelo de programación lineal implican que se deben considerar ciertos supuestos acerca de las actividades y datos del problema que será modelado, incluso algunos acerca del efecto de las variaciones en el nivel de las actividades. Vale la pena hacer hincapié en ellas para que sea más sencillo evaluar si esta técnica es adecuada para un problema dado.\n",
    "\n",
    "### Proporcionalidad\n",
    "\n",
    "La proporcionalidad es un supuesto sobre la función objetivo y sobre las restricciones funcionales, como se resume a continuación.\n",
    "\n",
    "**Supuesto de proporcionalidad**: La contribución de cada actividad al valor de la función objetivo $Z$ es proporcional al nivel de la actividad $x_j$, como lo representa el término $c_jx_j$ en la función objetivo. De manera similar, la contribución de cada actividad al lado izquierdo de cada restricción funcional es proporcional al nivel de la actividad $x_j$, como lo representa en la restricción el término $a_{ij}xj$. En consecuencia, este supuesto elimina cualquier\n",
    "exponente diferente de **1** para las variables en cualquier término de las funciones ya sea la función objetivo o la función en el lado izquierdo de las restricciones funcionales en un modelo de programación lineal.\n",
    "\n",
    "\n",
    "### Aditividad\n",
    "\n",
    "Aunque el supuesto de proporcionalidad elimina los exponentes diferentes de uno, no prohíbe los términos de productos cruzados, términos que incluyen el producto de dos o más variables. El supuesto de aditividad elimina esta posibilidad, como se ve a continuación.\n",
    "\n",
    "**Supuesto de aditividad**: Cada función de un modelo de programación lineal (ya sea la función objetivo o el lado izquierdo de las restricciones funcionales) es la suma de las contribuciones individuales de las actividades respectivas.\n",
    "\n",
    "### Divisivilidad\n",
    "\n",
    "El siguiente supuesto se refiere a los valores permitidos para las variables de decisión.\n",
    "\n",
    "**Supuesto de divisibilidad**: En un modelo de programación lineal, las variables de decisión pueden tomar cualquier valor, incluso valores no enteros, que satisfagan las restricciones funcionales y de no negatividad. En consecuencia, estas variables no están restringidas a sólo valores enteros. Como cada variable de decisión representa el nivel de alguna\n",
    "actividad, se supondrá que las actividades se pueden realizar a niveles fraccionales.\n",
    "\n",
    "### Certidumbre \n",
    "\n",
    "El último supuesto se refiere a los parámetros del modelo, es decir, a los coeficientes $c_j$, en la función  objetivo, los coeficientes $a_{ij}$, en las restricciones funcionales y los $b_i$ en el lado derecho de las restricciones funcionales.\n",
    "\n",
    "**Supuesto de certidumbre**: Se supone que los valores asignados a cada parámetro de un modelo de programación lineal son constantes conocidas.\n",
    "\n",
    "En los problemas reales, el supuesto de certidumbre casi nunca se satisface por completo. Por lo general se formula un modelo de programación lineal para elegir un curso de acción futuro. En este caso, los valores de los parámetros que se emplean están basados en una predicción de las condiciones futuras, lo que es inevitable que introduzca cierto grado de incertidumbre"
   ]
  },
  {
   "cell_type": "markdown",
   "metadata": {},
   "source": [
    "## Solución en Python\n",
    "\n",
    "\n",
    "Una revisión de los conceptos técnicos que usaremos en este ejercicio:\n",
    "\n",
    "* *Función Objetivo*: La función a maximizar o minimizar en nuestro problema de PL.\n",
    "\n",
    "* *Variables de decisión:*  Las incognitas planteadas en el modelo de programación lineal.\n",
    "\n",
    "* *Restricciones*: Cada desigualdad, o igualdad que restringe el valor de cada una de las variables. Entre ellas hay una particularmente importante que es la restricciones de no negatividad sobre las variables de decisión. \n",
    "\n",
    "Recuerde que el problema es de programación lineal siempre que la función objetivo y las restricciones sean funciones y desigualdades **lineales**.\n",
    "\n",
    "**[Paquete PULP](https://coin-or.github.io/pulp/)**\n",
    "\n",
    "Un modelador de programación lineal escrito en Python. La instalación se hace con la linea\n",
    "\n",
    "```\n",
    "!pip install pulp\n",
    "```"
   ]
  },
  {
   "cell_type": "code",
   "execution_count": 3,
   "metadata": {},
   "outputs": [
    {
     "name": "stdout",
     "output_type": "stream",
     "text": [
      "Collecting pulp\n",
      "  Downloading PuLP-2.4-py3-none-any.whl (40.6 MB)\n",
      "\u001b[K     |████████████████████████████████| 40.6 MB 23.2 MB/s eta 0:00:01    |█▊                              | 2.2 MB 11.7 MB/s eta 0:00:04\n",
      "\u001b[?25hCollecting amply>=0.1.2\n",
      "  Downloading amply-0.1.4-py3-none-any.whl (16 kB)\n",
      "Requirement already satisfied: docutils>=0.3 in /home/isaac/anaconda3/lib/python3.8/site-packages (from amply>=0.1.2->pulp) (0.16)\n",
      "Requirement already satisfied: pyparsing in /home/isaac/anaconda3/lib/python3.8/site-packages (from amply>=0.1.2->pulp) (2.4.7)\n",
      "Installing collected packages: amply, pulp\n",
      "Successfully installed amply-0.1.4 pulp-2.4\n"
     ]
    }
   ],
   "source": [
    "!pip install pulp"
   ]
  },
  {
   "cell_type": "markdown",
   "metadata": {},
   "source": [
    "Posterior a la instalación planteamos un problema de este tipo:\n",
    "\n",
    "$$\\begin{array}\\text{Minimizar: }&Z=3x+5y\\\\&\\\\\n",
    "\\text{Sujeto a: }&\\\\\n",
    "& 2x+3y\\geq 10\\\\\n",
    "&-x+y\\leq 5\\\\\n",
    "&y\\leq 6\\\\\n",
    "&x\\leq 4\\\\\n",
    "&x,y\\geq 0\\end{array}$$\n"
   ]
  },
  {
   "cell_type": "code",
   "execution_count": 23,
   "metadata": {},
   "outputs": [],
   "source": [
    "# Importamos\n",
    "from pulp import *"
   ]
  },
  {
   "cell_type": "code",
   "execution_count": 24,
   "metadata": {},
   "outputs": [],
   "source": [
    "# Le indicamos a python que vamos a resolver un problema PL de minimización\n",
    "miprimerproblema = LpProblem('Problema_1', LpMinimize) "
   ]
  },
  {
   "cell_type": "code",
   "execution_count": 25,
   "metadata": {},
   "outputs": [
    {
     "data": {
      "text/plain": [
       "Problema_1:\n",
       "MINIMIZE\n",
       "None\n",
       "VARIABLES"
      ]
     },
     "execution_count": 25,
     "metadata": {},
     "output_type": "execute_result"
    }
   ],
   "source": [
    "miprimerproblema"
   ]
  },
  {
   "cell_type": "code",
   "execution_count": 26,
   "metadata": {},
   "outputs": [],
   "source": [
    "# Creamos las variables de decisión\n",
    "x = LpVariable(\"x\", lowBound = 0) # Create a variable x >= 0 \n",
    "y = LpVariable(\"y\", lowBound = 0) # Create a variable y >= 0 "
   ]
  },
  {
   "cell_type": "code",
   "execution_count": 27,
   "metadata": {},
   "outputs": [],
   "source": [
    "# Definimos la función objetivo\n",
    "miprimerproblema += 3 * x + 5 * y "
   ]
  },
  {
   "cell_type": "code",
   "execution_count": 28,
   "metadata": {},
   "outputs": [
    {
     "data": {
      "text/plain": [
       "Problema_1:\n",
       "MINIMIZE\n",
       "3*x + 5*y + 0\n",
       "VARIABLES\n",
       "x Continuous\n",
       "y Continuous"
      ]
     },
     "execution_count": 28,
     "metadata": {},
     "output_type": "execute_result"
    }
   ],
   "source": [
    "miprimerproblema"
   ]
  },
  {
   "cell_type": "code",
   "execution_count": 29,
   "metadata": {},
   "outputs": [],
   "source": [
    "# Definimos las restricciones\n",
    "miprimerproblema += 2 * x + 3 * y >= 10\n",
    "miprimerproblema += -x + y <= 5\n",
    "miprimerproblema += y <=6\n",
    "miprimerproblema += x<=4"
   ]
  },
  {
   "cell_type": "markdown",
   "metadata": {},
   "source": [
    "Mostremos el problema"
   ]
  },
  {
   "cell_type": "code",
   "execution_count": 30,
   "metadata": {},
   "outputs": [
    {
     "data": {
      "text/plain": [
       "Problema_1:\n",
       "MINIMIZE\n",
       "3*x + 5*y + 0\n",
       "SUBJECT TO\n",
       "_C1: 2 x + 3 y >= 10\n",
       "\n",
       "_C2: - x + y <= 5\n",
       "\n",
       "_C3: y <= 6\n",
       "\n",
       "_C4: x <= 4\n",
       "\n",
       "VARIABLES\n",
       "x Continuous\n",
       "y Continuous"
      ]
     },
     "execution_count": 30,
     "metadata": {},
     "output_type": "execute_result"
    }
   ],
   "source": [
    "miprimerproblema"
   ]
  },
  {
   "cell_type": "code",
   "execution_count": 33,
   "metadata": {},
   "outputs": [
    {
     "name": "stdout",
     "output_type": "stream",
     "text": [
      "Optimal\n"
     ]
    }
   ],
   "source": [
    "status = miprimerproblema.solve() # Solucionador \n",
    "print(LpStatus[status]) # Estado de la solución"
   ]
  },
  {
   "cell_type": "markdown",
   "metadata": {},
   "source": [
    "Ahora sí... y la solución es:"
   ]
  },
  {
   "cell_type": "code",
   "execution_count": 35,
   "metadata": {},
   "outputs": [
    {
     "data": {
      "text/plain": [
       "0.66666667"
      ]
     },
     "execution_count": 35,
     "metadata": {},
     "output_type": "execute_result"
    }
   ],
   "source": [
    "value(y)"
   ]
  },
  {
   "cell_type": "code",
   "execution_count": 38,
   "metadata": {},
   "outputs": [
    {
     "name": "stdout",
     "output_type": "stream",
     "text": [
      "x = 4.0\n",
      "y=  0.66666667\n",
      "Z=  15.33333335\n"
     ]
    }
   ],
   "source": [
    "print('x =',value(x))\n",
    "print('y= ', value(y))\n",
    "print('Z= ',value(miprimerproblema.objective))"
   ]
  },
  {
   "cell_type": "markdown",
   "metadata": {},
   "source": [
    "Resolvamos el problema de los anuncios:\n",
    "\n",
    "$$\\text{Máx   } Z= 100000 T +18000 R+ 40000 P$$\n",
    "\n",
    "$$\\text{Sujeto a   } \n",
    "\\begin{cases}\n",
    "2000T+300R+600P\\leq 18200\\\\\n",
    "T\\leq 10\\\\\n",
    "R\\leq 20\\\\\n",
    "P\\leq 10\n",
    "\\end{cases}$$\n"
   ]
  },
  {
   "cell_type": "code",
   "execution_count": 57,
   "metadata": {},
   "outputs": [],
   "source": [
    "medios=LpProblem('Problema_de_Medios',LpMaximize)"
   ]
  },
  {
   "cell_type": "code",
   "execution_count": 58,
   "metadata": {},
   "outputs": [],
   "source": [
    "T=LpVariable('Anuncios_de_TV',lowBound=0,cat='Integer')\n",
    "R=LpVariable('Anuncios_de_Radio',lowBound=0,cat='Integer')\n",
    "P=LpVariable('Anuncios_de_Periodico',lowBound=0,cat='Integer')"
   ]
  },
  {
   "cell_type": "code",
   "execution_count": 59,
   "metadata": {},
   "outputs": [
    {
     "data": {
      "text/plain": [
       "Anuncios_de_TV"
      ]
     },
     "execution_count": 59,
     "metadata": {},
     "output_type": "execute_result"
    }
   ],
   "source": [
    "T"
   ]
  },
  {
   "cell_type": "code",
   "execution_count": 60,
   "metadata": {},
   "outputs": [],
   "source": [
    "medios+=100000*T+18000*R+40000*P #Función Objetivo"
   ]
  },
  {
   "cell_type": "code",
   "execution_count": 61,
   "metadata": {},
   "outputs": [],
   "source": [
    "## Restricciones\n",
    "medios+=2000*T+300*R+600*P<=18200\n",
    "medios+= T<=10\n",
    "medios+= R<=20\n",
    "medios+= P<=10"
   ]
  },
  {
   "cell_type": "code",
   "execution_count": 62,
   "metadata": {},
   "outputs": [
    {
     "data": {
      "text/plain": [
       "Problema_de_Medios:\n",
       "MAXIMIZE\n",
       "40000*Anuncios_de_Periodico + 18000*Anuncios_de_Radio + 100000*Anuncios_de_TV + 0\n",
       "SUBJECT TO\n",
       "_C1: 600 Anuncios_de_Periodico + 300 Anuncios_de_Radio + 2000 Anuncios_de_TV\n",
       " <= 18200\n",
       "\n",
       "_C2: Anuncios_de_TV <= 10\n",
       "\n",
       "_C3: Anuncios_de_Radio <= 20\n",
       "\n",
       "_C4: Anuncios_de_Periodico <= 10\n",
       "\n",
       "VARIABLES\n",
       "0 <= Anuncios_de_Periodico Integer\n",
       "0 <= Anuncios_de_Radio Integer\n",
       "0 <= Anuncios_de_TV Integer"
      ]
     },
     "execution_count": 62,
     "metadata": {},
     "output_type": "execute_result"
    }
   ],
   "source": [
    "medios"
   ]
  },
  {
   "cell_type": "code",
   "execution_count": 63,
   "metadata": {},
   "outputs": [],
   "source": [
    "status = medios.solve()"
   ]
  },
  {
   "cell_type": "code",
   "execution_count": 64,
   "metadata": {},
   "outputs": [
    {
     "data": {
      "text/plain": [
       "'Optimal'"
      ]
     },
     "execution_count": 64,
     "metadata": {},
     "output_type": "execute_result"
    }
   ],
   "source": [
    "LpStatus[status]"
   ]
  },
  {
   "cell_type": "code",
   "execution_count": 66,
   "metadata": {},
   "outputs": [
    {
     "name": "stdout",
     "output_type": "stream",
     "text": [
      "Anuncios de TV: 3.0\n",
      "Anuncios de Radio: 20.0\n",
      "Anuncios de Periodico: 10.0\n",
      "Audiencia Máxima: 1060000.0\n",
      "Costo Total: 18000.0\n"
     ]
    }
   ],
   "source": [
    "print('Anuncios de TV:',value(T))\n",
    "print('Anuncios de Radio:',value(R))\n",
    "print('Anuncios de Periodico:',value(P))\n",
    "print('Audiencia Máxima:',value(medios.objective))\n",
    "print('Costo Total:',2000*value(T)+300*value(R)+600*value(P))"
   ]
  },
  {
   "cell_type": "markdown",
   "metadata": {},
   "source": [
    "## Un problema de la documentación:\n",
    "\n",
    "\n"
   ]
  },
  {
   "cell_type": "markdown",
   "metadata": {},
   "source": [
    "*Tomado de: (https://coin-or.github.io/pulp/CaseStudies/a_blending_problem.html)*\n",
    "\n",
    "![whis](https://coin-or.github.io/pulp/_images/whiskas_label.jpg)\n",
    "\n",
    "La comida para gatos Whiskas, que se muestra arriba, es fabricada por Uncle Ben's. El tío Ben quiere producir sus productos alimenticios para gatos lo más barato posible y, al mismo tiempo, garantizar que cumplan con los requisitos de análisis nutricionales establecidos en las latas. Por lo tanto, quieren variar las cantidades de cada ingrediente utilizado (los ingredientes principales son pollo, ternera, cordero, arroz, trigo y gel) sin dejar de cumplir con sus estándares nutricionales.\n",
    "\n",
    "![diagram](https://coin-or.github.io/pulp/_images/whiskas_blend.jpg)\n",
    "\n",
    "Los costos del pollo, la carne de res y el cordero son $\\$$ 0.013, $\\$ $0.008 y $\\$ $ 0.010 respectivamente, mientras que los costos del arroz, el trigo y el gel son $\\$ $ 0.002, $\\$ $ 0.005 y $\\$ $ 0.001 respectivamente. (Todos los costos son por gramo). Para este ejercicio ignoraremos los ingredientes de vitaminas y minerales. (De todos modos, es probable que los costos de estos sean muy pequeños).\n",
    "\n",
    "Cada ingrediente contribuye al peso total de proteína, grasa, fibra y sal en el producto final. Las contribuciones (en gramos) por gramo de ingrediente se dan en la siguiente tabla.\n",
    "\n",
    "|Ingrediente|Proteina|Grasa|Fibra|Sal|\n",
    "|:-------|:---:|:---:|:---:|:---:|\n",
    "|Pollo|0.100|0.080|0.001|0.002|\n",
    "|Res|0.200|0.100|0.005|0.005|\n",
    "|Cordero|0.150|0.110|0.003|0.007|\n",
    "|Arroz|0.000|0.010|0.100|0.002|\n",
    "|Trigo|0.040|0.010|0.150|0.008|\n",
    "|Gel|0.000|0.000|0.000|0.000|\n",
    "\n",
    "Para cumplir con los requisitos del análisis nutricional, necesitamos tener al menos 8 g de proteína por 100 g, 6 g de grasa, pero no más de 2 g de fibra y 0,4 g de sal. \n",
    "### Problema simplificado\n",
    "\n",
    "Supongamos inicialmente que solo pensamos en pollo y res. No tendremos en cuenta otros ingredientes:\n",
    "\n",
    "#### Identificación de variables de decisión\n",
    "\n",
    "Las variables de decisión son los porcentajes de los diferentes ingredientes que incluimos en la lata. En este caso hipotético inicial solamente pollo y res:\n",
    "\n",
    "* $x1=$ porcentaje de pollo.\n",
    "\n",
    "* $x2=$ porcentaje de res.\n",
    "\n",
    "#### Formulación de la función objetivo\n",
    "\n",
    "Queremos minimizar un costo:\n",
    "\n",
    "minimizar:  $0.013x_1+0.008x_2$\n",
    "\n",
    "\n",
    "#### Formulación de restricciones\n",
    "$$\\begin{split}1.000 x_1  + 1.000 x_2 &= 100.0\\\\\n",
    "0.100 x_1  + 0.200 x_2 &\\ge 8.0\\\\\n",
    "0.080 x_1  + 0.100 x_2 &\\ge 6.0\\\\\n",
    "0.001 x_1  + 0.005 x_2 &\\le 2.0\\\\\n",
    "0.002 x_1  + 0.005 x_2 &\\le 0.4\\\\\\end{split}$$\n",
    "\n",
    "#### Solución en Python\n"
   ]
  },
  {
   "cell_type": "code",
   "execution_count": 76,
   "metadata": {},
   "outputs": [],
   "source": [
    "from pulp import *\n",
    "prob = LpProblem(\"Problema_de_Whiskas\",LpMinimize)"
   ]
  },
  {
   "cell_type": "code",
   "execution_count": 77,
   "metadata": {},
   "outputs": [],
   "source": [
    "x1=LpVariable(\"Porcentajedepollo\",0)\n",
    "x2=LpVariable(\"Porcentajederes\",0)"
   ]
  },
  {
   "cell_type": "code",
   "execution_count": 78,
   "metadata": {},
   "outputs": [],
   "source": [
    "prob += 0.013*x1 + 0.008*x2, \"Costo total de ingredientes por lata\""
   ]
  },
  {
   "cell_type": "code",
   "execution_count": 79,
   "metadata": {},
   "outputs": [],
   "source": [
    "prob += x1 + x2 == 100, \"La suma de porcentajes\"\n",
    "prob += 0.100*x1 + 0.200*x2 >= 8.0, \"Proteina\"\n",
    "prob += 0.080*x1 + 0.100*x2 >= 6.0, \"Grasa\"\n",
    "prob += 0.001*x1 + 0.005*x2 <= 2.0, \"Fibra\"\n",
    "prob += 0.002*x1 + 0.005*x2 <= 0.4, \"Sal\""
   ]
  },
  {
   "cell_type": "code",
   "execution_count": 80,
   "metadata": {},
   "outputs": [
    {
     "data": {
      "text/plain": [
       "[Porcentajedepollo, Porcentajederes]"
      ]
     },
     "execution_count": 80,
     "metadata": {},
     "output_type": "execute_result"
    }
   ],
   "source": [
    "prob.writeLP(\"ModeloWhiskas.lp\")"
   ]
  },
  {
   "cell_type": "code",
   "execution_count": 81,
   "metadata": {},
   "outputs": [
    {
     "data": {
      "text/plain": [
       "Problema_de_Whiskas:\n",
       "MINIMIZE\n",
       "0.013*Porcentajedepollo + 0.008*Porcentajederes + 0.0\n",
       "SUBJECT TO\n",
       "La_suma_de_porcentajes: Porcentajedepollo + Porcentajederes = 100\n",
       "\n",
       "Proteina: 0.1 Porcentajedepollo + 0.2 Porcentajederes >= 8\n",
       "\n",
       "Grasa: 0.08 Porcentajedepollo + 0.1 Porcentajederes >= 6\n",
       "\n",
       "Fibra: 0.001 Porcentajedepollo + 0.005 Porcentajederes <= 2\n",
       "\n",
       "Sal: 0.002 Porcentajedepollo + 0.005 Porcentajederes <= 0.4\n",
       "\n",
       "VARIABLES\n",
       "Porcentajedepollo Continuous\n",
       "Porcentajederes Continuous"
      ]
     },
     "execution_count": 81,
     "metadata": {},
     "output_type": "execute_result"
    }
   ],
   "source": [
    "prob"
   ]
  },
  {
   "cell_type": "code",
   "execution_count": 82,
   "metadata": {},
   "outputs": [
    {
     "data": {
      "text/plain": [
       "1"
      ]
     },
     "execution_count": 82,
     "metadata": {},
     "output_type": "execute_result"
    }
   ],
   "source": [
    "prob.solve()"
   ]
  },
  {
   "cell_type": "code",
   "execution_count": 74,
   "metadata": {},
   "outputs": [
    {
     "name": "stdout",
     "output_type": "stream",
     "text": [
      "Estado: Optimal\n"
     ]
    }
   ],
   "source": [
    "print(\"Estado:\", LpStatus[prob.status])"
   ]
  },
  {
   "cell_type": "code",
   "execution_count": 75,
   "metadata": {},
   "outputs": [
    {
     "name": "stdout",
     "output_type": "stream",
     "text": [
      "Porcentajedepollo = 33.333333\n",
      "Porcentajederes = 66.666667\n"
     ]
    }
   ],
   "source": [
    "for v in prob.variables():\n",
    "    print(v.name, \"=\", v.varValue)"
   ]
  },
  {
   "cell_type": "code",
   "execution_count": 26,
   "metadata": {},
   "outputs": [
    {
     "name": "stdout",
     "output_type": "stream",
     "text": [
      "Costo de la lata=  0.966666665\n"
     ]
    }
   ],
   "source": [
    "print(\"Costo de la lata= \", value(prob.objective))"
   ]
  },
  {
   "cell_type": "markdown",
   "metadata": {},
   "source": [
    "\n",
    "###  Problema completo\n",
    "\n",
    "#### Identificación de variables de decisión\n",
    "\n",
    "\n",
    "Las variables de decisión son los porcentajes de los diferentes ingredientes que incluimos en la lata. Dado que la lata es de 100 g, estos porcentajes también representan la cantidad en g de cada ingrediente incluido. Debemos definir formalmente nuestras variables de decisión, asegurándonos de indicar las unidades que estamos usando.\n",
    "\n",
    "\n",
    "* $x1=$ porcentaje de pollo.\n",
    "\n",
    "* $x2=$ porcentaje de res.\n",
    "\n",
    "* $x3=$ porcentaje de cordero.\n",
    "\n",
    "* $x4=$ porcentaje de arroz.\n",
    "\n",
    "* $x5=$ porcentaje de trigo.\n",
    "\n",
    "* $x6=$ porcentaje de gel.\n"
   ]
  },
  {
   "cell_type": "markdown",
   "metadata": {},
   "source": [
    "Cada ingrediente contribuye al peso total de proteína, grasa, fibra y sal en el producto final. Las contribuciones (en gramos) por gramo de ingrediente se dan en la siguiente tabla.\n",
    "\n",
    "|Ingrediente|Proteina|Grasa|Fibra|Sal|\n",
    "|:-------|:---:|:---:|:---:|:---:|\n",
    "|Pollo|0.100|0.080|0.001|0.002|\n",
    "|Res|0.200|0.100|0.005|0.005|\n",
    "|Cordero|0.150|0.110|0.003|0.007|\n",
    "|Arroz|0.000|0.010|0.100|0.002|\n",
    "|Trigo|0.040|0.010|0.150|0.008|\n",
    "|Gel|0.000|0.000|0.000|0.000|\n",
    "\n",
    "Para cumplir con los requisitos del análisis nutricional, necesitamos tener al menos 8 g de proteína por 100 g, 6 g de grasa, pero no más de 2 g de fibra y 0,4 g de sal. "
   ]
  },
  {
   "cell_type": "markdown",
   "metadata": {},
   "source": [
    "#### Formulación de la función objetivo\n",
    "\n",
    "Queremos minimizar un costo:\n",
    "\n",
    "minimizar:  $0.013x_1+0.008x_2+0.010x_3+0.002x_4+0.005x_5+0.001x_6$"
   ]
  },
  {
   "cell_type": "markdown",
   "metadata": {},
   "source": [
    "#### Formulación de restricciones\n",
    "\n",
    "$$\\begin{split}0.100 x_1 +0.200 x_2 +0.150 x_3 +0.000 x_4 +0.040 x_5 +0.0 x_6 0&\\ge 8.0 \\\\\n",
    "0.080 x_1 +0.100 x_2 +0.110 x_3 +0.010 x_4 +0.010 x_5 0+0.0 x_6 &\\ge 6.0 \\\\\n",
    "0.001 x_1 +0.005 x_2 +0.003 x_3 +0.100 x_4 0+0.150 x_5 +0.0 x_6 &\\le 2.0 \\\\\n",
    "0.002 x_1 +0.005 x_2 +0.007 x_3 0+0.002 x_4 +0.008 x_5 +0.0 x_6 &\\le 0.4\\end{split}$$\n"
   ]
  },
  {
   "cell_type": "markdown",
   "metadata": {},
   "source": [
    "Intenta solucionar con Python."
   ]
  },
  {
   "cell_type": "code",
   "execution_count": 85,
   "metadata": {},
   "outputs": [],
   "source": [
    "import pandas as pd "
   ]
  },
  {
   "cell_type": "code",
   "execution_count": 86,
   "metadata": {},
   "outputs": [],
   "source": [
    "Whiskas=pd.read_excel(\"Whiskas.xlsx\",index_col=\"Ingredientes\")\n"
   ]
  },
  {
   "cell_type": "code",
   "execution_count": 87,
   "metadata": {},
   "outputs": [
    {
     "data": {
      "text/html": [
       "<div>\n",
       "<style scoped>\n",
       "    .dataframe tbody tr th:only-of-type {\n",
       "        vertical-align: middle;\n",
       "    }\n",
       "\n",
       "    .dataframe tbody tr th {\n",
       "        vertical-align: top;\n",
       "    }\n",
       "\n",
       "    .dataframe thead th {\n",
       "        text-align: right;\n",
       "    }\n",
       "</style>\n",
       "<table border=\"1\" class=\"dataframe\">\n",
       "  <thead>\n",
       "    <tr style=\"text-align: right;\">\n",
       "      <th></th>\n",
       "      <th>Proteina</th>\n",
       "      <th>Grasa</th>\n",
       "      <th>Fibra</th>\n",
       "      <th>Sal</th>\n",
       "      <th>Costos</th>\n",
       "    </tr>\n",
       "    <tr>\n",
       "      <th>Ingredientes</th>\n",
       "      <th></th>\n",
       "      <th></th>\n",
       "      <th></th>\n",
       "      <th></th>\n",
       "      <th></th>\n",
       "    </tr>\n",
       "  </thead>\n",
       "  <tbody>\n",
       "    <tr>\n",
       "      <th>Pollo</th>\n",
       "      <td>0.10</td>\n",
       "      <td>0.08</td>\n",
       "      <td>0.001</td>\n",
       "      <td>0.002</td>\n",
       "      <td>0.013</td>\n",
       "    </tr>\n",
       "    <tr>\n",
       "      <th>Res</th>\n",
       "      <td>0.20</td>\n",
       "      <td>0.10</td>\n",
       "      <td>0.005</td>\n",
       "      <td>0.005</td>\n",
       "      <td>0.008</td>\n",
       "    </tr>\n",
       "    <tr>\n",
       "      <th>Cordero</th>\n",
       "      <td>0.15</td>\n",
       "      <td>0.11</td>\n",
       "      <td>0.003</td>\n",
       "      <td>0.007</td>\n",
       "      <td>0.010</td>\n",
       "    </tr>\n",
       "    <tr>\n",
       "      <th>Arroz</th>\n",
       "      <td>0.00</td>\n",
       "      <td>0.01</td>\n",
       "      <td>0.100</td>\n",
       "      <td>0.002</td>\n",
       "      <td>0.002</td>\n",
       "    </tr>\n",
       "    <tr>\n",
       "      <th>Trigo</th>\n",
       "      <td>0.04</td>\n",
       "      <td>0.01</td>\n",
       "      <td>0.150</td>\n",
       "      <td>0.008</td>\n",
       "      <td>0.005</td>\n",
       "    </tr>\n",
       "    <tr>\n",
       "      <th>Gel</th>\n",
       "      <td>0.00</td>\n",
       "      <td>0.00</td>\n",
       "      <td>0.000</td>\n",
       "      <td>0.000</td>\n",
       "      <td>0.001</td>\n",
       "    </tr>\n",
       "  </tbody>\n",
       "</table>\n",
       "</div>"
      ],
      "text/plain": [
       "              Proteina  Grasa  Fibra    Sal  Costos\n",
       "Ingredientes                                       \n",
       "Pollo             0.10   0.08  0.001  0.002   0.013\n",
       "Res               0.20   0.10  0.005  0.005   0.008\n",
       "Cordero           0.15   0.11  0.003  0.007   0.010\n",
       "Arroz             0.00   0.01  0.100  0.002   0.002\n",
       "Trigo             0.04   0.01  0.150  0.008   0.005\n",
       "Gel               0.00   0.00  0.000  0.000   0.001"
      ]
     },
     "execution_count": 87,
     "metadata": {},
     "output_type": "execute_result"
    }
   ],
   "source": [
    "Whiskas"
   ]
  },
  {
   "cell_type": "code",
   "execution_count": 88,
   "metadata": {},
   "outputs": [],
   "source": [
    "prob2 = LpProblem(\"Problema_de_Whiskas\",LpMinimize)"
   ]
  },
  {
   "cell_type": "code",
   "execution_count": 89,
   "metadata": {},
   "outputs": [],
   "source": [
    "ingredient_vars = [LpVariable(i,0) for i in Whiskas.index]\n",
    "Ingredients=list(Whiskas.index)"
   ]
  },
  {
   "cell_type": "code",
   "execution_count": 90,
   "metadata": {},
   "outputs": [
    {
     "data": {
      "text/plain": [
       "[Pollo, Res, Cordero, Arroz, Trigo, Gel]"
      ]
     },
     "execution_count": 90,
     "metadata": {},
     "output_type": "execute_result"
    }
   ],
   "source": [
    "ingredient_vars"
   ]
  },
  {
   "cell_type": "code",
   "execution_count": 91,
   "metadata": {},
   "outputs": [],
   "source": [
    "prob2 += lpSum([Whiskas[\"Costos\"][i]*ingredient_vars[j] for j,i in enumerate(Ingredients)]), \"Costo por lata\""
   ]
  },
  {
   "cell_type": "code",
   "execution_count": 92,
   "metadata": {},
   "outputs": [
    {
     "data": {
      "text/plain": [
       "Problema_de_Whiskas:\n",
       "MINIMIZE\n",
       "0.002*Arroz + 0.01*Cordero + 0.001*Gel + 0.013*Pollo + 0.008*Res + 0.005*Trigo + 0.0\n",
       "VARIABLES\n",
       "Arroz Continuous\n",
       "Cordero Continuous\n",
       "Gel Continuous\n",
       "Pollo Continuous\n",
       "Res Continuous\n",
       "Trigo Continuous"
      ]
     },
     "execution_count": 92,
     "metadata": {},
     "output_type": "execute_result"
    }
   ],
   "source": [
    "prob2"
   ]
  },
  {
   "cell_type": "code",
   "execution_count": 93,
   "metadata": {},
   "outputs": [],
   "source": [
    "prob2 += lpSum([ingredient_vars[i] for i,j in enumerate(Ingredients)]) == 100, \"Porcentaje\"\n"
   ]
  },
  {
   "cell_type": "code",
   "execution_count": 94,
   "metadata": {},
   "outputs": [
    {
     "data": {
      "text/plain": [
       "Problema_de_Whiskas:\n",
       "MINIMIZE\n",
       "0.002*Arroz + 0.01*Cordero + 0.001*Gel + 0.013*Pollo + 0.008*Res + 0.005*Trigo + 0.0\n",
       "SUBJECT TO\n",
       "Porcentaje: Arroz + Cordero + Gel + Pollo + Res + Trigo = 100\n",
       "\n",
       "VARIABLES\n",
       "Arroz Continuous\n",
       "Cordero Continuous\n",
       "Gel Continuous\n",
       "Pollo Continuous\n",
       "Res Continuous\n",
       "Trigo Continuous"
      ]
     },
     "execution_count": 94,
     "metadata": {},
     "output_type": "execute_result"
    }
   ],
   "source": [
    "prob2"
   ]
  },
  {
   "cell_type": "code",
   "execution_count": 96,
   "metadata": {},
   "outputs": [],
   "source": [
    "prob2 += lpSum([Whiskas[\"Proteina\"][j] * ingredient_vars[i] for i,j in enumerate(Ingredients)]) >= 8.0, \"Proteina\"\n",
    "prob2 += lpSum([Whiskas[\"Grasa\"][j] * ingredient_vars[i] for i,j in enumerate(Ingredients)]) >= 6.0, \"Grasa\"\n",
    "prob2 += lpSum([Whiskas[\"Fibra\"][j] * ingredient_vars[i] for i,j in enumerate(Ingredients)]) <= 2.0, \"Fibra\"\n",
    "prob2 += lpSum([Whiskas[\"Sal\"][j] * ingredient_vars[i] for i,j in enumerate(Ingredients)]) <= 0.4, \"Sal\""
   ]
  },
  {
   "cell_type": "code",
   "execution_count": 97,
   "metadata": {},
   "outputs": [
    {
     "data": {
      "text/plain": [
       "Problema_de_Whiskas:\n",
       "MINIMIZE\n",
       "0.002*Arroz + 0.01*Cordero + 0.001*Gel + 0.013*Pollo + 0.008*Res + 0.005*Trigo + 0.0\n",
       "SUBJECT TO\n",
       "Porcentaje: Arroz + Cordero + Gel + Pollo + Res + Trigo = 100\n",
       "\n",
       "Proteina: 0.15 Cordero + 0.1 Pollo + 0.2 Res + 0.04 Trigo >= 8\n",
       "\n",
       "Grasa: 0.01 Arroz + 0.11 Cordero + 0.08 Pollo + 0.1 Res + 0.01 Trigo >= 6\n",
       "\n",
       "Fibra: 0.1 Arroz + 0.003 Cordero + 0.001 Pollo + 0.005 Res + 0.15 Trigo <= 2\n",
       "\n",
       "Sal: 0.002 Arroz + 0.007 Cordero + 0.002 Pollo + 0.005 Res + 0.008 Trigo\n",
       " <= 0.4\n",
       "\n",
       "VARIABLES\n",
       "Arroz Continuous\n",
       "Cordero Continuous\n",
       "Gel Continuous\n",
       "Pollo Continuous\n",
       "Res Continuous\n",
       "Trigo Continuous"
      ]
     },
     "execution_count": 97,
     "metadata": {},
     "output_type": "execute_result"
    }
   ],
   "source": [
    "prob2"
   ]
  },
  {
   "cell_type": "code",
   "execution_count": 98,
   "metadata": {},
   "outputs": [
    {
     "data": {
      "text/plain": [
       "1"
      ]
     },
     "execution_count": 98,
     "metadata": {},
     "output_type": "execute_result"
    }
   ],
   "source": [
    "prob2.solve()"
   ]
  },
  {
   "cell_type": "code",
   "execution_count": 99,
   "metadata": {},
   "outputs": [
    {
     "name": "stdout",
     "output_type": "stream",
     "text": [
      "Estado: Optimal\n"
     ]
    }
   ],
   "source": [
    "print(\"Estado:\", LpStatus[prob2.status])"
   ]
  },
  {
   "cell_type": "code",
   "execution_count": 100,
   "metadata": {},
   "outputs": [
    {
     "name": "stdout",
     "output_type": "stream",
     "text": [
      "Arroz = 0.0\n",
      "Cordero = 0.0\n",
      "Gel = 40.0\n",
      "Pollo = 0.0\n",
      "Res = 60.0\n",
      "Trigo = 0.0\n"
     ]
    }
   ],
   "source": [
    "for v in prob2.variables():\n",
    "    print(v.name, \"=\", v.varValue)"
   ]
  },
  {
   "cell_type": "code",
   "execution_count": 101,
   "metadata": {},
   "outputs": [
    {
     "name": "stdout",
     "output_type": "stream",
     "text": [
      "Costo de la lata=  0.52\n"
     ]
    }
   ],
   "source": [
    "print(\"Costo de la lata= \", value(prob2.objective))"
   ]
  },
  {
   "cell_type": "code",
   "execution_count": 103,
   "metadata": {},
   "outputs": [
    {
     "data": {
      "text/plain": [
       "<pulp.apis.coin_api.PULP_CBC_CMD at 0x7ff85037b1d0>"
      ]
     },
     "execution_count": 103,
     "metadata": {},
     "output_type": "execute_result"
    }
   ],
   "source": [
    "prob2.solver"
   ]
  }
 ],
 "metadata": {
  "kernelspec": {
   "display_name": "Python 3",
   "language": "python",
   "name": "python3"
  },
  "language_info": {
   "codemirror_mode": {
    "name": "ipython",
    "version": 3
   },
   "file_extension": ".py",
   "mimetype": "text/x-python",
   "name": "python",
   "nbconvert_exporter": "python",
   "pygments_lexer": "ipython3",
   "version": "3.8.5"
  },
  "toc": {
   "base_numbering": 1,
   "nav_menu": {},
   "number_sections": true,
   "sideBar": true,
   "skip_h1_title": false,
   "title_cell": "Programación lineal con Python",
   "title_sidebar": "Contents",
   "toc_cell": true,
   "toc_position": {},
   "toc_section_display": true,
   "toc_window_display": false
  }
 },
 "nbformat": 4,
 "nbformat_minor": 4
}
