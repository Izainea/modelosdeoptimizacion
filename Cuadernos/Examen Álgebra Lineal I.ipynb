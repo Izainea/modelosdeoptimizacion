{
 "cells": [
  {
   "cell_type": "markdown",
   "metadata": {},
   "source": [
    " <div style=\"background-color: #023324; \"><p><br></p>\n",
    "    <img src=\"https://www.uexternado.edu.co/wp-content/themes/externado_theme/images/logo-uec.svg\" alt=\"Universidad Externado\" width=\"150\" align=\"left\">\n",
    "         <h1  style=\"color: white;font-family:Lucida Sans Unicode, Lucida Grande, sans-serif\" align=\"center\">Examen I - Investigación de operaciones     </h1> \n",
    "<p><br></p>\n",
    "</div>  "
   ]
  },
  {
   "cell_type": "markdown",
   "metadata": {
    "toc": true
   },
   "source": [
    "<h1><span class=\"tocSkip\"></span></h1>\n",
    "<div class=\"toc\"><ul class=\"toc-item\"><li><span><a href=\"#Examen-I---Investigación-de-operaciones-----\" data-toc-modified-id=\"Examen-I---Investigación-de-operaciones------1\">Examen I - Investigación de operaciones     </a></span><ul class=\"toc-item\"><li><span><a href=\"#Resolución-sistemas-de-ecuaciones-y-operación-entre-matrices\" data-toc-modified-id=\"Resolución-sistemas-de-ecuaciones-y-operación-entre-matrices-1.1\">Resolución sistemas de ecuaciones y operación entre matrices</a></span><ul class=\"toc-item\"><li><ul class=\"toc-item\"><li><span><a href=\"#Problemas\" data-toc-modified-id=\"Problemas-1.1.0.1\">Problemas</a></span></li></ul></li></ul></li></ul></li></ul></div>"
   ]
  },
  {
   "cell_type": "markdown",
   "metadata": {},
   "source": [
    "## Resolución sistemas de ecuaciones y operación entre matrices\n",
    "\n",
    "1. Considere el sistema de ecuaciones lineales \n",
    "\n",
    "   \\begin{cases}\n",
    "     23.42x_1 - 16.89x_2 + 57.31x_3 + 82.6x_4 &= 2      158.36 \\\\\n",
    "    -14.77x_1 - 38.29x_2 + 92.36x_3 - 4.36x_4 &= -     1 123.02 \\\\\n",
    "    -77.21x_1 + 71.26x_2 - 16.55x_3 + 43.09x_4 &=     3 248.71 \\\\\n",
    "    91.82x_1 + 81.43x_2 + 33.94x_3 + 57.22x_4 &=       235.25\n",
    "   \\end{cases}\n",
    "\n",
    "   Resuelva el sistema por:\n",
    "   \n",
    "      1. Método de eliminación de Gauss-Jordan.\n",
    "      2. Regla cramer.\n",
    "\n",
    "2. El sistema de ecuaciones\n",
    "\n",
    "   \\begin{cases}\n",
    "     5x_1 - 2x_2 + 11x_3 -        16x_4 + 12x_5 &=     105 \\\\\n",
    "     -6x_1 + 8x_2 - 14x_3 -      9x_4 + 26x_5 &= -     62\\\\\n",
    "     7x_1 - 18x_2 - 12x_3 +     21x_4 - 2x_5 &=       53.\n",
    "   \\end{cases}\n",
    "   \n",
    "   tiene infinitas         soluciones.\n",
    "   \n",
    "   Determine 4 soluciones distintas del sistema de ecuaciones (Recuerde que una solución es un valor para cada incognita de la ecuación).\n",
    "\n",
    "3. Considere las matrices \n",
    "   \n",
    "    \\[ A=\n",
    "   \\begin{pmatrix}\n",
    "   4 & 5 & 7 & 8 \\\\\n",
    "   3 & 8 & -2 & 5 \\\\\n",
    "   8 & -4 & 4 & 6 \\\\\n",
    "   9 & 6 & 3 & 6 \\\\\n",
    "   \\end{pmatrix} \\ \\ \\ B =    \\begin{pmatrix}\n",
    "   -3 & 4 & 6 & 5 \\\\\n",
    "   7 & -5 & -3 & 2 \\\\\n",
    "   -8 & -5 & 7 & -6 \\\\\n",
    "   2 & -4 & 4 & -2 \\\\\n",
    "   \\end{pmatrix} \\ \\ \\ C =    \\begin{pmatrix}\n",
    "   2 & 7 & 9 & 3 \\\\\n",
    "   -3 & -6 & -7 & 5 \\\\\n",
    "   -7 & 3 & 5 & 2 \\\\\n",
    "   2 & 9 & 6 & 4 \\\\\n",
    "   \\end{pmatrix} \\ \\ \\ D =    \\begin{pmatrix}\n",
    "   5 & 3 & -6 & -7 \\\\\n",
    "   2 & 5 & -5 & 3 \\\\\n",
    "   7 & 2 & 8 & 7 \\\\\n",
    "   8 & 2 & 1 & 2 \\\\\n",
    "   \\end{pmatrix}\n",
    "   \\] \n",
    "   \n",
    "   Calcular las siguientes operaciones\n",
    "   \n",
    "   1. $(AB - 4BA)^3$.\n",
    "   2. $(C^{-1}+ D^{-1})^{-1}$\n",
    "   3. $((B^TC^{-1})-1 + 5D^T - 4(CD)^{-1})^2(AC -         4D^T)^T$.\n",
    "   4. Encuentre una matriz $F$  tal que $CBF =           FCB$.\n",
    "   "
   ]
  },
  {
   "cell_type": "markdown",
   "metadata": {},
   "source": [
    "#### Problemas \n",
    "\n",
    "**Ejercicio 1**\n",
    "\n",
    "*(Parte 1)* Un fabricante elabora dos productos, A y B. Por cada unidad que vende de A la ganancia es de $\\$8$, y por cada unidad que vende de B la ganancia es de $\\$11$. La experiencia le indica que puede venderse 25\\% más de A que de B.\n",
    "Para el año siguiente el fabricante desea una ganancia total de\n",
    "$\\$42,000$. ¿Cuántas unidades de cada producto debe vender?"
   ]
  },
  {
   "cell_type": "markdown",
   "metadata": {},
   "source": [
    "*(Parte 2)* Posteriormente el fabricante diseño un nuevo producto que generaba una ganancia de $\\$10$ por unidad, la inversión que hizo para lograr la creación del producto fue de $\\$1.500$ y su objetivo con este nuevo elemento del inventario es aumentar las ganacias anuales en $\\$20.000$. ¿Cuántas unidades debe vender de cada unidad para lograr su cometido?"
   ]
  },
  {
   "cell_type": "markdown",
   "metadata": {},
   "source": [
    "*(Parte 3)* El nivel de producción de la fábrica admite la creación de máximo 6000 productos al año ¿Puede haber una solución que permita los objetivos del fabricante en la *parte 2*?"
   ]
  },
  {
   "cell_type": "markdown",
   "metadata": {},
   "source": [
    "**Ejercicio 2**\n",
    "\n",
    "Una compañía de inversiones vende tres tipos de\n",
    "fondos de inversión, estándar (E), de lujo (D) y Gold Star (G).\n",
    "\n",
    "* Cada unidad de E tiene 12 acciones tipo A, 16 tipo B y 8 tipo C.\n",
    "\n",
    "* Cada unidad de D tiene 20 acciones tipo A, 12 tipo B y 28 de C.\n",
    "\n",
    "* Cada unidad de G tiene 32 acciones tipo A, 28 tipo B y 36 de C.\n",
    "\n",
    "Suponga que un inversionista desea comprar exactamente 220 acciones tipo A, 176 tipo B y 264 tipo C, y adquirir unidades de\n",
    "los tres fondos.\n",
    "\n",
    "1. Determine las combinaciones de unidades E, D y G que satisfagan los requerimientos del inversionista.\n",
    "2. Suponga que cada unidad de E cuesta al inversionista $\\$300$ (las de D y G, $\\$400$ y $\\$600$, respectivamente). ¿Cuáles de las combinaciones del inciso 1. minimizarán el costo total del inversionista?\n",
    " "
   ]
  },
  {
   "cell_type": "markdown",
   "metadata": {},
   "source": [
    "**Ejercicio 3**\n",
    "\n",
    "Para poder abrir un correo electrónico se necesita una clave conformada por cuatro dígitos distintos. La clave es desconocida pero se sabe que cumple las siguientes condiciones:\n",
    "  \n",
    "La suma de sus cifras es 19, si se intercambian el primer término con el segundo (de Izquierda a derecha) el numero aumenta en 4500 unidades, si se intercambian la tercera y cuarta cifra (de Izquierda a derecha) el número disminuye en 18 unidades, mientras que si se intercambian la segunda y tercera cifra (de Izquierda a derecha) el número aumenta en 20 unidades.\n",
    "\n",
    " Plantee un sistema de ecuaciones de manera detallada para encontrara la clave que permite abrir el correo electrónico. \n",
    " \n",
    "**Ejercicio 4**\n",
    "\n",
    "Cuatro siderúrgicas, cada uno especializado es un producto de manufactura distinto, está de acuerdo a compartir sus productos, Una se encarga de fabricar acero corten (C), otra industria produce acero inoxidable (I), otra acero galvanizado (G)  y otra acero asustado (A). La siguiente tabla muestra que fracción de cada tipo de acero recibirá cada una de las siderúrgicas. ¿Qué precios se debe cobrar por kilo de acero, si cada industria debe quedar a la par y el acero de menor precio tiene un valor de $30 us el kilo? \n",
    " \n",
    " \n",
    "| Productor<br><br>Consumidor \t|  C  \t|  I  \t|   G  \t|  A  \t|\n",
    "|:---------------------------:\t|:---:\t|:---:\t|:----:\t|:---:\t|\n",
    "|              C              \t|  0  \t| 1/4 \t|  1/8 \t| 1/6 \t|\n",
    "|              I              \t| 1/2 \t| 1/4 \t| 1/6  \t| 1/6 \t|\n",
    "|              G              \t| 1/4 \t| 1/4 \t|  1/2 \t| 1/3 \t|\n",
    "|              A              \t| 1/4 \t| 1/4 \t|  1/8 \t| 1/6 \t|\n",
    "\n"
   ]
  }
 ],
 "metadata": {
  "kernelspec": {
   "display_name": "Python 3",
   "language": "python",
   "name": "python3"
  },
  "language_info": {
   "codemirror_mode": {
    "name": "ipython",
    "version": 3
   },
   "file_extension": ".py",
   "mimetype": "text/x-python",
   "name": "python",
   "nbconvert_exporter": "python",
   "pygments_lexer": "ipython3",
   "version": "3.7.6"
  },
  "latex_envs": {
   "LaTeX_envs_menu_present": true,
   "autoclose": false,
   "autocomplete": true,
   "bibliofile": "biblio.bib",
   "cite_by": "apalike",
   "current_citInitial": 1,
   "eqLabelWithNumbers": true,
   "eqNumInitial": 1,
   "hotkeys": {
    "equation": "Ctrl-E",
    "itemize": "Ctrl-I"
   },
   "labels_anchors": false,
   "latex_user_defs": false,
   "report_style_numbering": false,
   "user_envs_cfg": false
  },
  "toc": {
   "base_numbering": 1,
   "nav_menu": {},
   "number_sections": false,
   "sideBar": true,
   "skip_h1_title": false,
   "title_cell": "",
   "title_sidebar": "Examen I",
   "toc_cell": true,
   "toc_position": {},
   "toc_section_display": true,
   "toc_window_display": false
  }
 },
 "nbformat": 4,
 "nbformat_minor": 2
}
