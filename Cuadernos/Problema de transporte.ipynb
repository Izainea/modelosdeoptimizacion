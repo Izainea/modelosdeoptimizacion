{
 "cells": [
  {
   "cell_type": "markdown",
   "metadata": {
    "toc": true
   },
   "source": [
    "<h1>Problema de Transporte<span class=\"tocSkip\"></span></h1>\n",
    "<div class=\"toc\"><ul class=\"toc-item\"></ul></div>"
   ]
  },
  {
   "cell_type": "markdown",
   "metadata": {},
   "source": [
    "Primero, iniciamos con la llamada del paquete PULP:"
   ]
  },
  {
   "cell_type": "code",
   "execution_count": 1,
   "metadata": {},
   "outputs": [],
   "source": [
    "from pulp import *"
   ]
  },
  {
   "cell_type": "markdown",
   "metadata": {},
   "source": [
    "Definimos en dos listas los nodos en nuestro problema de transporte:"
   ]
  },
  {
   "cell_type": "code",
   "execution_count": 2,
   "metadata": {},
   "outputs": [],
   "source": [
    "#Plantas de producción\n",
    "Plantas=[\"x1\",\"x2\",\"x3\"]\n",
    "#Centros de distribución (Llegada)\n",
    "Centros=[\"1\",\"2\",\"3\",\"4\"]"
   ]
  },
  {
   "cell_type": "markdown",
   "metadata": {},
   "source": [
    "Definimos, la producción de cada planta:"
   ]
  },
  {
   "cell_type": "code",
   "execution_count": 3,
   "metadata": {},
   "outputs": [],
   "source": [
    "produccion={\"x1\":5000,\"x2\":6000,\"x3\":2500}"
   ]
  },
  {
   "cell_type": "markdown",
   "metadata": {},
   "source": [
    "Ahora, definimos la demanda de cada centro de distribución:"
   ]
  },
  {
   "cell_type": "code",
   "execution_count": 4,
   "metadata": {},
   "outputs": [],
   "source": [
    "demanda={\"1\":6000,\"2\":4000,\"3\":2000,\"4\":1500}"
   ]
  },
  {
   "cell_type": "markdown",
   "metadata": {},
   "source": [
    "En una lista de listas incluimos los costos del problema:"
   ]
  },
  {
   "cell_type": "code",
   "execution_count": 5,
   "metadata": {},
   "outputs": [
    {
     "data": {
      "text/plain": [
       "defaultdict(<function pulp.utilities.__makeDict.<locals>.<lambda>()>,\n",
       "            {'x1': defaultdict(<function pulp.utilities.__makeDict.<locals>.<lambda>()>,\n",
       "                         {'1': 3, '2': 2, '3': 7, '4': 6}),\n",
       "             'x2': defaultdict(<function pulp.utilities.__makeDict.<locals>.<lambda>()>,\n",
       "                         {'1': 7, '2': 5, '3': 2, '4': 3}),\n",
       "             'x3': defaultdict(<function pulp.utilities.__makeDict.<locals>.<lambda>()>,\n",
       "                         {'1': 2, '2': 5, '3': 4, '4': 5})})"
      ]
     },
     "execution_count": 5,
     "metadata": {},
     "output_type": "execute_result"
    }
   ],
   "source": [
    "costos=[ \n",
    "    [3,2,7,6],\n",
    "    [7,5,2,3],\n",
    "    [2,5,4,5]\n",
    "]\n",
    "costos=makeDict([Plantas,Centros],costos,0)\n",
    "costos"
   ]
  },
  {
   "cell_type": "markdown",
   "metadata": {},
   "source": [
    "Ahora definimos el problema de Programación lineal asociado a este problema de transporte:"
   ]
  },
  {
   "cell_type": "code",
   "execution_count": 6,
   "metadata": {},
   "outputs": [],
   "source": [
    "probFoster=LpProblem(\"Problema_de_Foster\",LpMinimize)"
   ]
  },
  {
   "cell_type": "code",
   "execution_count": 7,
   "metadata": {},
   "outputs": [],
   "source": [
    "Rutas = [(p,c) for p in Plantas for c in Centros]"
   ]
  },
  {
   "cell_type": "code",
   "execution_count": 8,
   "metadata": {},
   "outputs": [
    {
     "data": {
      "text/plain": [
       "[('x1', '1'),\n",
       " ('x1', '2'),\n",
       " ('x1', '3'),\n",
       " ('x1', '4'),\n",
       " ('x2', '1'),\n",
       " ('x2', '2'),\n",
       " ('x2', '3'),\n",
       " ('x2', '4'),\n",
       " ('x3', '1'),\n",
       " ('x3', '2'),\n",
       " ('x3', '3'),\n",
       " ('x3', '4')]"
      ]
     },
     "execution_count": 8,
     "metadata": {},
     "output_type": "execute_result"
    }
   ],
   "source": [
    "Rutas"
   ]
  },
  {
   "cell_type": "markdown",
   "metadata": {},
   "source": [
    "Usando lo anterior, definimos las variables:"
   ]
  },
  {
   "cell_type": "code",
   "execution_count": 9,
   "metadata": {},
   "outputs": [],
   "source": [
    "variables=LpVariable.dicts(\"Ruta\",(Plantas,Centros),0,None,LpContinuous)"
   ]
  },
  {
   "cell_type": "code",
   "execution_count": 10,
   "metadata": {},
   "outputs": [
    {
     "data": {
      "text/plain": [
       "{'x1': {'1': Ruta_x1_1, '2': Ruta_x1_2, '3': Ruta_x1_3, '4': Ruta_x1_4},\n",
       " 'x2': {'1': Ruta_x2_1, '2': Ruta_x2_2, '3': Ruta_x2_3, '4': Ruta_x2_4},\n",
       " 'x3': {'1': Ruta_x3_1, '2': Ruta_x3_2, '3': Ruta_x3_3, '4': Ruta_x3_4}}"
      ]
     },
     "execution_count": 10,
     "metadata": {},
     "output_type": "execute_result"
    }
   ],
   "source": [
    "variables"
   ]
  },
  {
   "cell_type": "markdown",
   "metadata": {},
   "source": [
    "Describimos la función objetivo a partir de un for:"
   ]
  },
  {
   "cell_type": "code",
   "execution_count": 11,
   "metadata": {},
   "outputs": [],
   "source": [
    "probFoster+= lpSum([variables[p][c]*costos[p][c] for (p,c) in Rutas])"
   ]
  },
  {
   "cell_type": "code",
   "execution_count": 12,
   "metadata": {},
   "outputs": [],
   "source": [
    "for p in Plantas:\n",
    "    probFoster +=lpSum([variables[p][c] for c in Centros])<=produccion[p],\"Producción_en_%s\"%p"
   ]
  },
  {
   "cell_type": "markdown",
   "metadata": {},
   "source": [
    "Restricciones de acuerdo a demanda en los centros:"
   ]
  },
  {
   "cell_type": "code",
   "execution_count": 13,
   "metadata": {},
   "outputs": [],
   "source": [
    "for c in Centros:\n",
    "    probFoster +=lpSum([variables[p][c] for p in Plantas])>=demanda[c],\"Demanda_en_%s\"%c"
   ]
  },
  {
   "cell_type": "code",
   "execution_count": 14,
   "metadata": {},
   "outputs": [
    {
     "data": {
      "text/plain": [
       "<bound method LpProblem.writeLP of Problema_de_Foster:\n",
       "MINIMIZE\n",
       "3*Ruta_x1_1 + 2*Ruta_x1_2 + 7*Ruta_x1_3 + 6*Ruta_x1_4 + 7*Ruta_x2_1 + 5*Ruta_x2_2 + 2*Ruta_x2_3 + 3*Ruta_x2_4 + 2*Ruta_x3_1 + 5*Ruta_x3_2 + 4*Ruta_x3_3 + 5*Ruta_x3_4 + 0\n",
       "SUBJECT TO\n",
       "Producción_en_x1: Ruta_x1_1 + Ruta_x1_2 + Ruta_x1_3 + Ruta_x1_4 <= 5000\n",
       "\n",
       "Producción_en_x2: Ruta_x2_1 + Ruta_x2_2 + Ruta_x2_3 + Ruta_x2_4 <= 6000\n",
       "\n",
       "Producción_en_x3: Ruta_x3_1 + Ruta_x3_2 + Ruta_x3_3 + Ruta_x3_4 <= 2500\n",
       "\n",
       "Demanda_en_1: Ruta_x1_1 + Ruta_x2_1 + Ruta_x3_1 >= 6000\n",
       "\n",
       "Demanda_en_2: Ruta_x1_2 + Ruta_x2_2 + Ruta_x3_2 >= 4000\n",
       "\n",
       "Demanda_en_3: Ruta_x1_3 + Ruta_x2_3 + Ruta_x3_3 >= 2000\n",
       "\n",
       "Demanda_en_4: Ruta_x1_4 + Ruta_x2_4 + Ruta_x3_4 >= 1500\n",
       "\n",
       "VARIABLES\n",
       "Ruta_x1_1 Continuous\n",
       "Ruta_x1_2 Continuous\n",
       "Ruta_x1_3 Continuous\n",
       "Ruta_x1_4 Continuous\n",
       "Ruta_x2_1 Continuous\n",
       "Ruta_x2_2 Continuous\n",
       "Ruta_x2_3 Continuous\n",
       "Ruta_x2_4 Continuous\n",
       "Ruta_x3_1 Continuous\n",
       "Ruta_x3_2 Continuous\n",
       "Ruta_x3_3 Continuous\n",
       "Ruta_x3_4 Continuous\n",
       ">"
      ]
     },
     "execution_count": 14,
     "metadata": {},
     "output_type": "execute_result"
    }
   ],
   "source": [
    "probFoster.writeLP"
   ]
  },
  {
   "cell_type": "code",
   "execution_count": 15,
   "metadata": {},
   "outputs": [
    {
     "data": {
      "text/plain": [
       "1"
      ]
     },
     "execution_count": 15,
     "metadata": {},
     "output_type": "execute_result"
    }
   ],
   "source": [
    "probFoster.solve()"
   ]
  },
  {
   "cell_type": "code",
   "execution_count": 16,
   "metadata": {},
   "outputs": [
    {
     "name": "stdout",
     "output_type": "stream",
     "text": [
      "Ruta_x1_1 = 3500.0\n",
      "Ruta_x1_2 = 1500.0\n",
      "Ruta_x1_3 = 0.0\n",
      "Ruta_x1_4 = 0.0\n",
      "Ruta_x2_1 = 0.0\n",
      "Ruta_x2_2 = 2500.0\n",
      "Ruta_x2_3 = 2000.0\n",
      "Ruta_x2_4 = 1500.0\n",
      "Ruta_x3_1 = 2500.0\n",
      "Ruta_x3_2 = 0.0\n",
      "Ruta_x3_3 = 0.0\n",
      "Ruta_x3_4 = 0.0\n"
     ]
    }
   ],
   "source": [
    "for v in probFoster.variables():\n",
    "    print(v.name, \"=\", v.varValue)"
   ]
  },
  {
   "cell_type": "code",
   "execution_count": 17,
   "metadata": {},
   "outputs": [
    {
     "name": "stdout",
     "output_type": "stream",
     "text": [
      "Costominimo=  39500.0\n"
     ]
    }
   ],
   "source": [
    "print(\"Costominimo= \", value(probFoster.objective))"
   ]
  }
 ],
 "metadata": {
  "kernelspec": {
   "display_name": "Python 3",
   "language": "python",
   "name": "python3"
  },
  "language_info": {
   "codemirror_mode": {
    "name": "ipython",
    "version": 3
   },
   "file_extension": ".py",
   "mimetype": "text/x-python",
   "name": "python",
   "nbconvert_exporter": "python",
   "pygments_lexer": "ipython3",
   "version": "3.8.5"
  },
  "toc": {
   "base_numbering": 1,
   "nav_menu": {},
   "number_sections": true,
   "sideBar": true,
   "skip_h1_title": true,
   "title_cell": "Problema de Transporte",
   "title_sidebar": "Transporte",
   "toc_cell": true,
   "toc_position": {
    "height": "calc(100% - 180px)",
    "left": "10px",
    "top": "150px",
    "width": "202.8px"
   },
   "toc_section_display": true,
   "toc_window_display": false
  }
 },
 "nbformat": 4,
 "nbformat_minor": 4
}
